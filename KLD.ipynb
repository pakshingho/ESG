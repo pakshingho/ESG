{
 "cells": [
  {
   "cell_type": "markdown",
   "metadata": {},
   "source": [
    "# Connect to WRDS and Obtain Dataset."
   ]
  },
  {
   "cell_type": "code",
   "execution_count": 1,
   "metadata": {},
   "outputs": [],
   "source": [
    "import matplotlib.pyplot as plt"
   ]
  },
  {
   "cell_type": "code",
   "execution_count": 2,
   "metadata": {},
   "outputs": [
    {
     "name": "stdout",
     "output_type": "stream",
     "text": [
      "Loading library list...\n",
      "Done\n"
     ]
    }
   ],
   "source": [
    "import wrds\n",
    "db = wrds.Connection()"
   ]
  },
  {
   "cell_type": "markdown",
   "metadata": {},
   "source": [
    "Determine <em>datasets</em> within the <b>MSCI ESG KLD STATS</b> library with the vendor name <b>kld</b>:"
   ]
  },
  {
   "cell_type": "code",
   "execution_count": 3,
   "metadata": {},
   "outputs": [
    {
     "data": {
      "text/plain": [
       "['history', 'kldnames']"
      ]
     },
     "execution_count": 3,
     "metadata": {},
     "output_type": "execute_result"
    }
   ],
   "source": [
    "db.list_tables(library=\"kld\")"
   ]
  },
  {
   "cell_type": "markdown",
   "metadata": {},
   "source": [
    "Get data column names"
   ]
  },
  {
   "cell_type": "code",
   "execution_count": 4,
   "metadata": {
    "scrolled": true
   },
   "outputs": [
    {
     "name": "stdout",
     "output_type": "stream",
     "text": [
      "Approximately 53168 rows in kld.history.\n"
     ]
    },
    {
     "data": {
      "text/html": [
       "<div>\n",
       "<style scoped>\n",
       "    .dataframe tbody tr th:only-of-type {\n",
       "        vertical-align: middle;\n",
       "    }\n",
       "\n",
       "    .dataframe tbody tr th {\n",
       "        vertical-align: top;\n",
       "    }\n",
       "\n",
       "    .dataframe thead th {\n",
       "        text-align: right;\n",
       "    }\n",
       "</style>\n",
       "<table border=\"1\" class=\"dataframe\">\n",
       "  <thead>\n",
       "    <tr style=\"text-align: right;\">\n",
       "      <th></th>\n",
       "      <th>name</th>\n",
       "      <th>nullable</th>\n",
       "      <th>type</th>\n",
       "    </tr>\n",
       "  </thead>\n",
       "  <tbody>\n",
       "    <tr>\n",
       "      <td>0</td>\n",
       "      <td>companyname</td>\n",
       "      <td>True</td>\n",
       "      <td>VARCHAR(200)</td>\n",
       "    </tr>\n",
       "    <tr>\n",
       "      <td>1</td>\n",
       "      <td>cusip</td>\n",
       "      <td>True</td>\n",
       "      <td>VARCHAR(15)</td>\n",
       "    </tr>\n",
       "    <tr>\n",
       "      <td>2</td>\n",
       "      <td>ticker</td>\n",
       "      <td>True</td>\n",
       "      <td>VARCHAR(15)</td>\n",
       "    </tr>\n",
       "    <tr>\n",
       "      <td>3</td>\n",
       "      <td>companyid</td>\n",
       "      <td>True</td>\n",
       "      <td>VARCHAR(20)</td>\n",
       "    </tr>\n",
       "    <tr>\n",
       "      <td>4</td>\n",
       "      <td>env_str_a</td>\n",
       "      <td>True</td>\n",
       "      <td>DOUBLE PRECISION</td>\n",
       "    </tr>\n",
       "    <tr>\n",
       "      <td>...</td>\n",
       "      <td>...</td>\n",
       "      <td>...</td>\n",
       "      <td>...</td>\n",
       "    </tr>\n",
       "    <tr>\n",
       "      <td>163</td>\n",
       "      <td>pro_str_j</td>\n",
       "      <td>True</td>\n",
       "      <td>DOUBLE PRECISION</td>\n",
       "    </tr>\n",
       "    <tr>\n",
       "      <td>164</td>\n",
       "      <td>pro_str_k</td>\n",
       "      <td>True</td>\n",
       "      <td>DOUBLE PRECISION</td>\n",
       "    </tr>\n",
       "    <tr>\n",
       "      <td>165</td>\n",
       "      <td>year</td>\n",
       "      <td>True</td>\n",
       "      <td>DOUBLE PRECISION</td>\n",
       "    </tr>\n",
       "    <tr>\n",
       "      <td>166</td>\n",
       "      <td>pro_con_g</td>\n",
       "      <td>True</td>\n",
       "      <td>DOUBLE PRECISION</td>\n",
       "    </tr>\n",
       "    <tr>\n",
       "      <td>167</td>\n",
       "      <td>domicile</td>\n",
       "      <td>True</td>\n",
       "      <td>VARCHAR(2)</td>\n",
       "    </tr>\n",
       "  </tbody>\n",
       "</table>\n",
       "<p>168 rows × 3 columns</p>\n",
       "</div>"
      ],
      "text/plain": [
       "            name  nullable              type\n",
       "0    companyname      True      VARCHAR(200)\n",
       "1          cusip      True       VARCHAR(15)\n",
       "2         ticker      True       VARCHAR(15)\n",
       "3      companyid      True       VARCHAR(20)\n",
       "4      env_str_a      True  DOUBLE PRECISION\n",
       "..           ...       ...               ...\n",
       "163    pro_str_j      True  DOUBLE PRECISION\n",
       "164    pro_str_k      True  DOUBLE PRECISION\n",
       "165         year      True  DOUBLE PRECISION\n",
       "166    pro_con_g      True  DOUBLE PRECISION\n",
       "167     domicile      True        VARCHAR(2)\n",
       "\n",
       "[168 rows x 3 columns]"
      ]
     },
     "execution_count": 4,
     "metadata": {},
     "output_type": "execute_result"
    }
   ],
   "source": [
    "history = db.describe_table(library=\"kld\", table=\"history\")\n",
    "history"
   ]
  },
  {
   "cell_type": "code",
   "execution_count": 5,
   "metadata": {},
   "outputs": [],
   "source": [
    "colName = history.name"
   ]
  },
  {
   "cell_type": "markdown",
   "metadata": {},
   "source": [
    "Obtain full raw dataset."
   ]
  },
  {
   "cell_type": "code",
   "execution_count": 6,
   "metadata": {
    "scrolled": true
   },
   "outputs": [
    {
     "data": {
      "text/html": [
       "<div>\n",
       "<style scoped>\n",
       "    .dataframe tbody tr th:only-of-type {\n",
       "        vertical-align: middle;\n",
       "    }\n",
       "\n",
       "    .dataframe tbody tr th {\n",
       "        vertical-align: top;\n",
       "    }\n",
       "\n",
       "    .dataframe thead th {\n",
       "        text-align: right;\n",
       "    }\n",
       "</style>\n",
       "<table border=\"1\" class=\"dataframe\">\n",
       "  <thead>\n",
       "    <tr style=\"text-align: right;\">\n",
       "      <th></th>\n",
       "      <th>companyname</th>\n",
       "      <th>cusip</th>\n",
       "      <th>ticker</th>\n",
       "      <th>companyid</th>\n",
       "      <th>env_str_a</th>\n",
       "      <th>env_str_b</th>\n",
       "      <th>env_str_c</th>\n",
       "      <th>env_str_d</th>\n",
       "      <th>env_str_f</th>\n",
       "      <th>env_str_x</th>\n",
       "      <th>...</th>\n",
       "      <th>pro_str_e</th>\n",
       "      <th>pro_str_f</th>\n",
       "      <th>pro_str_g</th>\n",
       "      <th>pro_str_h</th>\n",
       "      <th>pro_str_i</th>\n",
       "      <th>pro_str_j</th>\n",
       "      <th>pro_str_k</th>\n",
       "      <th>year</th>\n",
       "      <th>pro_con_g</th>\n",
       "      <th>domicile</th>\n",
       "    </tr>\n",
       "  </thead>\n",
       "  <tbody>\n",
       "    <tr>\n",
       "      <td>0</td>\n",
       "      <td>AuthenTec, Inc.</td>\n",
       "      <td>52660107</td>\n",
       "      <td>None</td>\n",
       "      <td>15927</td>\n",
       "      <td>0.0</td>\n",
       "      <td>0.0</td>\n",
       "      <td>NaN</td>\n",
       "      <td>0.0</td>\n",
       "      <td>NaN</td>\n",
       "      <td>0.0</td>\n",
       "      <td>...</td>\n",
       "      <td>NaN</td>\n",
       "      <td>NaN</td>\n",
       "      <td>NaN</td>\n",
       "      <td>NaN</td>\n",
       "      <td>NaN</td>\n",
       "      <td>NaN</td>\n",
       "      <td>NaN</td>\n",
       "      <td>2010.0</td>\n",
       "      <td>NaN</td>\n",
       "      <td>None</td>\n",
       "    </tr>\n",
       "    <tr>\n",
       "      <td>1</td>\n",
       "      <td>Benihana Inc</td>\n",
       "      <td>82047200</td>\n",
       "      <td>None</td>\n",
       "      <td>10211</td>\n",
       "      <td>NaN</td>\n",
       "      <td>0.0</td>\n",
       "      <td>0.0</td>\n",
       "      <td>0.0</td>\n",
       "      <td>NaN</td>\n",
       "      <td>0.0</td>\n",
       "      <td>...</td>\n",
       "      <td>NaN</td>\n",
       "      <td>NaN</td>\n",
       "      <td>NaN</td>\n",
       "      <td>NaN</td>\n",
       "      <td>NaN</td>\n",
       "      <td>NaN</td>\n",
       "      <td>NaN</td>\n",
       "      <td>2010.0</td>\n",
       "      <td>NaN</td>\n",
       "      <td>None</td>\n",
       "    </tr>\n",
       "    <tr>\n",
       "      <td>2</td>\n",
       "      <td>MEDTOX Scientific, Inc.</td>\n",
       "      <td>58497720</td>\n",
       "      <td>None</td>\n",
       "      <td>16012</td>\n",
       "      <td>NaN</td>\n",
       "      <td>0.0</td>\n",
       "      <td>NaN</td>\n",
       "      <td>0.0</td>\n",
       "      <td>NaN</td>\n",
       "      <td>0.0</td>\n",
       "      <td>...</td>\n",
       "      <td>NaN</td>\n",
       "      <td>NaN</td>\n",
       "      <td>NaN</td>\n",
       "      <td>NaN</td>\n",
       "      <td>NaN</td>\n",
       "      <td>NaN</td>\n",
       "      <td>NaN</td>\n",
       "      <td>2010.0</td>\n",
       "      <td>NaN</td>\n",
       "      <td>None</td>\n",
       "    </tr>\n",
       "    <tr>\n",
       "      <td>3</td>\n",
       "      <td>AKER SOLUTIONS ASA</td>\n",
       "      <td>None</td>\n",
       "      <td>None</td>\n",
       "      <td>None</td>\n",
       "      <td>NaN</td>\n",
       "      <td>NaN</td>\n",
       "      <td>NaN</td>\n",
       "      <td>NaN</td>\n",
       "      <td>NaN</td>\n",
       "      <td>NaN</td>\n",
       "      <td>...</td>\n",
       "      <td>NaN</td>\n",
       "      <td>NaN</td>\n",
       "      <td>NaN</td>\n",
       "      <td>NaN</td>\n",
       "      <td>NaN</td>\n",
       "      <td>NaN</td>\n",
       "      <td>NaN</td>\n",
       "      <td>2014.0</td>\n",
       "      <td>NaN</td>\n",
       "      <td>NO</td>\n",
       "    </tr>\n",
       "    <tr>\n",
       "      <td>4</td>\n",
       "      <td>Capital Property Fund Ltd</td>\n",
       "      <td>None</td>\n",
       "      <td>None</td>\n",
       "      <td>None</td>\n",
       "      <td>NaN</td>\n",
       "      <td>NaN</td>\n",
       "      <td>NaN</td>\n",
       "      <td>NaN</td>\n",
       "      <td>NaN</td>\n",
       "      <td>NaN</td>\n",
       "      <td>...</td>\n",
       "      <td>NaN</td>\n",
       "      <td>NaN</td>\n",
       "      <td>NaN</td>\n",
       "      <td>NaN</td>\n",
       "      <td>NaN</td>\n",
       "      <td>NaN</td>\n",
       "      <td>NaN</td>\n",
       "      <td>2014.0</td>\n",
       "      <td>NaN</td>\n",
       "      <td>ZA</td>\n",
       "    </tr>\n",
       "    <tr>\n",
       "      <td>...</td>\n",
       "      <td>...</td>\n",
       "      <td>...</td>\n",
       "      <td>...</td>\n",
       "      <td>...</td>\n",
       "      <td>...</td>\n",
       "      <td>...</td>\n",
       "      <td>...</td>\n",
       "      <td>...</td>\n",
       "      <td>...</td>\n",
       "      <td>...</td>\n",
       "      <td>...</td>\n",
       "      <td>...</td>\n",
       "      <td>...</td>\n",
       "      <td>...</td>\n",
       "      <td>...</td>\n",
       "      <td>...</td>\n",
       "      <td>...</td>\n",
       "      <td>...</td>\n",
       "      <td>...</td>\n",
       "      <td>...</td>\n",
       "      <td>...</td>\n",
       "    </tr>\n",
       "    <tr>\n",
       "      <td>53163</td>\n",
       "      <td>Sealy Corporation</td>\n",
       "      <td>81213930</td>\n",
       "      <td>ZZ</td>\n",
       "      <td>13186</td>\n",
       "      <td>0.0</td>\n",
       "      <td>0.0</td>\n",
       "      <td>NaN</td>\n",
       "      <td>0.0</td>\n",
       "      <td>NaN</td>\n",
       "      <td>1.0</td>\n",
       "      <td>...</td>\n",
       "      <td>NaN</td>\n",
       "      <td>NaN</td>\n",
       "      <td>NaN</td>\n",
       "      <td>NaN</td>\n",
       "      <td>NaN</td>\n",
       "      <td>NaN</td>\n",
       "      <td>NaN</td>\n",
       "      <td>2010.0</td>\n",
       "      <td>NaN</td>\n",
       "      <td>None</td>\n",
       "    </tr>\n",
       "    <tr>\n",
       "      <td>53164</td>\n",
       "      <td>Sealy Corporation</td>\n",
       "      <td>81213930</td>\n",
       "      <td>ZZ</td>\n",
       "      <td>13186</td>\n",
       "      <td>0.0</td>\n",
       "      <td>0.0</td>\n",
       "      <td>NaN</td>\n",
       "      <td>0.0</td>\n",
       "      <td>NaN</td>\n",
       "      <td>1.0</td>\n",
       "      <td>...</td>\n",
       "      <td>NaN</td>\n",
       "      <td>NaN</td>\n",
       "      <td>NaN</td>\n",
       "      <td>NaN</td>\n",
       "      <td>NaN</td>\n",
       "      <td>NaN</td>\n",
       "      <td>NaN</td>\n",
       "      <td>2011.0</td>\n",
       "      <td>NaN</td>\n",
       "      <td>None</td>\n",
       "    </tr>\n",
       "    <tr>\n",
       "      <td>53165</td>\n",
       "      <td>Hubbell Incorporated</td>\n",
       "      <td>None</td>\n",
       "      <td>huba</td>\n",
       "      <td>None</td>\n",
       "      <td>0.0</td>\n",
       "      <td>0.0</td>\n",
       "      <td>0.0</td>\n",
       "      <td>0.0</td>\n",
       "      <td>0.0</td>\n",
       "      <td>0.0</td>\n",
       "      <td>...</td>\n",
       "      <td>NaN</td>\n",
       "      <td>NaN</td>\n",
       "      <td>NaN</td>\n",
       "      <td>NaN</td>\n",
       "      <td>NaN</td>\n",
       "      <td>NaN</td>\n",
       "      <td>NaN</td>\n",
       "      <td>1992.0</td>\n",
       "      <td>NaN</td>\n",
       "      <td>None</td>\n",
       "    </tr>\n",
       "    <tr>\n",
       "      <td>53166</td>\n",
       "      <td>NWNL Companies, Inc.</td>\n",
       "      <td>None</td>\n",
       "      <td>nwn</td>\n",
       "      <td>None</td>\n",
       "      <td>0.0</td>\n",
       "      <td>0.0</td>\n",
       "      <td>0.0</td>\n",
       "      <td>0.0</td>\n",
       "      <td>0.0</td>\n",
       "      <td>0.0</td>\n",
       "      <td>...</td>\n",
       "      <td>NaN</td>\n",
       "      <td>NaN</td>\n",
       "      <td>NaN</td>\n",
       "      <td>NaN</td>\n",
       "      <td>NaN</td>\n",
       "      <td>NaN</td>\n",
       "      <td>NaN</td>\n",
       "      <td>1992.0</td>\n",
       "      <td>NaN</td>\n",
       "      <td>None</td>\n",
       "    </tr>\n",
       "    <tr>\n",
       "      <td>53167</td>\n",
       "      <td>Westmoreland Coal Company</td>\n",
       "      <td>None</td>\n",
       "      <td>wcx</td>\n",
       "      <td>None</td>\n",
       "      <td>0.0</td>\n",
       "      <td>0.0</td>\n",
       "      <td>0.0</td>\n",
       "      <td>0.0</td>\n",
       "      <td>0.0</td>\n",
       "      <td>0.0</td>\n",
       "      <td>...</td>\n",
       "      <td>NaN</td>\n",
       "      <td>NaN</td>\n",
       "      <td>NaN</td>\n",
       "      <td>NaN</td>\n",
       "      <td>NaN</td>\n",
       "      <td>NaN</td>\n",
       "      <td>NaN</td>\n",
       "      <td>1992.0</td>\n",
       "      <td>NaN</td>\n",
       "      <td>None</td>\n",
       "    </tr>\n",
       "  </tbody>\n",
       "</table>\n",
       "<p>53168 rows × 168 columns</p>\n",
       "</div>"
      ],
      "text/plain": [
       "                     companyname     cusip ticker     companyid  env_str_a  \\\n",
       "0                AuthenTec, Inc.  52660107   None         15927        0.0   \n",
       "1                   Benihana Inc  82047200   None         10211        NaN   \n",
       "2        MEDTOX Scientific, Inc.  58497720   None         16012        NaN   \n",
       "3             AKER SOLUTIONS ASA      None   None          None        NaN   \n",
       "4      Capital Property Fund Ltd      None   None          None        NaN   \n",
       "...                          ...       ...    ...           ...        ...   \n",
       "53163          Sealy Corporation  81213930     ZZ         13186        0.0   \n",
       "53164          Sealy Corporation  81213930     ZZ         13186        0.0   \n",
       "53165       Hubbell Incorporated      None   huba          None        0.0   \n",
       "53166       NWNL Companies, Inc.      None    nwn          None        0.0   \n",
       "53167  Westmoreland Coal Company      None    wcx          None        0.0   \n",
       "\n",
       "       env_str_b  env_str_c  env_str_d  env_str_f  env_str_x  ...  pro_str_e  \\\n",
       "0            0.0        NaN        0.0        NaN        0.0  ...        NaN   \n",
       "1            0.0        0.0        0.0        NaN        0.0  ...        NaN   \n",
       "2            0.0        NaN        0.0        NaN        0.0  ...        NaN   \n",
       "3            NaN        NaN        NaN        NaN        NaN  ...        NaN   \n",
       "4            NaN        NaN        NaN        NaN        NaN  ...        NaN   \n",
       "...          ...        ...        ...        ...        ...  ...        ...   \n",
       "53163        0.0        NaN        0.0        NaN        1.0  ...        NaN   \n",
       "53164        0.0        NaN        0.0        NaN        1.0  ...        NaN   \n",
       "53165        0.0        0.0        0.0        0.0        0.0  ...        NaN   \n",
       "53166        0.0        0.0        0.0        0.0        0.0  ...        NaN   \n",
       "53167        0.0        0.0        0.0        0.0        0.0  ...        NaN   \n",
       "\n",
       "       pro_str_f  pro_str_g  pro_str_h  pro_str_i  pro_str_j  pro_str_k  \\\n",
       "0            NaN        NaN        NaN        NaN        NaN        NaN   \n",
       "1            NaN        NaN        NaN        NaN        NaN        NaN   \n",
       "2            NaN        NaN        NaN        NaN        NaN        NaN   \n",
       "3            NaN        NaN        NaN        NaN        NaN        NaN   \n",
       "4            NaN        NaN        NaN        NaN        NaN        NaN   \n",
       "...          ...        ...        ...        ...        ...        ...   \n",
       "53163        NaN        NaN        NaN        NaN        NaN        NaN   \n",
       "53164        NaN        NaN        NaN        NaN        NaN        NaN   \n",
       "53165        NaN        NaN        NaN        NaN        NaN        NaN   \n",
       "53166        NaN        NaN        NaN        NaN        NaN        NaN   \n",
       "53167        NaN        NaN        NaN        NaN        NaN        NaN   \n",
       "\n",
       "         year  pro_con_g  domicile  \n",
       "0      2010.0        NaN      None  \n",
       "1      2010.0        NaN      None  \n",
       "2      2010.0        NaN      None  \n",
       "3      2014.0        NaN        NO  \n",
       "4      2014.0        NaN        ZA  \n",
       "...       ...        ...       ...  \n",
       "53163  2010.0        NaN      None  \n",
       "53164  2011.0        NaN      None  \n",
       "53165  1992.0        NaN      None  \n",
       "53166  1992.0        NaN      None  \n",
       "53167  1992.0        NaN      None  \n",
       "\n",
       "[53168 rows x 168 columns]"
      ]
     },
     "execution_count": 6,
     "metadata": {},
     "output_type": "execute_result"
    }
   ],
   "source": [
    "# data = db.get_table(library='kld', table='history', columns=colName)\n",
    "data = db.get_table(library='kld', table='history')\n",
    "data"
   ]
  },
  {
   "cell_type": "code",
   "execution_count": 7,
   "metadata": {
    "scrolled": true
   },
   "outputs": [
    {
     "data": {
      "text/html": [
       "<div>\n",
       "<style scoped>\n",
       "    .dataframe tbody tr th:only-of-type {\n",
       "        vertical-align: middle;\n",
       "    }\n",
       "\n",
       "    .dataframe tbody tr th {\n",
       "        vertical-align: top;\n",
       "    }\n",
       "\n",
       "    .dataframe thead th {\n",
       "        text-align: right;\n",
       "    }\n",
       "</style>\n",
       "<table border=\"1\" class=\"dataframe\">\n",
       "  <thead>\n",
       "    <tr style=\"text-align: right;\">\n",
       "      <th></th>\n",
       "      <th>companyname</th>\n",
       "      <th>cusip</th>\n",
       "      <th>ticker</th>\n",
       "      <th>companyid</th>\n",
       "      <th>env_str_a</th>\n",
       "      <th>env_str_b</th>\n",
       "      <th>env_str_c</th>\n",
       "      <th>env_str_d</th>\n",
       "      <th>env_str_f</th>\n",
       "      <th>env_str_x</th>\n",
       "      <th>...</th>\n",
       "      <th>pro_str_e</th>\n",
       "      <th>pro_str_f</th>\n",
       "      <th>pro_str_g</th>\n",
       "      <th>pro_str_h</th>\n",
       "      <th>pro_str_i</th>\n",
       "      <th>pro_str_j</th>\n",
       "      <th>pro_str_k</th>\n",
       "      <th>year</th>\n",
       "      <th>pro_con_g</th>\n",
       "      <th>domicile</th>\n",
       "    </tr>\n",
       "  </thead>\n",
       "  <tbody>\n",
       "    <tr>\n",
       "      <td>8</td>\n",
       "      <td>Asia Pacific Telecom Co., Ltd.</td>\n",
       "      <td>TW000368</td>\n",
       "      <td>#N/A</td>\n",
       "      <td>None</td>\n",
       "      <td>NaN</td>\n",
       "      <td>NaN</td>\n",
       "      <td>NaN</td>\n",
       "      <td>NaN</td>\n",
       "      <td>NaN</td>\n",
       "      <td>NaN</td>\n",
       "      <td>...</td>\n",
       "      <td>0.0</td>\n",
       "      <td>NaN</td>\n",
       "      <td>NaN</td>\n",
       "      <td>NaN</td>\n",
       "      <td>1.0</td>\n",
       "      <td>NaN</td>\n",
       "      <td>NaN</td>\n",
       "      <td>2013.0</td>\n",
       "      <td>NaN</td>\n",
       "      <td>None</td>\n",
       "    </tr>\n",
       "    <tr>\n",
       "      <td>9</td>\n",
       "      <td>BRP Inc.</td>\n",
       "      <td>05577W20</td>\n",
       "      <td>#N/A</td>\n",
       "      <td>None</td>\n",
       "      <td>NaN</td>\n",
       "      <td>NaN</td>\n",
       "      <td>0.0</td>\n",
       "      <td>NaN</td>\n",
       "      <td>NaN</td>\n",
       "      <td>NaN</td>\n",
       "      <td>...</td>\n",
       "      <td>NaN</td>\n",
       "      <td>NaN</td>\n",
       "      <td>0.0</td>\n",
       "      <td>NaN</td>\n",
       "      <td>NaN</td>\n",
       "      <td>NaN</td>\n",
       "      <td>NaN</td>\n",
       "      <td>2013.0</td>\n",
       "      <td>NaN</td>\n",
       "      <td>None</td>\n",
       "    </tr>\n",
       "    <tr>\n",
       "      <td>10</td>\n",
       "      <td>CHINA CINDA ASSET MANAGEMENT CO., LTD</td>\n",
       "      <td>CNE10000</td>\n",
       "      <td>#N/A</td>\n",
       "      <td>None</td>\n",
       "      <td>NaN</td>\n",
       "      <td>NaN</td>\n",
       "      <td>NaN</td>\n",
       "      <td>NaN</td>\n",
       "      <td>NaN</td>\n",
       "      <td>NaN</td>\n",
       "      <td>...</td>\n",
       "      <td>NaN</td>\n",
       "      <td>NaN</td>\n",
       "      <td>NaN</td>\n",
       "      <td>NaN</td>\n",
       "      <td>NaN</td>\n",
       "      <td>NaN</td>\n",
       "      <td>NaN</td>\n",
       "      <td>2013.0</td>\n",
       "      <td>NaN</td>\n",
       "      <td>None</td>\n",
       "    </tr>\n",
       "    <tr>\n",
       "      <td>11</td>\n",
       "      <td>Iida Group Holdings Co., Ltd.</td>\n",
       "      <td>JP313109</td>\n",
       "      <td>#N/A</td>\n",
       "      <td>None</td>\n",
       "      <td>NaN</td>\n",
       "      <td>0.0</td>\n",
       "      <td>NaN</td>\n",
       "      <td>0.0</td>\n",
       "      <td>NaN</td>\n",
       "      <td>NaN</td>\n",
       "      <td>...</td>\n",
       "      <td>NaN</td>\n",
       "      <td>NaN</td>\n",
       "      <td>NaN</td>\n",
       "      <td>NaN</td>\n",
       "      <td>NaN</td>\n",
       "      <td>NaN</td>\n",
       "      <td>NaN</td>\n",
       "      <td>2013.0</td>\n",
       "      <td>NaN</td>\n",
       "      <td>None</td>\n",
       "    </tr>\n",
       "    <tr>\n",
       "      <td>12</td>\n",
       "      <td>IOI Properties Group Bhd</td>\n",
       "      <td>MYL5249O</td>\n",
       "      <td>#N/A</td>\n",
       "      <td>None</td>\n",
       "      <td>NaN</td>\n",
       "      <td>NaN</td>\n",
       "      <td>NaN</td>\n",
       "      <td>NaN</td>\n",
       "      <td>NaN</td>\n",
       "      <td>NaN</td>\n",
       "      <td>...</td>\n",
       "      <td>NaN</td>\n",
       "      <td>NaN</td>\n",
       "      <td>NaN</td>\n",
       "      <td>NaN</td>\n",
       "      <td>NaN</td>\n",
       "      <td>NaN</td>\n",
       "      <td>NaN</td>\n",
       "      <td>2013.0</td>\n",
       "      <td>NaN</td>\n",
       "      <td>None</td>\n",
       "    </tr>\n",
       "    <tr>\n",
       "      <td>...</td>\n",
       "      <td>...</td>\n",
       "      <td>...</td>\n",
       "      <td>...</td>\n",
       "      <td>...</td>\n",
       "      <td>...</td>\n",
       "      <td>...</td>\n",
       "      <td>...</td>\n",
       "      <td>...</td>\n",
       "      <td>...</td>\n",
       "      <td>...</td>\n",
       "      <td>...</td>\n",
       "      <td>...</td>\n",
       "      <td>...</td>\n",
       "      <td>...</td>\n",
       "      <td>...</td>\n",
       "      <td>...</td>\n",
       "      <td>...</td>\n",
       "      <td>...</td>\n",
       "      <td>...</td>\n",
       "      <td>...</td>\n",
       "      <td>...</td>\n",
       "    </tr>\n",
       "    <tr>\n",
       "      <td>3</td>\n",
       "      <td>AKER SOLUTIONS ASA</td>\n",
       "      <td>None</td>\n",
       "      <td>None</td>\n",
       "      <td>None</td>\n",
       "      <td>NaN</td>\n",
       "      <td>NaN</td>\n",
       "      <td>NaN</td>\n",
       "      <td>NaN</td>\n",
       "      <td>NaN</td>\n",
       "      <td>NaN</td>\n",
       "      <td>...</td>\n",
       "      <td>NaN</td>\n",
       "      <td>NaN</td>\n",
       "      <td>NaN</td>\n",
       "      <td>NaN</td>\n",
       "      <td>NaN</td>\n",
       "      <td>NaN</td>\n",
       "      <td>NaN</td>\n",
       "      <td>2014.0</td>\n",
       "      <td>NaN</td>\n",
       "      <td>NO</td>\n",
       "    </tr>\n",
       "    <tr>\n",
       "      <td>4</td>\n",
       "      <td>Capital Property Fund Ltd</td>\n",
       "      <td>None</td>\n",
       "      <td>None</td>\n",
       "      <td>None</td>\n",
       "      <td>NaN</td>\n",
       "      <td>NaN</td>\n",
       "      <td>NaN</td>\n",
       "      <td>NaN</td>\n",
       "      <td>NaN</td>\n",
       "      <td>NaN</td>\n",
       "      <td>...</td>\n",
       "      <td>NaN</td>\n",
       "      <td>NaN</td>\n",
       "      <td>NaN</td>\n",
       "      <td>NaN</td>\n",
       "      <td>NaN</td>\n",
       "      <td>NaN</td>\n",
       "      <td>NaN</td>\n",
       "      <td>2014.0</td>\n",
       "      <td>NaN</td>\n",
       "      <td>ZA</td>\n",
       "    </tr>\n",
       "    <tr>\n",
       "      <td>5</td>\n",
       "      <td>Intra-Cellular Therapies Inc</td>\n",
       "      <td>None</td>\n",
       "      <td>None</td>\n",
       "      <td>None</td>\n",
       "      <td>NaN</td>\n",
       "      <td>NaN</td>\n",
       "      <td>NaN</td>\n",
       "      <td>NaN</td>\n",
       "      <td>NaN</td>\n",
       "      <td>NaN</td>\n",
       "      <td>...</td>\n",
       "      <td>NaN</td>\n",
       "      <td>NaN</td>\n",
       "      <td>NaN</td>\n",
       "      <td>NaN</td>\n",
       "      <td>NaN</td>\n",
       "      <td>NaN</td>\n",
       "      <td>NaN</td>\n",
       "      <td>2014.0</td>\n",
       "      <td>NaN</td>\n",
       "      <td>US</td>\n",
       "    </tr>\n",
       "    <tr>\n",
       "      <td>6</td>\n",
       "      <td>Intra-Cellular Therapies Inc</td>\n",
       "      <td>None</td>\n",
       "      <td>None</td>\n",
       "      <td>None</td>\n",
       "      <td>NaN</td>\n",
       "      <td>NaN</td>\n",
       "      <td>NaN</td>\n",
       "      <td>NaN</td>\n",
       "      <td>NaN</td>\n",
       "      <td>NaN</td>\n",
       "      <td>...</td>\n",
       "      <td>NaN</td>\n",
       "      <td>NaN</td>\n",
       "      <td>NaN</td>\n",
       "      <td>NaN</td>\n",
       "      <td>NaN</td>\n",
       "      <td>NaN</td>\n",
       "      <td>NaN</td>\n",
       "      <td>2014.0</td>\n",
       "      <td>NaN</td>\n",
       "      <td>CA</td>\n",
       "    </tr>\n",
       "    <tr>\n",
       "      <td>7</td>\n",
       "      <td>MGM GROWTH PROPERTIES LLC</td>\n",
       "      <td>55303A10</td>\n",
       "      <td>None</td>\n",
       "      <td>None</td>\n",
       "      <td>NaN</td>\n",
       "      <td>NaN</td>\n",
       "      <td>NaN</td>\n",
       "      <td>NaN</td>\n",
       "      <td>NaN</td>\n",
       "      <td>NaN</td>\n",
       "      <td>...</td>\n",
       "      <td>NaN</td>\n",
       "      <td>NaN</td>\n",
       "      <td>NaN</td>\n",
       "      <td>NaN</td>\n",
       "      <td>NaN</td>\n",
       "      <td>NaN</td>\n",
       "      <td>NaN</td>\n",
       "      <td>2016.0</td>\n",
       "      <td>0.0</td>\n",
       "      <td>US</td>\n",
       "    </tr>\n",
       "  </tbody>\n",
       "</table>\n",
       "<p>53168 rows × 168 columns</p>\n",
       "</div>"
      ],
      "text/plain": [
       "                              companyname     cusip ticker companyid  \\\n",
       "8          Asia Pacific Telecom Co., Ltd.  TW000368   #N/A      None   \n",
       "9                                BRP Inc.  05577W20   #N/A      None   \n",
       "10  CHINA CINDA ASSET MANAGEMENT CO., LTD  CNE10000   #N/A      None   \n",
       "11          Iida Group Holdings Co., Ltd.  JP313109   #N/A      None   \n",
       "12               IOI Properties Group Bhd  MYL5249O   #N/A      None   \n",
       "..                                    ...       ...    ...       ...   \n",
       "3                      AKER SOLUTIONS ASA      None   None      None   \n",
       "4               Capital Property Fund Ltd      None   None      None   \n",
       "5            Intra-Cellular Therapies Inc      None   None      None   \n",
       "6            Intra-Cellular Therapies Inc      None   None      None   \n",
       "7               MGM GROWTH PROPERTIES LLC  55303A10   None      None   \n",
       "\n",
       "    env_str_a  env_str_b  env_str_c  env_str_d  env_str_f  env_str_x  ...  \\\n",
       "8         NaN        NaN        NaN        NaN        NaN        NaN  ...   \n",
       "9         NaN        NaN        0.0        NaN        NaN        NaN  ...   \n",
       "10        NaN        NaN        NaN        NaN        NaN        NaN  ...   \n",
       "11        NaN        0.0        NaN        0.0        NaN        NaN  ...   \n",
       "12        NaN        NaN        NaN        NaN        NaN        NaN  ...   \n",
       "..        ...        ...        ...        ...        ...        ...  ...   \n",
       "3         NaN        NaN        NaN        NaN        NaN        NaN  ...   \n",
       "4         NaN        NaN        NaN        NaN        NaN        NaN  ...   \n",
       "5         NaN        NaN        NaN        NaN        NaN        NaN  ...   \n",
       "6         NaN        NaN        NaN        NaN        NaN        NaN  ...   \n",
       "7         NaN        NaN        NaN        NaN        NaN        NaN  ...   \n",
       "\n",
       "    pro_str_e  pro_str_f  pro_str_g  pro_str_h  pro_str_i  pro_str_j  \\\n",
       "8         0.0        NaN        NaN        NaN        1.0        NaN   \n",
       "9         NaN        NaN        0.0        NaN        NaN        NaN   \n",
       "10        NaN        NaN        NaN        NaN        NaN        NaN   \n",
       "11        NaN        NaN        NaN        NaN        NaN        NaN   \n",
       "12        NaN        NaN        NaN        NaN        NaN        NaN   \n",
       "..        ...        ...        ...        ...        ...        ...   \n",
       "3         NaN        NaN        NaN        NaN        NaN        NaN   \n",
       "4         NaN        NaN        NaN        NaN        NaN        NaN   \n",
       "5         NaN        NaN        NaN        NaN        NaN        NaN   \n",
       "6         NaN        NaN        NaN        NaN        NaN        NaN   \n",
       "7         NaN        NaN        NaN        NaN        NaN        NaN   \n",
       "\n",
       "    pro_str_k    year  pro_con_g  domicile  \n",
       "8         NaN  2013.0        NaN      None  \n",
       "9         NaN  2013.0        NaN      None  \n",
       "10        NaN  2013.0        NaN      None  \n",
       "11        NaN  2013.0        NaN      None  \n",
       "12        NaN  2013.0        NaN      None  \n",
       "..        ...     ...        ...       ...  \n",
       "3         NaN  2014.0        NaN        NO  \n",
       "4         NaN  2014.0        NaN        ZA  \n",
       "5         NaN  2014.0        NaN        US  \n",
       "6         NaN  2014.0        NaN        CA  \n",
       "7         NaN  2016.0        0.0        US  \n",
       "\n",
       "[53168 rows x 168 columns]"
      ]
     },
     "execution_count": 7,
     "metadata": {},
     "output_type": "execute_result"
    }
   ],
   "source": [
    "data.sort_values(by=['ticker', 'year'])"
   ]
  },
  {
   "cell_type": "markdown",
   "metadata": {},
   "source": [
    "# Examine Dataset"
   ]
  },
  {
   "cell_type": "markdown",
   "metadata": {},
   "source": [
    "Full raw dataframe size:"
   ]
  },
  {
   "cell_type": "code",
   "execution_count": 8,
   "metadata": {},
   "outputs": [
    {
     "data": {
      "text/plain": [
       "(53168, 168)"
      ]
     },
     "execution_count": 8,
     "metadata": {},
     "output_type": "execute_result"
    }
   ],
   "source": [
    "data.shape"
   ]
  },
  {
   "cell_type": "markdown",
   "metadata": {},
   "source": [
    "Number of unique company based on <i>companyname</i> column:"
   ]
  },
  {
   "cell_type": "code",
   "execution_count": 9,
   "metadata": {},
   "outputs": [
    {
     "data": {
      "text/plain": [
       "13730"
      ]
     },
     "execution_count": 9,
     "metadata": {},
     "output_type": "execute_result"
    }
   ],
   "source": [
    "data.companyname.nunique()"
   ]
  },
  {
   "cell_type": "markdown",
   "metadata": {},
   "source": [
    "## 1. Look at <i>domicile</i> columns"
   ]
  },
  {
   "cell_type": "code",
   "execution_count": 10,
   "metadata": {},
   "outputs": [
    {
     "data": {
      "text/plain": [
       "45749"
      ]
     },
     "execution_count": 10,
     "metadata": {},
     "output_type": "execute_result"
    }
   ],
   "source": [
    "sum(data['domicile'].isna())"
   ]
  },
  {
   "cell_type": "code",
   "execution_count": 11,
   "metadata": {},
   "outputs": [
    {
     "data": {
      "text/plain": [
       "7419"
      ]
     },
     "execution_count": 11,
     "metadata": {},
     "output_type": "execute_result"
    }
   ],
   "source": [
    "sum(data['domicile'].notna())"
   ]
  },
  {
   "cell_type": "code",
   "execution_count": 12,
   "metadata": {},
   "outputs": [
    {
     "data": {
      "text/plain": [
       "4623"
      ]
     },
     "execution_count": 12,
     "metadata": {},
     "output_type": "execute_result"
    }
   ],
   "source": [
    "sum(data['domicile']=='US')"
   ]
  },
  {
   "cell_type": "code",
   "execution_count": 13,
   "metadata": {},
   "outputs": [
    {
     "data": {
      "text/plain": [
       "0"
      ]
     },
     "execution_count": 13,
     "metadata": {},
     "output_type": "execute_result"
    }
   ],
   "source": [
    "sum(data['domicile']=='#N/A')"
   ]
  },
  {
   "cell_type": "markdown",
   "metadata": {},
   "source": [
    "The <i>domicile</i> column is not very informative!"
   ]
  },
  {
   "cell_type": "markdown",
   "metadata": {},
   "source": [
    "## 2. Look at <i>ticker</i> column."
   ]
  },
  {
   "cell_type": "code",
   "execution_count": 14,
   "metadata": {
    "scrolled": true
   },
   "outputs": [
    {
     "data": {
      "text/plain": [
       "8"
      ]
     },
     "execution_count": 14,
     "metadata": {},
     "output_type": "execute_result"
    }
   ],
   "source": [
    "sum(data['ticker'].isna())"
   ]
  },
  {
   "cell_type": "code",
   "execution_count": 15,
   "metadata": {},
   "outputs": [
    {
     "data": {
      "text/plain": [
       "53160"
      ]
     },
     "execution_count": 15,
     "metadata": {},
     "output_type": "execute_result"
    }
   ],
   "source": [
    "sum(data['ticker'].notna())"
   ]
  },
  {
   "cell_type": "code",
   "execution_count": 16,
   "metadata": {},
   "outputs": [
    {
     "data": {
      "text/plain": [
       "33"
      ]
     },
     "execution_count": 16,
     "metadata": {},
     "output_type": "execute_result"
    }
   ],
   "source": [
    "sum(data['ticker']=='#N/A')"
   ]
  },
  {
   "cell_type": "code",
   "execution_count": 17,
   "metadata": {},
   "outputs": [
    {
     "data": {
      "text/plain": [
       "0"
      ]
     },
     "execution_count": 17,
     "metadata": {},
     "output_type": "execute_result"
    }
   ],
   "source": [
    "sum(data['ticker']==\"None\")"
   ]
  },
  {
   "cell_type": "code",
   "execution_count": 18,
   "metadata": {
    "scrolled": true
   },
   "outputs": [
    {
     "data": {
      "text/plain": [
       "0                 AuthenTec, Inc.\n",
       "1                    Benihana Inc\n",
       "2         MEDTOX Scientific, Inc.\n",
       "3              AKER SOLUTIONS ASA\n",
       "4       Capital Property Fund Ltd\n",
       "5    Intra-Cellular Therapies Inc\n",
       "6    Intra-Cellular Therapies Inc\n",
       "7       MGM GROWTH PROPERTIES LLC\n",
       "Name: companyname, dtype: object"
      ]
     },
     "execution_count": 18,
     "metadata": {},
     "output_type": "execute_result"
    }
   ],
   "source": [
    "data[data['ticker'].isna()].companyname"
   ]
  },
  {
   "cell_type": "code",
   "execution_count": 19,
   "metadata": {
    "scrolled": true
   },
   "outputs": [
    {
     "data": {
      "text/plain": [
       "8             Asia Pacific Telecom Co., Ltd.\n",
       "9                                   BRP Inc.\n",
       "10     CHINA CINDA ASSET MANAGEMENT CO., LTD\n",
       "11             Iida Group Holdings Co., Ltd.\n",
       "12                  IOI Properties Group Bhd\n",
       "13                              MMVB-RTS OAO\n",
       "14                     Multiplex SITES Trust\n",
       "15                 Agios Pharmaceuticals Inc\n",
       "16           ALLEGION PUBLIC LIMITED COMPANY\n",
       "17     AMERICAN RESIDENTIAL PROPERTIES, INC.\n",
       "18                  Aratana Therapeutics Inc\n",
       "19     Artisan Partners Asset Management Inc\n",
       "20           Ashford Hospitality Prime, Inc.\n",
       "21                           AVIV REIT, INC.\n",
       "22         Diamond Resorts International Inc\n",
       "23        Envision Healthcare Holdings, Inc.\n",
       "24                               Epizyme Inc\n",
       "25              FAIRWAY GROUP HOLDINGS CORP.\n",
       "26                 First NBC Bank Holding Co\n",
       "27                 FOX FACTORY HOLDING CORP.\n",
       "28                       FTD COMPANIES, INC.\n",
       "29                               Gigamon Inc\n",
       "30    GLOBAL BRASS AND COPPER HOLDINGS, INC.\n",
       "31                        Marin Software Inc\n",
       "32                               Marketo Inc\n",
       "33                       PINNACLE FOODS INC.\n",
       "34                      PTC Therapeutics Inc\n",
       "35           Rally Software Development Corp\n",
       "36                              Receptos Inc\n",
       "37                Silver Spring Networks Inc\n",
       "38       Starwood Waypoint Residential Trust\n",
       "39          TAYLOR MORRISON HOME CORPORATION\n",
       "40                          WEST CORPORATION\n",
       "Name: companyname, dtype: object"
      ]
     },
     "execution_count": 19,
     "metadata": {},
     "output_type": "execute_result"
    }
   ],
   "source": [
    "data[data['ticker']=='#N/A'].companyname"
   ]
  },
  {
   "cell_type": "markdown",
   "metadata": {},
   "source": [
    "A list of missing ticker observations"
   ]
  },
  {
   "cell_type": "code",
   "execution_count": 20,
   "metadata": {},
   "outputs": [],
   "source": [
    "missingTickerList = data[data['ticker'].isna()].companyname.append(data[data['ticker']=='#N/A'].companyname)"
   ]
  },
  {
   "cell_type": "code",
   "execution_count": 21,
   "metadata": {},
   "outputs": [
    {
     "data": {
      "text/html": [
       "<div>\n",
       "<style scoped>\n",
       "    .dataframe tbody tr th:only-of-type {\n",
       "        vertical-align: middle;\n",
       "    }\n",
       "\n",
       "    .dataframe tbody tr th {\n",
       "        vertical-align: top;\n",
       "    }\n",
       "\n",
       "    .dataframe thead th {\n",
       "        text-align: right;\n",
       "    }\n",
       "</style>\n",
       "<table border=\"1\" class=\"dataframe\">\n",
       "  <thead>\n",
       "    <tr style=\"text-align: right;\">\n",
       "      <th></th>\n",
       "      <th>companyname</th>\n",
       "      <th>cusip</th>\n",
       "      <th>ticker</th>\n",
       "      <th>companyid</th>\n",
       "      <th>year</th>\n",
       "      <th>domicile</th>\n",
       "    </tr>\n",
       "  </thead>\n",
       "  <tbody>\n",
       "    <tr>\n",
       "      <td>3</td>\n",
       "      <td>AKER SOLUTIONS ASA</td>\n",
       "      <td>None</td>\n",
       "      <td>None</td>\n",
       "      <td>None</td>\n",
       "      <td>2014.0</td>\n",
       "      <td>NO</td>\n",
       "    </tr>\n",
       "    <tr>\n",
       "      <td>3546</td>\n",
       "      <td>AKER SOLUTIONS ASA</td>\n",
       "      <td>00973L10</td>\n",
       "      <td>AKSO</td>\n",
       "      <td>None</td>\n",
       "      <td>2013.0</td>\n",
       "      <td>None</td>\n",
       "    </tr>\n",
       "    <tr>\n",
       "      <td>3790</td>\n",
       "      <td>ALLEGION PUBLIC LIMITED COMPANY</td>\n",
       "      <td>None</td>\n",
       "      <td>ALLE</td>\n",
       "      <td>None</td>\n",
       "      <td>2015.0</td>\n",
       "      <td>IE</td>\n",
       "    </tr>\n",
       "    <tr>\n",
       "      <td>16</td>\n",
       "      <td>ALLEGION PUBLIC LIMITED COMPANY</td>\n",
       "      <td>01748TAA</td>\n",
       "      <td>#N/A</td>\n",
       "      <td>None</td>\n",
       "      <td>2013.0</td>\n",
       "      <td>None</td>\n",
       "    </tr>\n",
       "    <tr>\n",
       "      <td>3789</td>\n",
       "      <td>ALLEGION PUBLIC LIMITED COMPANY</td>\n",
       "      <td>IE00BFRT</td>\n",
       "      <td>ALLE</td>\n",
       "      <td>None</td>\n",
       "      <td>2014.0</td>\n",
       "      <td>None</td>\n",
       "    </tr>\n",
       "    <tr>\n",
       "      <td>...</td>\n",
       "      <td>...</td>\n",
       "      <td>...</td>\n",
       "      <td>...</td>\n",
       "      <td>...</td>\n",
       "      <td>...</td>\n",
       "      <td>...</td>\n",
       "    </tr>\n",
       "    <tr>\n",
       "      <td>39</td>\n",
       "      <td>TAYLOR MORRISON HOME CORPORATION</td>\n",
       "      <td>87724P10</td>\n",
       "      <td>#N/A</td>\n",
       "      <td>None</td>\n",
       "      <td>2013.0</td>\n",
       "      <td>None</td>\n",
       "    </tr>\n",
       "    <tr>\n",
       "      <td>52167</td>\n",
       "      <td>WEST CORPORATION</td>\n",
       "      <td>95235520</td>\n",
       "      <td>WSTC</td>\n",
       "      <td>None</td>\n",
       "      <td>2015.0</td>\n",
       "      <td>US</td>\n",
       "    </tr>\n",
       "    <tr>\n",
       "      <td>40</td>\n",
       "      <td>WEST CORPORATION</td>\n",
       "      <td>95235520</td>\n",
       "      <td>#N/A</td>\n",
       "      <td>None</td>\n",
       "      <td>2013.0</td>\n",
       "      <td>None</td>\n",
       "    </tr>\n",
       "    <tr>\n",
       "      <td>52166</td>\n",
       "      <td>WEST CORPORATION</td>\n",
       "      <td>95235520</td>\n",
       "      <td>WSTC</td>\n",
       "      <td>None</td>\n",
       "      <td>2014.0</td>\n",
       "      <td>None</td>\n",
       "    </tr>\n",
       "    <tr>\n",
       "      <td>52168</td>\n",
       "      <td>WEST CORPORATION</td>\n",
       "      <td>95235520</td>\n",
       "      <td>WSTC</td>\n",
       "      <td>None</td>\n",
       "      <td>2016.0</td>\n",
       "      <td>US</td>\n",
       "    </tr>\n",
       "  </tbody>\n",
       "</table>\n",
       "<p>107 rows × 6 columns</p>\n",
       "</div>"
      ],
      "text/plain": [
       "                            companyname     cusip ticker companyid    year  \\\n",
       "3                    AKER SOLUTIONS ASA      None   None      None  2014.0   \n",
       "3546                 AKER SOLUTIONS ASA  00973L10   AKSO      None  2013.0   \n",
       "3790    ALLEGION PUBLIC LIMITED COMPANY      None   ALLE      None  2015.0   \n",
       "16      ALLEGION PUBLIC LIMITED COMPANY  01748TAA   #N/A      None  2013.0   \n",
       "3789    ALLEGION PUBLIC LIMITED COMPANY  IE00BFRT   ALLE      None  2014.0   \n",
       "...                                 ...       ...    ...       ...     ...   \n",
       "39     TAYLOR MORRISON HOME CORPORATION  87724P10   #N/A      None  2013.0   \n",
       "52167                  WEST CORPORATION  95235520   WSTC      None  2015.0   \n",
       "40                     WEST CORPORATION  95235520   #N/A      None  2013.0   \n",
       "52166                  WEST CORPORATION  95235520   WSTC      None  2014.0   \n",
       "52168                  WEST CORPORATION  95235520   WSTC      None  2016.0   \n",
       "\n",
       "      domicile  \n",
       "3           NO  \n",
       "3546      None  \n",
       "3790        IE  \n",
       "16        None  \n",
       "3789      None  \n",
       "...        ...  \n",
       "39        None  \n",
       "52167       US  \n",
       "40        None  \n",
       "52166     None  \n",
       "52168       US  \n",
       "\n",
       "[107 rows x 6 columns]"
      ]
     },
     "execution_count": 21,
     "metadata": {},
     "output_type": "execute_result"
    }
   ],
   "source": [
    "data[data['companyname'].isin(missingTickerList.unique())].sort_values('companyname')[['companyname', 'cusip', 'ticker', 'companyid','year', 'domicile']]"
   ]
  },
  {
   "cell_type": "code",
   "execution_count": 22,
   "metadata": {
    "scrolled": true
   },
   "outputs": [
    {
     "data": {
      "text/plain": [
       "40"
      ]
     },
     "execution_count": 22,
     "metadata": {},
     "output_type": "execute_result"
    }
   ],
   "source": [
    "data[data['companyname'].isin(missingTickerList.unique())].companyname.nunique()"
   ]
  },
  {
   "cell_type": "code",
   "execution_count": 23,
   "metadata": {},
   "outputs": [
    {
     "data": {
      "text/plain": [
       "40"
      ]
     },
     "execution_count": 23,
     "metadata": {},
     "output_type": "execute_result"
    }
   ],
   "source": [
    "missingTickerList.nunique()"
   ]
  },
  {
   "cell_type": "code",
   "execution_count": 24,
   "metadata": {
    "scrolled": true
   },
   "outputs": [
    {
     "data": {
      "text/plain": [
       "count                               41\n",
       "unique                              40\n",
       "top       Intra-Cellular Therapies Inc\n",
       "freq                                 2\n",
       "Name: companyname, dtype: object"
      ]
     },
     "execution_count": 24,
     "metadata": {},
     "output_type": "execute_result"
    }
   ],
   "source": [
    "missingTickerList.describe()"
   ]
  },
  {
   "cell_type": "markdown",
   "metadata": {},
   "source": [
    "## 3. Look at <i>cusip</i> column."
   ]
  },
  {
   "cell_type": "code",
   "execution_count": 25,
   "metadata": {},
   "outputs": [
    {
     "data": {
      "text/plain": [
       "5639"
      ]
     },
     "execution_count": 25,
     "metadata": {},
     "output_type": "execute_result"
    }
   ],
   "source": [
    "sum(data['cusip'].isna())"
   ]
  },
  {
   "cell_type": "code",
   "execution_count": 26,
   "metadata": {},
   "outputs": [
    {
     "data": {
      "text/plain": [
       "2"
      ]
     },
     "execution_count": 26,
     "metadata": {},
     "output_type": "execute_result"
    }
   ],
   "source": [
    "sum(data['cusip']=='#N/A')"
   ]
  },
  {
   "cell_type": "code",
   "execution_count": 27,
   "metadata": {
    "scrolled": false
   },
   "outputs": [
    {
     "data": {
      "text/plain": [
       "0      companyname\n",
       "1            cusip\n",
       "2           ticker\n",
       "3        companyid\n",
       "4        env_str_a\n",
       "          ...     \n",
       "163      pro_str_j\n",
       "164      pro_str_k\n",
       "165           year\n",
       "166      pro_con_g\n",
       "167       domicile\n",
       "Name: name, Length: 168, dtype: object"
      ]
     },
     "execution_count": 27,
     "metadata": {},
     "output_type": "execute_result"
    }
   ],
   "source": [
    "colName"
   ]
  },
  {
   "cell_type": "markdown",
   "metadata": {},
   "source": [
    "## 4. Construct Overal KLD Indices\n",
    "### 4.1 Collect positive and negative performance indicator list\n",
    "Column names contains \"str\" (\"con\") corresponding to positive (negative) performance indicators, respectively."
   ]
  },
  {
   "cell_type": "code",
   "execution_count": 28,
   "metadata": {},
   "outputs": [
    {
     "data": {
      "text/plain": [
       "80"
      ]
     },
     "execution_count": 28,
     "metadata": {},
     "output_type": "execute_result"
    }
   ],
   "source": [
    "sum(colName.str.contains(\"str\"))"
   ]
  },
  {
   "cell_type": "markdown",
   "metadata": {},
   "source": [
    "Column names contains \"_num\" represent total number of particular category indicators."
   ]
  },
  {
   "cell_type": "code",
   "execution_count": 29,
   "metadata": {},
   "outputs": [
    {
     "data": {
      "text/plain": [
       "8"
      ]
     },
     "execution_count": 29,
     "metadata": {},
     "output_type": "execute_result"
    }
   ],
   "source": [
    "sum(colName.str.contains(\"str_num\"))"
   ]
  },
  {
   "cell_type": "code",
   "execution_count": 30,
   "metadata": {},
   "outputs": [
    {
     "data": {
      "text/plain": [
       "82"
      ]
     },
     "execution_count": 30,
     "metadata": {},
     "output_type": "execute_result"
    }
   ],
   "source": [
    "sum(colName.str.contains(\"con\"))"
   ]
  },
  {
   "cell_type": "code",
   "execution_count": 31,
   "metadata": {},
   "outputs": [
    {
     "data": {
      "text/plain": [
       "12"
      ]
     },
     "execution_count": 31,
     "metadata": {},
     "output_type": "execute_result"
    }
   ],
   "source": [
    "sum(colName.str.contains(\"con_num\"))"
   ]
  },
  {
   "cell_type": "markdown",
   "metadata": {},
   "source": [
    "Collecting positive indicators using individual indicator method:"
   ]
  },
  {
   "cell_type": "code",
   "execution_count": 32,
   "metadata": {},
   "outputs": [
    {
     "data": {
      "text/plain": [
       "72"
      ]
     },
     "execution_count": 32,
     "metadata": {},
     "output_type": "execute_result"
    }
   ],
   "source": [
    "positive = data.columns[data.columns.str.contains(\"str\") & ~data.columns.str.contains(\"str_num\")]\n",
    "len(positive)"
   ]
  },
  {
   "cell_type": "code",
   "execution_count": 33,
   "metadata": {},
   "outputs": [
    {
     "data": {
      "text/plain": [
       "70"
      ]
     },
     "execution_count": 33,
     "metadata": {},
     "output_type": "execute_result"
    }
   ],
   "source": [
    "negative = data.columns[data.columns.str.contains(\"con\") & ~data.columns.str.contains(\"con_num\")]\n",
    "len(negative)"
   ]
  },
  {
   "cell_type": "markdown",
   "metadata": {},
   "source": [
    "### 4.2 Construct Overall KLD Indices"
   ]
  },
  {
   "cell_type": "markdown",
   "metadata": {},
   "source": [
    "Index by sum:"
   ]
  },
  {
   "cell_type": "code",
   "execution_count": 34,
   "metadata": {
    "scrolled": true
   },
   "outputs": [],
   "source": [
    "data['positive'] = data[positive].sum(axis=1)\n",
    "data['negative'] = data[negative].sum(axis=1)"
   ]
  },
  {
   "cell_type": "markdown",
   "metadata": {},
   "source": [
    "Index by average:"
   ]
  },
  {
   "cell_type": "code",
   "execution_count": 35,
   "metadata": {},
   "outputs": [],
   "source": [
    "data['positive_avg'] = data[positive].mean(axis=1)\n",
    "data['negative_avg'] = data[negative].mean(axis=1)"
   ]
  },
  {
   "cell_type": "code",
   "execution_count": 36,
   "metadata": {
    "scrolled": true
   },
   "outputs": [
    {
     "data": {
      "text/html": [
       "<div>\n",
       "<style scoped>\n",
       "    .dataframe tbody tr th:only-of-type {\n",
       "        vertical-align: middle;\n",
       "    }\n",
       "\n",
       "    .dataframe tbody tr th {\n",
       "        vertical-align: top;\n",
       "    }\n",
       "\n",
       "    .dataframe thead th {\n",
       "        text-align: right;\n",
       "    }\n",
       "</style>\n",
       "<table border=\"1\" class=\"dataframe\">\n",
       "  <thead>\n",
       "    <tr style=\"text-align: right;\">\n",
       "      <th></th>\n",
       "      <th>positive</th>\n",
       "      <th>negative</th>\n",
       "      <th>positive_avg</th>\n",
       "      <th>negative_avg</th>\n",
       "    </tr>\n",
       "  </thead>\n",
       "  <tbody>\n",
       "    <tr>\n",
       "      <td>0</td>\n",
       "      <td>0.0</td>\n",
       "      <td>3.0</td>\n",
       "      <td>0.000000</td>\n",
       "      <td>0.103448</td>\n",
       "    </tr>\n",
       "    <tr>\n",
       "      <td>1</td>\n",
       "      <td>0.0</td>\n",
       "      <td>3.0</td>\n",
       "      <td>0.000000</td>\n",
       "      <td>0.107143</td>\n",
       "    </tr>\n",
       "    <tr>\n",
       "      <td>2</td>\n",
       "      <td>0.0</td>\n",
       "      <td>3.0</td>\n",
       "      <td>0.000000</td>\n",
       "      <td>0.111111</td>\n",
       "    </tr>\n",
       "    <tr>\n",
       "      <td>3</td>\n",
       "      <td>1.0</td>\n",
       "      <td>0.0</td>\n",
       "      <td>0.500000</td>\n",
       "      <td>0.000000</td>\n",
       "    </tr>\n",
       "    <tr>\n",
       "      <td>4</td>\n",
       "      <td>0.0</td>\n",
       "      <td>0.0</td>\n",
       "      <td>NaN</td>\n",
       "      <td>0.000000</td>\n",
       "    </tr>\n",
       "    <tr>\n",
       "      <td>...</td>\n",
       "      <td>...</td>\n",
       "      <td>...</td>\n",
       "      <td>...</td>\n",
       "      <td>...</td>\n",
       "    </tr>\n",
       "    <tr>\n",
       "      <td>53163</td>\n",
       "      <td>1.0</td>\n",
       "      <td>2.0</td>\n",
       "      <td>0.062500</td>\n",
       "      <td>0.080000</td>\n",
       "    </tr>\n",
       "    <tr>\n",
       "      <td>53164</td>\n",
       "      <td>1.0</td>\n",
       "      <td>3.0</td>\n",
       "      <td>0.062500</td>\n",
       "      <td>0.115385</td>\n",
       "    </tr>\n",
       "    <tr>\n",
       "      <td>53165</td>\n",
       "      <td>0.0</td>\n",
       "      <td>0.0</td>\n",
       "      <td>0.000000</td>\n",
       "      <td>0.000000</td>\n",
       "    </tr>\n",
       "    <tr>\n",
       "      <td>53166</td>\n",
       "      <td>2.0</td>\n",
       "      <td>0.0</td>\n",
       "      <td>0.066667</td>\n",
       "      <td>0.000000</td>\n",
       "    </tr>\n",
       "    <tr>\n",
       "      <td>53167</td>\n",
       "      <td>0.0</td>\n",
       "      <td>0.0</td>\n",
       "      <td>0.000000</td>\n",
       "      <td>0.000000</td>\n",
       "    </tr>\n",
       "  </tbody>\n",
       "</table>\n",
       "<p>53168 rows × 4 columns</p>\n",
       "</div>"
      ],
      "text/plain": [
       "       positive  negative  positive_avg  negative_avg\n",
       "0           0.0       3.0      0.000000      0.103448\n",
       "1           0.0       3.0      0.000000      0.107143\n",
       "2           0.0       3.0      0.000000      0.111111\n",
       "3           1.0       0.0      0.500000      0.000000\n",
       "4           0.0       0.0           NaN      0.000000\n",
       "...         ...       ...           ...           ...\n",
       "53163       1.0       2.0      0.062500      0.080000\n",
       "53164       1.0       3.0      0.062500      0.115385\n",
       "53165       0.0       0.0      0.000000      0.000000\n",
       "53166       2.0       0.0      0.066667      0.000000\n",
       "53167       0.0       0.0      0.000000      0.000000\n",
       "\n",
       "[53168 rows x 4 columns]"
      ]
     },
     "execution_count": 36,
     "metadata": {},
     "output_type": "execute_result"
    }
   ],
   "source": [
    "data[['positive', 'negative', 'positive_avg', 'negative_avg']]"
   ]
  },
  {
   "cell_type": "code",
   "execution_count": 37,
   "metadata": {},
   "outputs": [],
   "source": [
    "data['KLD Index'] = data['positive'] - data['negative']\n",
    "data['KLD Avg Index'] = data['positive_avg'] - data['negative_avg']"
   ]
  },
  {
   "cell_type": "code",
   "execution_count": 38,
   "metadata": {},
   "outputs": [
    {
     "data": {
      "text/plain": [
       "<matplotlib.axes._subplots.AxesSubplot at 0x11fb25c18>"
      ]
     },
     "execution_count": 38,
     "metadata": {},
     "output_type": "execute_result"
    },
    {
     "data": {
      "image/png": "[encoded data removed]",
      "text/plain": [
       "<Figure size 432x288 with 1 Axes>"
      ]
     },
     "metadata": {
      "needs_background": "light"
     },
     "output_type": "display_data"
    }
   ],
   "source": [
    "data['KLD Index'].hist(bins=30)"
   ]
  },
  {
   "cell_type": "code",
   "execution_count": 39,
   "metadata": {},
   "outputs": [
    {
     "data": {
      "text/plain": [
       "count     53168.000000\n",
       "mean         -0.001486\n",
       "std           2.479646\n",
       "min         -12.000000\n",
       "25%          -1.000000\n",
       "50%           0.000000\n",
       "75%           1.000000\n",
       "max          19.000000\n",
       "median        0.000000\n",
       "Name: KLD Index, dtype: float64"
      ]
     },
     "execution_count": 39,
     "metadata": {},
     "output_type": "execute_result"
    }
   ],
   "source": [
    "KLD_summary = data['KLD Index'].describe()\n",
    "KLD_summary['median'] = data['KLD Index'].median()\n",
    "KLD_summary"
   ]
  },
  {
   "cell_type": "code",
   "execution_count": 40,
   "metadata": {},
   "outputs": [
    {
     "data": {
      "text/plain": [
       "<matplotlib.axes._subplots.AxesSubplot at 0x1190bf128>"
      ]
     },
     "execution_count": 40,
     "metadata": {},
     "output_type": "execute_result"
    },
    {
     "data": {
      "image/png": "[encoded data removed]",
      "text/plain": [
       "<Figure size 432x288 with 1 Axes>"
      ]
     },
     "metadata": {
      "needs_background": "light"
     },
     "output_type": "display_data"
    }
   ],
   "source": [
    "data['KLD Avg Index'].hist(bins=30)"
   ]
  },
  {
   "cell_type": "code",
   "execution_count": 41,
   "metadata": {
    "scrolled": true
   },
   "outputs": [
    {
     "data": {
      "text/plain": [
       "count     53097.000000\n",
       "mean          0.032590\n",
       "std           0.130392\n",
       "min          -0.360000\n",
       "25%          -0.028571\n",
       "50%           0.000000\n",
       "75%           0.063882\n",
       "max           1.000000\n",
       "median        0.000000\n",
       "Name: KLD Avg Index, dtype: float64"
      ]
     },
     "execution_count": 41,
     "metadata": {},
     "output_type": "execute_result"
    }
   ],
   "source": [
    "KLD_avg_summary = data['KLD Avg Index'].describe()\n",
    "KLD_avg_summary['median'] = data['KLD Avg Index'].median()\n",
    "KLD_avg_summary"
   ]
  },
  {
   "cell_type": "markdown",
   "metadata": {},
   "source": [
    "### 4.3 Collect ESG level positive and negative performance indicator list\n",
    "Column names contains \"str\" (\"con\") corresponding to positive (negative) performance indicators, respectively."
   ]
  },
  {
   "cell_type": "markdown",
   "metadata": {},
   "source": [
    "#### 4.3.1 Environment Performance Indicators:"
   ]
  },
  {
   "cell_type": "code",
   "execution_count": 42,
   "metadata": {},
   "outputs": [],
   "source": [
    "E_pos = data.columns[data.columns.str.contains(\"env_str\") & ~data.columns.str.contains(\"env_str_num\")]\n",
    "data['E_pos'] = data[E_pos].sum(axis=1)\n",
    "data['E_pos_avg'] = data[E_pos].mean(axis=1)"
   ]
  },
  {
   "cell_type": "code",
   "execution_count": 43,
   "metadata": {},
   "outputs": [],
   "source": [
    "E_neg = data.columns[data.columns.str.contains(\"env_con\") & ~data.columns.str.contains(\"env_con_num\")]\n",
    "data['E_neg'] = data[E_neg].sum(axis=1)\n",
    "data['E_neg_avg'] = data[E_neg].mean(axis=1)"
   ]
  },
  {
   "cell_type": "code",
   "execution_count": 44,
   "metadata": {},
   "outputs": [],
   "source": [
    "data['E Index'] = data['E_pos'] - data['E_neg']\n",
    "data['E Avg Index'] = data['E_pos_avg'] - data['E_neg_avg']"
   ]
  },
  {
   "cell_type": "code",
   "execution_count": 45,
   "metadata": {},
   "outputs": [
    {
     "data": {
      "text/plain": [
       "<matplotlib.axes._subplots.AxesSubplot at 0x11920beb8>"
      ]
     },
     "execution_count": 45,
     "metadata": {},
     "output_type": "execute_result"
    },
    {
     "data": {
      "image/png": "[encoded data removed]",
      "text/plain": [
       "<Figure size 432x288 with 1 Axes>"
      ]
     },
     "metadata": {
      "needs_background": "light"
     },
     "output_type": "display_data"
    }
   ],
   "source": [
    "data['E Index'].hist(bins=20)"
   ]
  },
  {
   "cell_type": "code",
   "execution_count": 46,
   "metadata": {},
   "outputs": [
    {
     "data": {
      "text/plain": [
       "count     53168.000000\n",
       "mean          0.124248\n",
       "std           0.874777\n",
       "min          -5.000000\n",
       "25%           0.000000\n",
       "50%           0.000000\n",
       "75%           0.000000\n",
       "max           6.000000\n",
       "median        0.000000\n",
       "Name: E Index, dtype: float64"
      ]
     },
     "execution_count": 46,
     "metadata": {},
     "output_type": "execute_result"
    }
   ],
   "source": [
    "E_summary = data['E Index'].describe()\n",
    "E_summary['median'] = data['E Index'].median()\n",
    "E_summary"
   ]
  },
  {
   "cell_type": "code",
   "execution_count": 47,
   "metadata": {},
   "outputs": [
    {
     "data": {
      "text/plain": [
       "<matplotlib.axes._subplots.AxesSubplot at 0x11e27bf60>"
      ]
     },
     "execution_count": 47,
     "metadata": {},
     "output_type": "execute_result"
    },
    {
     "data": {
      "image/png": "[encoded data removed]",
      "text/plain": [
       "<Figure size 432x288 with 1 Axes>"
      ]
     },
     "metadata": {
      "needs_background": "light"
     },
     "output_type": "display_data"
    }
   ],
   "source": [
    "data['E Avg Index'].hist(bins=20)"
   ]
  },
  {
   "cell_type": "code",
   "execution_count": 48,
   "metadata": {},
   "outputs": [
    {
     "data": {
      "text/plain": [
       "count     53059.000000\n",
       "mean          0.039982\n",
       "std           0.179513\n",
       "min          -0.833333\n",
       "25%           0.000000\n",
       "50%           0.000000\n",
       "75%           0.000000\n",
       "max           1.000000\n",
       "median        0.000000\n",
       "Name: E Avg Index, dtype: float64"
      ]
     },
     "execution_count": 48,
     "metadata": {},
     "output_type": "execute_result"
    }
   ],
   "source": [
    "E_avg_summary = data['E Avg Index'].describe()\n",
    "E_avg_summary['median'] = data['E Avg Index'].median()\n",
    "E_avg_summary"
   ]
  },
  {
   "cell_type": "markdown",
   "metadata": {},
   "source": [
    "#### 4.3.2 Social Performance Indicators:"
   ]
  },
  {
   "cell_type": "code",
   "execution_count": 49,
   "metadata": {},
   "outputs": [],
   "source": [
    "S_pos = data.columns[data.columns.str.contains(\"com_str\") & ~data.columns.str.contains(\"com_str_num\") |\n",
    "                     data.columns.str.contains(\"hum_str\") & ~data.columns.str.contains(\"hum_str_num\") |\n",
    "                     data.columns.str.contains(\"emp_str\") & ~data.columns.str.contains(\"emp_str_num\") |\n",
    "                     data.columns.str.contains(\"div_str\") & ~data.columns.str.contains(\"div_str_num\") |\n",
    "                     data.columns.str.contains(\"pro_str\") & ~data.columns.str.contains(\"pro_str_num\")]\n",
    "data['S_pos'] = data[S_pos].sum(axis=1)\n",
    "data['S_pos_avg'] = data[S_pos].mean(axis=1)"
   ]
  },
  {
   "cell_type": "code",
   "execution_count": 50,
   "metadata": {},
   "outputs": [],
   "source": [
    "S_neg = data.columns[data.columns.str.contains(\"com_con\") & ~data.columns.str.contains(\"com_con_num\") |\n",
    "                     data.columns.str.contains(\"hum_con\") & ~data.columns.str.contains(\"hum_con_num\") |\n",
    "                     data.columns.str.contains(\"emp_con\") & ~data.columns.str.contains(\"emp_con_num\") |\n",
    "                     data.columns.str.contains(\"div_con\") & ~data.columns.str.contains(\"div_con_num\") |\n",
    "                     data.columns.str.contains(\"pro_con\") & ~data.columns.str.contains(\"pro_con_num\")]\n",
    "data['S_neg'] = data[S_neg].sum(axis=1)\n",
    "data['S_neg_avg'] = data[S_neg].mean(axis=1)"
   ]
  },
  {
   "cell_type": "code",
   "execution_count": 51,
   "metadata": {},
   "outputs": [],
   "source": [
    "data['S Index'] = data['S_pos'] - data['S_neg']\n",
    "data['S Avg Index'] = data['S_pos_avg'] - data['S_neg_avg']"
   ]
  },
  {
   "cell_type": "code",
   "execution_count": 52,
   "metadata": {},
   "outputs": [
    {
     "data": {
      "text/plain": [
       "<matplotlib.axes._subplots.AxesSubplot at 0x1198d9828>"
      ]
     },
     "execution_count": 52,
     "metadata": {},
     "output_type": "execute_result"
    },
    {
     "data": {
      "image/png": "[encoded data removed]",
      "text/plain": [
       "<Figure size 432x288 with 1 Axes>"
      ]
     },
     "metadata": {
      "needs_background": "light"
     },
     "output_type": "display_data"
    }
   ],
   "source": [
    "data['S Index'].hist(bins=20)"
   ]
  },
  {
   "cell_type": "code",
   "execution_count": 53,
   "metadata": {},
   "outputs": [
    {
     "data": {
      "text/plain": [
       "count     53168.000000\n",
       "mean          0.148642\n",
       "std           1.906924\n",
       "min         -10.000000\n",
       "25%          -1.000000\n",
       "50%           0.000000\n",
       "75%           1.000000\n",
       "max          14.000000\n",
       "median        0.000000\n",
       "Name: S Index, dtype: float64"
      ]
     },
     "execution_count": 53,
     "metadata": {},
     "output_type": "execute_result"
    }
   ],
   "source": [
    "S_summary = data['S Index'].describe()\n",
    "S_summary['median'] = data['S Index'].median()\n",
    "S_summary"
   ]
  },
  {
   "cell_type": "code",
   "execution_count": 54,
   "metadata": {},
   "outputs": [
    {
     "data": {
      "text/plain": [
       "<matplotlib.axes._subplots.AxesSubplot at 0x11a3cbe80>"
      ]
     },
     "execution_count": 54,
     "metadata": {},
     "output_type": "execute_result"
    },
    {
     "data": {
      "image/png": "[encoded data removed]",
      "text/plain": [
       "<Figure size 432x288 with 1 Axes>"
      ]
     },
     "metadata": {
      "needs_background": "light"
     },
     "output_type": "display_data"
    }
   ],
   "source": [
    "data['S Avg Index'].hist(bins=20)"
   ]
  },
  {
   "cell_type": "code",
   "execution_count": 55,
   "metadata": {},
   "outputs": [
    {
     "data": {
      "text/plain": [
       "count     53072.000000\n",
       "mean          0.021746\n",
       "std           0.148890\n",
       "min          -0.545455\n",
       "25%          -0.055556\n",
       "50%           0.000000\n",
       "75%           0.057143\n",
       "max           1.000000\n",
       "median        0.000000\n",
       "Name: S Avg Index, dtype: float64"
      ]
     },
     "execution_count": 55,
     "metadata": {},
     "output_type": "execute_result"
    }
   ],
   "source": [
    "S_avg_summary = data['S Avg Index'].describe()\n",
    "S_avg_summary['median'] = data['S Avg Index'].median()\n",
    "S_avg_summary"
   ]
  },
  {
   "cell_type": "markdown",
   "metadata": {},
   "source": [
    "#### 4.3.3 Governance Performance Indicators:"
   ]
  },
  {
   "cell_type": "code",
   "execution_count": 56,
   "metadata": {},
   "outputs": [],
   "source": [
    "G_pos = data.columns[data.columns.str.contains(\"cgov_str\") & ~data.columns.str.contains(\"cgov_str_num\")]\n",
    "data['G_pos'] = data[G_pos].sum(axis=1)\n",
    "data['G_pos_avg'] = data[G_pos].mean(axis=1)"
   ]
  },
  {
   "cell_type": "code",
   "execution_count": 57,
   "metadata": {},
   "outputs": [],
   "source": [
    "G_neg = data.columns[data.columns.str.contains(\"cgov_con\") & ~data.columns.str.contains(\"cgov_con_num\")]\n",
    "data['G_neg'] = data[G_neg].sum(axis=1)\n",
    "data['G_neg_avg'] = data[G_neg].mean(axis=1)"
   ]
  },
  {
   "cell_type": "code",
   "execution_count": 58,
   "metadata": {},
   "outputs": [],
   "source": [
    "data['G Index'] = data['G_pos'] - data['G_neg']\n",
    "data['G Avg Index'] = data['G_pos_avg'] - data['G_neg_avg']"
   ]
  },
  {
   "cell_type": "code",
   "execution_count": 59,
   "metadata": {},
   "outputs": [
    {
     "data": {
      "text/plain": [
       "<matplotlib.axes._subplots.AxesSubplot at 0x11a855b38>"
      ]
     },
     "execution_count": 59,
     "metadata": {},
     "output_type": "execute_result"
    },
    {
     "data": {
      "image/png": "[encoded data removed]",
      "text/plain": [
       "<Figure size 432x288 with 1 Axes>"
      ]
     },
     "metadata": {
      "needs_background": "light"
     },
     "output_type": "display_data"
    }
   ],
   "source": [
    "data['G Index'].hist(bins=20)"
   ]
  },
  {
   "cell_type": "code",
   "execution_count": 60,
   "metadata": {},
   "outputs": [
    {
     "data": {
      "text/plain": [
       "count     53168.000000\n",
       "mean         -0.155563\n",
       "std           0.635564\n",
       "min          -4.000000\n",
       "25%           0.000000\n",
       "50%           0.000000\n",
       "75%           0.000000\n",
       "max           3.000000\n",
       "median        0.000000\n",
       "Name: G Index, dtype: float64"
      ]
     },
     "execution_count": 60,
     "metadata": {},
     "output_type": "execute_result"
    }
   ],
   "source": [
    "G_summary = data['G Index'].describe()\n",
    "G_summary['median'] = data['G Index'].median()\n",
    "G_summary"
   ]
  },
  {
   "cell_type": "code",
   "execution_count": 61,
   "metadata": {},
   "outputs": [
    {
     "data": {
      "text/plain": [
       "<matplotlib.axes._subplots.AxesSubplot at 0x11ad07198>"
      ]
     },
     "execution_count": 61,
     "metadata": {},
     "output_type": "execute_result"
    },
    {
     "data": {
      "image/png": "[encoded data removed]",
      "text/plain": [
       "<Figure size 432x288 with 1 Axes>"
      ]
     },
     "metadata": {
      "needs_background": "light"
     },
     "output_type": "display_data"
    }
   ],
   "source": [
    "data['G Avg Index'].hist(bins=20)"
   ]
  },
  {
   "cell_type": "code",
   "execution_count": 62,
   "metadata": {},
   "outputs": [
    {
     "data": {
      "text/plain": [
       "count     42813.000000\n",
       "mean         -0.019085\n",
       "std           0.260127\n",
       "min          -1.000000\n",
       "25%          -0.166667\n",
       "50%           0.000000\n",
       "75%           0.000000\n",
       "max           1.000000\n",
       "median        0.000000\n",
       "Name: G Avg Index, dtype: float64"
      ]
     },
     "execution_count": 62,
     "metadata": {},
     "output_type": "execute_result"
    }
   ],
   "source": [
    "G_avg_summary = data['G Avg Index'].describe()\n",
    "G_avg_summary['median'] = data['G Avg Index'].median()\n",
    "G_avg_summary"
   ]
  },
  {
   "cell_type": "markdown",
   "metadata": {},
   "source": [
    "#### 4.3.4 Controversial Business Involvement Indicators:\n",
    "<div class=\"alert alert-block alert-warning\">\n",
    "<b>Warning:</b> \"fir\" has no \"fir_con_num\" so do NOT use \"_num\" columns to calculate aggregates.\n",
    "</div>"
   ]
  },
  {
   "cell_type": "code",
   "execution_count": 63,
   "metadata": {},
   "outputs": [],
   "source": [
    "Controv = data.columns[data.columns.str.contains(\"alc\") & ~data.columns.str.contains(\"alc_con_num\") |\n",
    "                       data.columns.str.contains(\"fir\") & ~data.columns.str.contains(\"fir_con_num\") |\n",
    "                       data.columns.str.contains(\"gam\") & ~data.columns.str.contains(\"gam_con_num\") |\n",
    "                       data.columns.str.contains(\"mil\") & ~data.columns.str.contains(\"mil_con_num\") |\n",
    "                       data.columns.str.contains(\"nuc\") & ~data.columns.str.contains(\"nuc_con_num\") |\n",
    "                       data.columns.str.contains(\"tob\") & ~data.columns.str.contains(\"tob_con_num\")]\n",
    "data['Controv'] = data[Controv].sum(axis=1)\n",
    "data['Controv_avg'] = data[Controv].mean(axis=1)\n",
    "data['Controv Index'] = - data['Controv']\n",
    "data['Controv Avg Index'] = - data['Controv_avg']"
   ]
  },
  {
   "cell_type": "code",
   "execution_count": 64,
   "metadata": {},
   "outputs": [
    {
     "data": {
      "text/plain": [
       "<matplotlib.axes._subplots.AxesSubplot at 0x11af77d68>"
      ]
     },
     "execution_count": 64,
     "metadata": {},
     "output_type": "execute_result"
    },
    {
     "data": {
      "image/png": "[encoded data removed]",
      "text/plain": [
       "<Figure size 432x288 with 1 Axes>"
      ]
     },
     "metadata": {
      "needs_background": "light"
     },
     "output_type": "display_data"
    }
   ],
   "source": [
    "data['Controv Index'].hist(bins=None)"
   ]
  },
  {
   "cell_type": "code",
   "execution_count": 65,
   "metadata": {},
   "outputs": [
    {
     "data": {
      "text/plain": [
       "count     53168.000000\n",
       "mean         -0.118812\n",
       "std           0.377745\n",
       "min          -3.000000\n",
       "25%          -0.000000\n",
       "50%          -0.000000\n",
       "75%          -0.000000\n",
       "max          -0.000000\n",
       "median        0.000000\n",
       "Name: Controv Index, dtype: float64"
      ]
     },
     "execution_count": 65,
     "metadata": {},
     "output_type": "execute_result"
    }
   ],
   "source": [
    "Controv_summary = data['Controv Index'].describe()\n",
    "Controv_summary['median'] = data['Controv Index'].median()\n",
    "Controv_summary"
   ]
  },
  {
   "cell_type": "code",
   "execution_count": 66,
   "metadata": {},
   "outputs": [
    {
     "data": {
      "text/plain": [
       "<matplotlib.axes._subplots.AxesSubplot at 0x11b28a2b0>"
      ]
     },
     "execution_count": 66,
     "metadata": {},
     "output_type": "execute_result"
    },
    {
     "data": {
      "image/png": "[encoded data removed]",
      "text/plain": [
       "<Figure size 432x288 with 1 Axes>"
      ]
     },
     "metadata": {
      "needs_background": "light"
     },
     "output_type": "display_data"
    }
   ],
   "source": [
    "data['Controv Avg Index'].hist(bins=None)"
   ]
  },
  {
   "cell_type": "code",
   "execution_count": 67,
   "metadata": {},
   "outputs": [
    {
     "data": {
      "text/plain": [
       "count     53168.000000\n",
       "mean         -0.017403\n",
       "std           0.057653\n",
       "min          -0.500000\n",
       "25%          -0.000000\n",
       "50%          -0.000000\n",
       "75%          -0.000000\n",
       "max          -0.000000\n",
       "median        0.000000\n",
       "Name: Controv Avg Index, dtype: float64"
      ]
     },
     "execution_count": 67,
     "metadata": {},
     "output_type": "execute_result"
    }
   ],
   "source": [
    "Controv_avg_summary = data['Controv Avg Index'].describe()\n",
    "Controv_avg_summary['median'] = data['Controv Avg Index'].median()\n",
    "Controv_avg_summary"
   ]
  },
  {
   "cell_type": "markdown",
   "metadata": {},
   "source": [
    "### 4.4 Construct Aggregate KLD Index from ESG & Controversial granular level"
   ]
  },
  {
   "cell_type": "code",
   "execution_count": 68,
   "metadata": {},
   "outputs": [],
   "source": [
    "data['ESG_pos'] = data['E_pos'] + data['S_pos'] + data['G_pos']\n",
    "data['ESG_neg'] = data['E_neg'] + data['S_neg'] + data['G_neg'] + data['Controv']\n",
    "data['ESG Pos-Neg Index'] = data['ESG_pos'] - data['ESG_neg']\n",
    "data['ESG Agg Index'] = data['E Index'] + data['S Index'] + data['G Index'] + data['Controv Index']\n",
    "data['ESG Agg Avg Index'] = data['E Avg Index'] + data['S Avg Index'] + data['G Avg Index'] + data['Controv Avg Index']"
   ]
  },
  {
   "cell_type": "code",
   "execution_count": 69,
   "metadata": {
    "scrolled": false
   },
   "outputs": [
    {
     "data": {
      "text/plain": [
       "count    53168.000000\n",
       "mean        -0.001486\n",
       "std          2.479646\n",
       "min        -12.000000\n",
       "25%         -1.000000\n",
       "50%          0.000000\n",
       "75%          1.000000\n",
       "max         19.000000\n",
       "Name: ESG Pos-Neg Index, dtype: float64"
      ]
     },
     "execution_count": 69,
     "metadata": {},
     "output_type": "execute_result"
    }
   ],
   "source": [
    "data['ESG Pos-Neg Index'].describe()"
   ]
  },
  {
   "cell_type": "code",
   "execution_count": 70,
   "metadata": {
    "scrolled": true
   },
   "outputs": [
    {
     "data": {
      "text/plain": [
       "count    53168.000000\n",
       "mean        -0.001486\n",
       "std          2.479646\n",
       "min        -12.000000\n",
       "25%         -1.000000\n",
       "50%          0.000000\n",
       "75%          1.000000\n",
       "max         19.000000\n",
       "Name: ESG Agg Index, dtype: float64"
      ]
     },
     "execution_count": 70,
     "metadata": {},
     "output_type": "execute_result"
    }
   ],
   "source": [
    "data['ESG Agg Index'].describe()"
   ]
  },
  {
   "cell_type": "code",
   "execution_count": 71,
   "metadata": {},
   "outputs": [
    {
     "data": {
      "text/plain": [
       "count    42800.000000\n",
       "mean        -0.015948\n",
       "std          0.397781\n",
       "min         -1.728408\n",
       "25%         -0.209524\n",
       "50%         -0.050000\n",
       "75%          0.083333\n",
       "max          2.694444\n",
       "Name: ESG Agg Avg Index, dtype: float64"
      ]
     },
     "execution_count": 71,
     "metadata": {},
     "output_type": "execute_result"
    }
   ],
   "source": [
    "data['ESG Agg Avg Index'].describe()"
   ]
  },
  {
   "cell_type": "code",
   "execution_count": 72,
   "metadata": {
    "scrolled": true
   },
   "outputs": [
    {
     "data": {
      "text/plain": [
       "count    53168.000000\n",
       "mean        -0.001486\n",
       "std          2.479646\n",
       "min        -12.000000\n",
       "25%         -1.000000\n",
       "50%          0.000000\n",
       "75%          1.000000\n",
       "max         19.000000\n",
       "Name: KLD Index, dtype: float64"
      ]
     },
     "execution_count": 72,
     "metadata": {},
     "output_type": "execute_result"
    }
   ],
   "source": [
    "data['KLD Index'].describe()"
   ]
  },
  {
   "cell_type": "code",
   "execution_count": 73,
   "metadata": {},
   "outputs": [
    {
     "data": {
      "text/plain": [
       "count    53097.000000\n",
       "mean         0.032590\n",
       "std          0.130392\n",
       "min         -0.360000\n",
       "25%         -0.028571\n",
       "50%          0.000000\n",
       "75%          0.063882\n",
       "max          1.000000\n",
       "Name: KLD Avg Index, dtype: float64"
      ]
     },
     "execution_count": 73,
     "metadata": {},
     "output_type": "execute_result"
    }
   ],
   "source": [
    "data['KLD Avg Index'].describe()"
   ]
  },
  {
   "cell_type": "markdown",
   "metadata": {},
   "source": [
    "#### 4.4.1 Check that the aggregate results are the same using different methods above:"
   ]
  },
  {
   "cell_type": "code",
   "execution_count": 74,
   "metadata": {
    "scrolled": true
   },
   "outputs": [
    {
     "data": {
      "text/plain": [
       "0"
      ]
     },
     "execution_count": 74,
     "metadata": {},
     "output_type": "execute_result"
    }
   ],
   "source": [
    "sum(~(data['ESG Pos-Neg Index'] == data['ESG Agg Index']))"
   ]
  },
  {
   "cell_type": "code",
   "execution_count": 75,
   "metadata": {},
   "outputs": [
    {
     "data": {
      "text/plain": [
       "0"
      ]
     },
     "execution_count": 75,
     "metadata": {},
     "output_type": "execute_result"
    }
   ],
   "source": [
    "sum(~(data['KLD Index'] == data['ESG Agg Index']))"
   ]
  },
  {
   "cell_type": "code",
   "execution_count": 76,
   "metadata": {},
   "outputs": [
    {
     "data": {
      "text/plain": [
       "count    True\n",
       "mean     True\n",
       "std      True\n",
       "min      True\n",
       "25%      True\n",
       "50%      True\n",
       "75%      True\n",
       "max      True\n",
       "dtype: bool"
      ]
     },
     "execution_count": 76,
     "metadata": {},
     "output_type": "execute_result"
    }
   ],
   "source": [
    "data['ESG Pos-Neg Index'].describe() == data['ESG Agg Index'].describe()"
   ]
  },
  {
   "cell_type": "code",
   "execution_count": 77,
   "metadata": {
    "scrolled": true
   },
   "outputs": [
    {
     "data": {
      "text/plain": [
       "count    True\n",
       "mean     True\n",
       "std      True\n",
       "min      True\n",
       "25%      True\n",
       "50%      True\n",
       "75%      True\n",
       "max      True\n",
       "dtype: bool"
      ]
     },
     "execution_count": 77,
     "metadata": {},
     "output_type": "execute_result"
    }
   ],
   "source": [
    "data['KLD Index'].describe() == data['ESG Agg Index'].describe()"
   ]
  },
  {
   "cell_type": "code",
   "execution_count": 78,
   "metadata": {
    "scrolled": true
   },
   "outputs": [
    {
     "data": {
      "text/plain": [
       "<matplotlib.axes._subplots.AxesSubplot at 0x11b61f2e8>"
      ]
     },
     "execution_count": 78,
     "metadata": {},
     "output_type": "execute_result"
    },
    {
     "data": {
      "image/png": "[encoded data removed]",
      "text/plain": [
       "<Figure size 432x288 with 1 Axes>"
      ]
     },
     "metadata": {
      "needs_background": "light"
     },
     "output_type": "display_data"
    }
   ],
   "source": [
    "data['ESG Agg Avg Index'].hist(bins=30)"
   ]
  },
  {
   "cell_type": "code",
   "execution_count": 79,
   "metadata": {
    "scrolled": true
   },
   "outputs": [
    {
     "data": {
      "text/plain": [
       "<matplotlib.axes._subplots.AxesSubplot at 0x11b93e748>"
      ]
     },
     "execution_count": 79,
     "metadata": {},
     "output_type": "execute_result"
    },
    {
     "data": {
      "image/png": "[encoded data removed]",
      "text/plain": [
       "<Figure size 432x288 with 1 Axes>"
      ]
     },
     "metadata": {
      "needs_background": "light"
     },
     "output_type": "display_data"
    }
   ],
   "source": [
    "data['KLD Avg Index'].hist(bins=30)"
   ]
  },
  {
   "cell_type": "markdown",
   "metadata": {},
   "source": [
    "#### 4.4.2 Check that the positive and negative indicator lists are the same using different methods above:"
   ]
  },
  {
   "cell_type": "code",
   "execution_count": 98,
   "metadata": {},
   "outputs": [
    {
     "data": {
      "text/plain": [
       "True"
      ]
     },
     "execution_count": 98,
     "metadata": {},
     "output_type": "execute_result"
    }
   ],
   "source": [
    "set(positive) == set(E_pos.append(S_pos).append(G_pos))"
   ]
  },
  {
   "cell_type": "code",
   "execution_count": 95,
   "metadata": {
    "scrolled": true
   },
   "outputs": [
    {
     "data": {
      "text/plain": [
       "True"
      ]
     },
     "execution_count": 95,
     "metadata": {},
     "output_type": "execute_result"
    }
   ],
   "source": [
    "set(negative) == set(E_neg.append(S_neg).append(G_neg).append(Controv))"
   ]
  },
  {
   "cell_type": "markdown",
   "metadata": {},
   "source": [
    "# Save the dataset"
   ]
  },
  {
   "cell_type": "code",
   "execution_count": 80,
   "metadata": {},
   "outputs": [],
   "source": [
    "data.to_csv('kld.csv', header=False)"
   ]
  }
 ],
 "metadata": {
  "kernelspec": {
   "display_name": "Python 3",
   "language": "python",
   "name": "python3"
  },
  "language_info": {
   "codemirror_mode": {
    "name": "ipython",
    "version": 3
   },
   "file_extension": ".py",
   "mimetype": "text/x-python",
   "name": "python",
   "nbconvert_exporter": "python",
   "pygments_lexer": "ipython3",
   "version": "3.6.9"
  }
 },
 "nbformat": 4,
 "nbformat_minor": 2
}
