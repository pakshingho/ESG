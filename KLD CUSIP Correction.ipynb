{
 "cells": [
  {
   "cell_type": "markdown",
   "metadata": {},
   "source": [
    "# KLD CUSIP Correction"
   ]
  },
  {
   "cell_type": "markdown",
   "metadata": {},
   "source": [
    "<div class=\"alert alert-block alert-warning\">\n",
    "<b>Warning:</b> KLD does not provide CUSIP before 1994. Also, some CUSIP digits are wrongly shifted by omitting one or two zeros in front. When backfill also set '0' and '#N/A' to NA first.\n",
    "</div>"
   ]
  },
  {
   "cell_type": "markdown",
   "metadata": {},
   "source": [
    "## Obtain data"
   ]
  },
  {
   "cell_type": "code",
   "execution_count": 1,
   "metadata": {},
   "outputs": [],
   "source": [
    "import wrds"
   ]
  },
  {
   "cell_type": "code",
   "execution_count": 2,
   "metadata": {},
   "outputs": [
    {
     "name": "stdout",
     "output_type": "stream",
     "text": [
      "Loading library list...\n",
      "Done\n"
     ]
    }
   ],
   "source": [
    "db = wrds.Connection()"
   ]
  },
  {
   "cell_type": "code",
   "execution_count": 3,
   "metadata": {},
   "outputs": [
    {
     "data": {
      "text/plain": [
       "(53168, 6)"
      ]
     },
     "execution_count": 3,
     "metadata": {},
     "output_type": "execute_result"
    }
   ],
   "source": [
    "kld = db.get_table(library='kld', table='history', columns=['companyname', 'cusip', 'ticker', 'companyid', 'year', 'domicile'])\n",
    "kld.shape"
   ]
  },
  {
   "cell_type": "code",
   "execution_count": 8,
   "metadata": {},
   "outputs": [],
   "source": [
    "kld.sort_values(['year', 'ticker'], inplace=True);"
   ]
  },
  {
   "cell_type": "markdown",
   "metadata": {},
   "source": [
    "For example, look at the CUSIP of Apple. CUSIP before 1995 is missing and some CUSIP-8-digit wrongly recorded as \"37833100\" instead of \"03783310\"!"
   ]
  },
  {
   "cell_type": "code",
   "execution_count": 10,
   "metadata": {
    "scrolled": true
   },
   "outputs": [
    {
     "data": {
      "text/html": [
       "<div>\n",
       "<style scoped>\n",
       "    .dataframe tbody tr th:only-of-type {\n",
       "        vertical-align: middle;\n",
       "    }\n",
       "\n",
       "    .dataframe tbody tr th {\n",
       "        vertical-align: top;\n",
       "    }\n",
       "\n",
       "    .dataframe thead th {\n",
       "        text-align: right;\n",
       "    }\n",
       "</style>\n",
       "<table border=\"1\" class=\"dataframe\">\n",
       "  <thead>\n",
       "    <tr style=\"text-align: right;\">\n",
       "      <th></th>\n",
       "      <th>companyname</th>\n",
       "      <th>cusip</th>\n",
       "      <th>ticker</th>\n",
       "      <th>companyid</th>\n",
       "      <th>year</th>\n",
       "      <th>domicile</th>\n",
       "    </tr>\n",
       "  </thead>\n",
       "  <tbody>\n",
       "    <tr>\n",
       "      <td>1632</td>\n",
       "      <td>Apple Computer, Inc.</td>\n",
       "      <td>None</td>\n",
       "      <td>AAPL</td>\n",
       "      <td>None</td>\n",
       "      <td>1991.0</td>\n",
       "      <td>None</td>\n",
       "    </tr>\n",
       "    <tr>\n",
       "      <td>1633</td>\n",
       "      <td>Apple Computer, Inc.</td>\n",
       "      <td>None</td>\n",
       "      <td>AAPL</td>\n",
       "      <td>None</td>\n",
       "      <td>1992.0</td>\n",
       "      <td>None</td>\n",
       "    </tr>\n",
       "    <tr>\n",
       "      <td>1634</td>\n",
       "      <td>Apple Computer, Inc.</td>\n",
       "      <td>None</td>\n",
       "      <td>AAPL</td>\n",
       "      <td>None</td>\n",
       "      <td>1993.0</td>\n",
       "      <td>None</td>\n",
       "    </tr>\n",
       "    <tr>\n",
       "      <td>1635</td>\n",
       "      <td>Apple Computer, Inc.</td>\n",
       "      <td>None</td>\n",
       "      <td>AAPL</td>\n",
       "      <td>None</td>\n",
       "      <td>1994.0</td>\n",
       "      <td>None</td>\n",
       "    </tr>\n",
       "    <tr>\n",
       "      <td>1636</td>\n",
       "      <td>Apple Computer, Inc.</td>\n",
       "      <td>03783310</td>\n",
       "      <td>AAPL</td>\n",
       "      <td>None</td>\n",
       "      <td>1995.0</td>\n",
       "      <td>None</td>\n",
       "    </tr>\n",
       "    <tr>\n",
       "      <td>1637</td>\n",
       "      <td>Apple Computer, Inc.</td>\n",
       "      <td>03783310</td>\n",
       "      <td>AAPL</td>\n",
       "      <td>None</td>\n",
       "      <td>1996.0</td>\n",
       "      <td>None</td>\n",
       "    </tr>\n",
       "    <tr>\n",
       "      <td>1638</td>\n",
       "      <td>Apple Computer, Inc.</td>\n",
       "      <td>03783310</td>\n",
       "      <td>AAPL</td>\n",
       "      <td>None</td>\n",
       "      <td>1997.0</td>\n",
       "      <td>None</td>\n",
       "    </tr>\n",
       "    <tr>\n",
       "      <td>1640</td>\n",
       "      <td>Apple Computer, Inc.</td>\n",
       "      <td>03783310</td>\n",
       "      <td>AAPL</td>\n",
       "      <td>None</td>\n",
       "      <td>1998.0</td>\n",
       "      <td>None</td>\n",
       "    </tr>\n",
       "    <tr>\n",
       "      <td>1641</td>\n",
       "      <td>Apple Computer, Inc.</td>\n",
       "      <td>03783310</td>\n",
       "      <td>AAPL</td>\n",
       "      <td>None</td>\n",
       "      <td>1999.0</td>\n",
       "      <td>None</td>\n",
       "    </tr>\n",
       "    <tr>\n",
       "      <td>1642</td>\n",
       "      <td>Apple Computer, Inc.</td>\n",
       "      <td>37833100</td>\n",
       "      <td>AAPL</td>\n",
       "      <td>None</td>\n",
       "      <td>2000.0</td>\n",
       "      <td>None</td>\n",
       "    </tr>\n",
       "    <tr>\n",
       "      <td>1643</td>\n",
       "      <td>Apple Computer, Inc.</td>\n",
       "      <td>03783310</td>\n",
       "      <td>AAPL</td>\n",
       "      <td>None</td>\n",
       "      <td>2001.0</td>\n",
       "      <td>None</td>\n",
       "    </tr>\n",
       "    <tr>\n",
       "      <td>1644</td>\n",
       "      <td>Apple Computer, Inc.</td>\n",
       "      <td>03783310</td>\n",
       "      <td>AAPL</td>\n",
       "      <td>None</td>\n",
       "      <td>2002.0</td>\n",
       "      <td>None</td>\n",
       "    </tr>\n",
       "    <tr>\n",
       "      <td>1645</td>\n",
       "      <td>Apple Computer, Inc.</td>\n",
       "      <td>03783310</td>\n",
       "      <td>AAPL</td>\n",
       "      <td>None</td>\n",
       "      <td>2003.0</td>\n",
       "      <td>None</td>\n",
       "    </tr>\n",
       "    <tr>\n",
       "      <td>1646</td>\n",
       "      <td>Apple Computer, Inc.</td>\n",
       "      <td>03783310</td>\n",
       "      <td>AAPL</td>\n",
       "      <td>None</td>\n",
       "      <td>2004.0</td>\n",
       "      <td>None</td>\n",
       "    </tr>\n",
       "    <tr>\n",
       "      <td>1647</td>\n",
       "      <td>Apple Computer, Inc.</td>\n",
       "      <td>37833100</td>\n",
       "      <td>AAPL</td>\n",
       "      <td>None</td>\n",
       "      <td>2005.0</td>\n",
       "      <td>None</td>\n",
       "    </tr>\n",
       "    <tr>\n",
       "      <td>1648</td>\n",
       "      <td>Apple Computer, Inc.</td>\n",
       "      <td>37833100</td>\n",
       "      <td>AAPL</td>\n",
       "      <td>None</td>\n",
       "      <td>2006.0</td>\n",
       "      <td>None</td>\n",
       "    </tr>\n",
       "    <tr>\n",
       "      <td>1650</td>\n",
       "      <td>Apple, Inc.</td>\n",
       "      <td>37833100</td>\n",
       "      <td>AAPL</td>\n",
       "      <td>1765</td>\n",
       "      <td>2007.0</td>\n",
       "      <td>None</td>\n",
       "    </tr>\n",
       "    <tr>\n",
       "      <td>1651</td>\n",
       "      <td>Apple, Inc.</td>\n",
       "      <td>37833100</td>\n",
       "      <td>AAPL</td>\n",
       "      <td>1765</td>\n",
       "      <td>2008.0</td>\n",
       "      <td>None</td>\n",
       "    </tr>\n",
       "    <tr>\n",
       "      <td>1652</td>\n",
       "      <td>Apple, Inc.</td>\n",
       "      <td>37833100</td>\n",
       "      <td>AAPL</td>\n",
       "      <td>1765</td>\n",
       "      <td>2009.0</td>\n",
       "      <td>None</td>\n",
       "    </tr>\n",
       "    <tr>\n",
       "      <td>1653</td>\n",
       "      <td>Apple, Inc.</td>\n",
       "      <td>37833100</td>\n",
       "      <td>AAPL</td>\n",
       "      <td>1765</td>\n",
       "      <td>2010.0</td>\n",
       "      <td>None</td>\n",
       "    </tr>\n",
       "    <tr>\n",
       "      <td>1654</td>\n",
       "      <td>Apple, Inc.</td>\n",
       "      <td>37833100</td>\n",
       "      <td>AAPL</td>\n",
       "      <td>1765</td>\n",
       "      <td>2011.0</td>\n",
       "      <td>None</td>\n",
       "    </tr>\n",
       "    <tr>\n",
       "      <td>1655</td>\n",
       "      <td>Apple Inc.</td>\n",
       "      <td>37833100</td>\n",
       "      <td>AAPL</td>\n",
       "      <td>None</td>\n",
       "      <td>2012.0</td>\n",
       "      <td>None</td>\n",
       "    </tr>\n",
       "    <tr>\n",
       "      <td>1656</td>\n",
       "      <td>APPLE INC.</td>\n",
       "      <td>03783310</td>\n",
       "      <td>AAPL</td>\n",
       "      <td>None</td>\n",
       "      <td>2013.0</td>\n",
       "      <td>None</td>\n",
       "    </tr>\n",
       "    <tr>\n",
       "      <td>1657</td>\n",
       "      <td>APPLE INC.</td>\n",
       "      <td>37833100</td>\n",
       "      <td>AAPL</td>\n",
       "      <td>None</td>\n",
       "      <td>2014.0</td>\n",
       "      <td>None</td>\n",
       "    </tr>\n",
       "    <tr>\n",
       "      <td>1658</td>\n",
       "      <td>APPLE INC.</td>\n",
       "      <td>03783310</td>\n",
       "      <td>AAPL</td>\n",
       "      <td>None</td>\n",
       "      <td>2015.0</td>\n",
       "      <td>US</td>\n",
       "    </tr>\n",
       "    <tr>\n",
       "      <td>1659</td>\n",
       "      <td>APPLE INC.</td>\n",
       "      <td>03783310</td>\n",
       "      <td>AAPL</td>\n",
       "      <td>None</td>\n",
       "      <td>2016.0</td>\n",
       "      <td>US</td>\n",
       "    </tr>\n",
       "  </tbody>\n",
       "</table>\n",
       "</div>"
      ],
      "text/plain": [
       "               companyname     cusip ticker     companyid    year domicile\n",
       "1632  Apple Computer, Inc.      None   AAPL          None  1991.0     None\n",
       "1633  Apple Computer, Inc.      None   AAPL          None  1992.0     None\n",
       "1634  Apple Computer, Inc.      None   AAPL          None  1993.0     None\n",
       "1635  Apple Computer, Inc.      None   AAPL          None  1994.0     None\n",
       "1636  Apple Computer, Inc.  03783310   AAPL          None  1995.0     None\n",
       "1637  Apple Computer, Inc.  03783310   AAPL          None  1996.0     None\n",
       "1638  Apple Computer, Inc.  03783310   AAPL          None  1997.0     None\n",
       "1640  Apple Computer, Inc.  03783310   AAPL          None  1998.0     None\n",
       "1641  Apple Computer, Inc.  03783310   AAPL          None  1999.0     None\n",
       "1642  Apple Computer, Inc.  37833100   AAPL          None  2000.0     None\n",
       "1643  Apple Computer, Inc.  03783310   AAPL          None  2001.0     None\n",
       "1644  Apple Computer, Inc.  03783310   AAPL          None  2002.0     None\n",
       "1645  Apple Computer, Inc.  03783310   AAPL          None  2003.0     None\n",
       "1646  Apple Computer, Inc.  03783310   AAPL          None  2004.0     None\n",
       "1647  Apple Computer, Inc.  37833100   AAPL          None  2005.0     None\n",
       "1648  Apple Computer, Inc.  37833100   AAPL          None  2006.0     None\n",
       "1650           Apple, Inc.  37833100   AAPL          1765  2007.0     None\n",
       "1651           Apple, Inc.  37833100   AAPL          1765  2008.0     None\n",
       "1652           Apple, Inc.  37833100   AAPL          1765  2009.0     None\n",
       "1653           Apple, Inc.  37833100   AAPL          1765  2010.0     None\n",
       "1654           Apple, Inc.  37833100   AAPL          1765  2011.0     None\n",
       "1655            Apple Inc.  37833100   AAPL          None  2012.0     None\n",
       "1656            APPLE INC.  03783310   AAPL          None  2013.0     None\n",
       "1657            APPLE INC.  37833100   AAPL          None  2014.0     None\n",
       "1658            APPLE INC.  03783310   AAPL          None  2015.0       US\n",
       "1659            APPLE INC.  03783310   AAPL          None  2016.0       US"
      ]
     },
     "execution_count": 10,
     "metadata": {},
     "output_type": "execute_result"
    }
   ],
   "source": [
    "kld[kld['ticker']=='AAPL']"
   ]
  },
  {
   "cell_type": "code",
   "execution_count": 11,
   "metadata": {},
   "outputs": [],
   "source": [
    "kld['0cusip7']='0' + kld['cusip'].str[0:7]\n",
    "kld['00cusip6']= '00' + kld['cusip'].str[0:6]\n",
    "kld['000cusip5']= '000' + kld['cusip'].str[0:5]"
   ]
  },
  {
   "cell_type": "code",
   "execution_count": 12,
   "metadata": {},
   "outputs": [
    {
     "data": {
      "text/plain": [
       "274"
      ]
     },
     "execution_count": 12,
     "metadata": {},
     "output_type": "execute_result"
    }
   ],
   "source": [
    "# checked that cusip8 give the same list as cusip7 if take the first 7 digits\n",
    "lst111=kld['cusip'].unique()\n",
    "lst222=kld['0cusip7'].unique()\n",
    "lst8 = sorted(list(set(lst111) & set(lst222)))\n",
    "len(lst8)"
   ]
  },
  {
   "cell_type": "code",
   "execution_count": 13,
   "metadata": {},
   "outputs": [
    {
     "data": {
      "text/plain": [
       "59"
      ]
     },
     "execution_count": 13,
     "metadata": {},
     "output_type": "execute_result"
    }
   ],
   "source": [
    "lst1111=kld['cusip'].unique()\n",
    "lst2222=kld['00cusip6'].unique()\n",
    "lst88 = sorted(list(set(lst1111) & set(lst2222)))\n",
    "len(lst88)"
   ]
  },
  {
   "cell_type": "code",
   "execution_count": 14,
   "metadata": {},
   "outputs": [
    {
     "data": {
      "text/plain": [
       "5"
      ]
     },
     "execution_count": 14,
     "metadata": {},
     "output_type": "execute_result"
    }
   ],
   "source": [
    "lst11111=kld['cusip'].unique()\n",
    "lst22222=kld['000cusip5'].unique()\n",
    "lst888 = sorted(list(set(lst11111) & set(lst22222)))\n",
    "len(lst888)"
   ]
  },
  {
   "cell_type": "code",
   "execution_count": 15,
   "metadata": {},
   "outputs": [],
   "source": [
    "rcdict0 = {}\n",
    "for c in lst8:\n",
    "    if len(set(kld[kld['0cusip7']==c]['cusip']))==1:\n",
    "        #print(len(set(kld[kld['0cusip7']==c]['cusip']))==1) # check if wrongly shifted cusip-8-digit is unique\n",
    "        _c = list(kld[kld['0cusip7']==c]['cusip'])[0]\n",
    "    rcdict0[_c] = c"
   ]
  },
  {
   "cell_type": "code",
   "execution_count": 16,
   "metadata": {},
   "outputs": [],
   "source": [
    "# two zero added in front\n",
    "lst88.remove('00030710')\n",
    "rcdict00 = {}\n",
    "for c in lst88:\n",
    "    if len(set(kld[kld['00cusip6']==c]['cusip']))==1:\n",
    "        #print(len(set(kld[kld['00cusip6']==c]['cusip']))==1) # check if wrongly shifted cusip-8-digit is unique\n",
    "        _c = list(kld[kld['00cusip6']==c]['cusip'])[0]\n",
    "    rcdict00[_c] = c"
   ]
  },
  {
   "cell_type": "code",
   "execution_count": 17,
   "metadata": {},
   "outputs": [],
   "source": [
    "# three zero added in front\n",
    "lst888.remove('00030710')\n",
    "rcdict000 = {}\n",
    "for c in lst888:\n",
    "    if len(set(kld[kld['000cusip5']==c]['cusip']))==1:\n",
    "        #print(len(set(kld[kld['00cusip6']==c]['cusip']))==1) # check if wrongly shifted cusip-8-digit is unique\n",
    "        _c = list(kld[kld['000cusip5']==c]['cusip'])[0]\n",
    "    rcdict000[_c] = c"
   ]
  },
  {
   "cell_type": "code",
   "execution_count": null,
   "metadata": {},
   "outputs": [],
   "source": [
    "# Some hand maps\n",
    "cusip6Dict = {\"18772103\":\"01877210\",\n",
    "              \"01877230\":\"01877210\",\n",
    "              \"886309\":\"00088630\"} "
   ]
  },
  {
   "cell_type": "code",
   "execution_count": null,
   "metadata": {},
   "outputs": [],
   "source": [
    "for d in cusipDict.keys():\n",
    "    print(cusipDict[d])\n",
    "    print(kld[kld.cusip==d])"
   ]
  }
 ],
 "metadata": {
  "kernelspec": {
   "display_name": "Python 3",
   "language": "python",
   "name": "python3"
  },
  "language_info": {
   "codemirror_mode": {
    "name": "ipython",
    "version": 3
   },
   "file_extension": ".py",
   "mimetype": "text/x-python",
   "name": "python",
   "nbconvert_exporter": "python",
   "pygments_lexer": "ipython3",
   "version": "3.6.9"
  }
 },
 "nbformat": 4,
 "nbformat_minor": 2
}
