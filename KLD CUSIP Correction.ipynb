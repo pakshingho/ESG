{
 "cells": [
  {
   "cell_type": "markdown",
   "metadata": {},
   "source": [
    "# KLD CUSIP Correction"
   ]
  },
  {
   "cell_type": "markdown",
   "metadata": {},
   "source": [
    "<div class=\"alert alert-block alert-warning\">\n",
    "<b>Warning:</b> KLD does not provide CUSIP before 1994. Also, some CUSIP digits are wrongly shifted by omitting one or two zeros in front. When backfill please also set '0', 'NA' and '#N/A' as missing value first.\n",
    "</div>"
   ]
  },
  {
   "cell_type": "markdown",
   "metadata": {},
   "source": [
    "## Obtain Data"
   ]
  },
  {
   "cell_type": "code",
   "execution_count": 1,
   "metadata": {},
   "outputs": [],
   "source": [
    "import wrds\n",
    "import matplotlib.pyplot as plt"
   ]
  },
  {
   "cell_type": "code",
   "execution_count": 2,
   "metadata": {},
   "outputs": [
    {
     "name": "stdout",
     "output_type": "stream",
     "text": [
      "Loading library list...\n",
      "Done\n"
     ]
    }
   ],
   "source": [
    "db = wrds.Connection()"
   ]
  },
  {
   "cell_type": "code",
   "execution_count": 3,
   "metadata": {},
   "outputs": [
    {
     "data": {
      "text/plain": [
       "(53168, 6)"
      ]
     },
     "execution_count": 3,
     "metadata": {},
     "output_type": "execute_result"
    }
   ],
   "source": [
    "kld = db.get_table(library='kld', table='history', columns=['companyname', 'cusip', 'ticker', 'companyid', 'year', 'domicile'])\n",
    "kld.shape"
   ]
  },
  {
   "cell_type": "code",
   "execution_count": 4,
   "metadata": {},
   "outputs": [],
   "source": [
    "kld.sort_values(['year', 'ticker'], inplace=True);"
   ]
  },
  {
   "cell_type": "markdown",
   "metadata": {},
   "source": [
    "For example, look at the CUSIP of Apple. CUSIP before 1995 is missing and some CUSIP-8-digit wrongly recorded as \"37833100\" instead of \"03783310\"!"
   ]
  },
  {
   "cell_type": "code",
   "execution_count": 5,
   "metadata": {
    "scrolled": true
   },
   "outputs": [
    {
     "data": {
      "text/html": [
       "<div>\n",
       "<style scoped>\n",
       "    .dataframe tbody tr th:only-of-type {\n",
       "        vertical-align: middle;\n",
       "    }\n",
       "\n",
       "    .dataframe tbody tr th {\n",
       "        vertical-align: top;\n",
       "    }\n",
       "\n",
       "    .dataframe thead th {\n",
       "        text-align: right;\n",
       "    }\n",
       "</style>\n",
       "<table border=\"1\" class=\"dataframe\">\n",
       "  <thead>\n",
       "    <tr style=\"text-align: right;\">\n",
       "      <th></th>\n",
       "      <th>companyname</th>\n",
       "      <th>cusip</th>\n",
       "      <th>ticker</th>\n",
       "      <th>companyid</th>\n",
       "      <th>year</th>\n",
       "      <th>domicile</th>\n",
       "    </tr>\n",
       "  </thead>\n",
       "  <tbody>\n",
       "    <tr>\n",
       "      <td>1632</td>\n",
       "      <td>Apple Computer, Inc.</td>\n",
       "      <td>None</td>\n",
       "      <td>AAPL</td>\n",
       "      <td>None</td>\n",
       "      <td>1991.0</td>\n",
       "      <td>None</td>\n",
       "    </tr>\n",
       "    <tr>\n",
       "      <td>1633</td>\n",
       "      <td>Apple Computer, Inc.</td>\n",
       "      <td>None</td>\n",
       "      <td>AAPL</td>\n",
       "      <td>None</td>\n",
       "      <td>1992.0</td>\n",
       "      <td>None</td>\n",
       "    </tr>\n",
       "    <tr>\n",
       "      <td>1634</td>\n",
       "      <td>Apple Computer, Inc.</td>\n",
       "      <td>None</td>\n",
       "      <td>AAPL</td>\n",
       "      <td>None</td>\n",
       "      <td>1993.0</td>\n",
       "      <td>None</td>\n",
       "    </tr>\n",
       "    <tr>\n",
       "      <td>1635</td>\n",
       "      <td>Apple Computer, Inc.</td>\n",
       "      <td>None</td>\n",
       "      <td>AAPL</td>\n",
       "      <td>None</td>\n",
       "      <td>1994.0</td>\n",
       "      <td>None</td>\n",
       "    </tr>\n",
       "    <tr>\n",
       "      <td>1636</td>\n",
       "      <td>Apple Computer, Inc.</td>\n",
       "      <td>03783310</td>\n",
       "      <td>AAPL</td>\n",
       "      <td>None</td>\n",
       "      <td>1995.0</td>\n",
       "      <td>None</td>\n",
       "    </tr>\n",
       "    <tr>\n",
       "      <td>1637</td>\n",
       "      <td>Apple Computer, Inc.</td>\n",
       "      <td>03783310</td>\n",
       "      <td>AAPL</td>\n",
       "      <td>None</td>\n",
       "      <td>1996.0</td>\n",
       "      <td>None</td>\n",
       "    </tr>\n",
       "    <tr>\n",
       "      <td>1638</td>\n",
       "      <td>Apple Computer, Inc.</td>\n",
       "      <td>03783310</td>\n",
       "      <td>AAPL</td>\n",
       "      <td>None</td>\n",
       "      <td>1997.0</td>\n",
       "      <td>None</td>\n",
       "    </tr>\n",
       "    <tr>\n",
       "      <td>1640</td>\n",
       "      <td>Apple Computer, Inc.</td>\n",
       "      <td>03783310</td>\n",
       "      <td>AAPL</td>\n",
       "      <td>None</td>\n",
       "      <td>1998.0</td>\n",
       "      <td>None</td>\n",
       "    </tr>\n",
       "    <tr>\n",
       "      <td>1641</td>\n",
       "      <td>Apple Computer, Inc.</td>\n",
       "      <td>03783310</td>\n",
       "      <td>AAPL</td>\n",
       "      <td>None</td>\n",
       "      <td>1999.0</td>\n",
       "      <td>None</td>\n",
       "    </tr>\n",
       "    <tr>\n",
       "      <td>1642</td>\n",
       "      <td>Apple Computer, Inc.</td>\n",
       "      <td>37833100</td>\n",
       "      <td>AAPL</td>\n",
       "      <td>None</td>\n",
       "      <td>2000.0</td>\n",
       "      <td>None</td>\n",
       "    </tr>\n",
       "    <tr>\n",
       "      <td>1643</td>\n",
       "      <td>Apple Computer, Inc.</td>\n",
       "      <td>03783310</td>\n",
       "      <td>AAPL</td>\n",
       "      <td>None</td>\n",
       "      <td>2001.0</td>\n",
       "      <td>None</td>\n",
       "    </tr>\n",
       "    <tr>\n",
       "      <td>1644</td>\n",
       "      <td>Apple Computer, Inc.</td>\n",
       "      <td>03783310</td>\n",
       "      <td>AAPL</td>\n",
       "      <td>None</td>\n",
       "      <td>2002.0</td>\n",
       "      <td>None</td>\n",
       "    </tr>\n",
       "    <tr>\n",
       "      <td>1645</td>\n",
       "      <td>Apple Computer, Inc.</td>\n",
       "      <td>03783310</td>\n",
       "      <td>AAPL</td>\n",
       "      <td>None</td>\n",
       "      <td>2003.0</td>\n",
       "      <td>None</td>\n",
       "    </tr>\n",
       "    <tr>\n",
       "      <td>1646</td>\n",
       "      <td>Apple Computer, Inc.</td>\n",
       "      <td>03783310</td>\n",
       "      <td>AAPL</td>\n",
       "      <td>None</td>\n",
       "      <td>2004.0</td>\n",
       "      <td>None</td>\n",
       "    </tr>\n",
       "    <tr>\n",
       "      <td>1647</td>\n",
       "      <td>Apple Computer, Inc.</td>\n",
       "      <td>37833100</td>\n",
       "      <td>AAPL</td>\n",
       "      <td>None</td>\n",
       "      <td>2005.0</td>\n",
       "      <td>None</td>\n",
       "    </tr>\n",
       "    <tr>\n",
       "      <td>1648</td>\n",
       "      <td>Apple Computer, Inc.</td>\n",
       "      <td>37833100</td>\n",
       "      <td>AAPL</td>\n",
       "      <td>None</td>\n",
       "      <td>2006.0</td>\n",
       "      <td>None</td>\n",
       "    </tr>\n",
       "    <tr>\n",
       "      <td>1650</td>\n",
       "      <td>Apple, Inc.</td>\n",
       "      <td>37833100</td>\n",
       "      <td>AAPL</td>\n",
       "      <td>1765</td>\n",
       "      <td>2007.0</td>\n",
       "      <td>None</td>\n",
       "    </tr>\n",
       "    <tr>\n",
       "      <td>1651</td>\n",
       "      <td>Apple, Inc.</td>\n",
       "      <td>37833100</td>\n",
       "      <td>AAPL</td>\n",
       "      <td>1765</td>\n",
       "      <td>2008.0</td>\n",
       "      <td>None</td>\n",
       "    </tr>\n",
       "    <tr>\n",
       "      <td>1652</td>\n",
       "      <td>Apple, Inc.</td>\n",
       "      <td>37833100</td>\n",
       "      <td>AAPL</td>\n",
       "      <td>1765</td>\n",
       "      <td>2009.0</td>\n",
       "      <td>None</td>\n",
       "    </tr>\n",
       "    <tr>\n",
       "      <td>1653</td>\n",
       "      <td>Apple, Inc.</td>\n",
       "      <td>37833100</td>\n",
       "      <td>AAPL</td>\n",
       "      <td>1765</td>\n",
       "      <td>2010.0</td>\n",
       "      <td>None</td>\n",
       "    </tr>\n",
       "    <tr>\n",
       "      <td>1654</td>\n",
       "      <td>Apple, Inc.</td>\n",
       "      <td>37833100</td>\n",
       "      <td>AAPL</td>\n",
       "      <td>1765</td>\n",
       "      <td>2011.0</td>\n",
       "      <td>None</td>\n",
       "    </tr>\n",
       "    <tr>\n",
       "      <td>1655</td>\n",
       "      <td>Apple Inc.</td>\n",
       "      <td>37833100</td>\n",
       "      <td>AAPL</td>\n",
       "      <td>None</td>\n",
       "      <td>2012.0</td>\n",
       "      <td>None</td>\n",
       "    </tr>\n",
       "    <tr>\n",
       "      <td>1656</td>\n",
       "      <td>APPLE INC.</td>\n",
       "      <td>03783310</td>\n",
       "      <td>AAPL</td>\n",
       "      <td>None</td>\n",
       "      <td>2013.0</td>\n",
       "      <td>None</td>\n",
       "    </tr>\n",
       "    <tr>\n",
       "      <td>1657</td>\n",
       "      <td>APPLE INC.</td>\n",
       "      <td>37833100</td>\n",
       "      <td>AAPL</td>\n",
       "      <td>None</td>\n",
       "      <td>2014.0</td>\n",
       "      <td>None</td>\n",
       "    </tr>\n",
       "    <tr>\n",
       "      <td>1658</td>\n",
       "      <td>APPLE INC.</td>\n",
       "      <td>03783310</td>\n",
       "      <td>AAPL</td>\n",
       "      <td>None</td>\n",
       "      <td>2015.0</td>\n",
       "      <td>US</td>\n",
       "    </tr>\n",
       "    <tr>\n",
       "      <td>1659</td>\n",
       "      <td>APPLE INC.</td>\n",
       "      <td>03783310</td>\n",
       "      <td>AAPL</td>\n",
       "      <td>None</td>\n",
       "      <td>2016.0</td>\n",
       "      <td>US</td>\n",
       "    </tr>\n",
       "  </tbody>\n",
       "</table>\n",
       "</div>"
      ],
      "text/plain": [
       "               companyname     cusip ticker     companyid    year domicile\n",
       "1632  Apple Computer, Inc.      None   AAPL          None  1991.0     None\n",
       "1633  Apple Computer, Inc.      None   AAPL          None  1992.0     None\n",
       "1634  Apple Computer, Inc.      None   AAPL          None  1993.0     None\n",
       "1635  Apple Computer, Inc.      None   AAPL          None  1994.0     None\n",
       "1636  Apple Computer, Inc.  03783310   AAPL          None  1995.0     None\n",
       "1637  Apple Computer, Inc.  03783310   AAPL          None  1996.0     None\n",
       "1638  Apple Computer, Inc.  03783310   AAPL          None  1997.0     None\n",
       "1640  Apple Computer, Inc.  03783310   AAPL          None  1998.0     None\n",
       "1641  Apple Computer, Inc.  03783310   AAPL          None  1999.0     None\n",
       "1642  Apple Computer, Inc.  37833100   AAPL          None  2000.0     None\n",
       "1643  Apple Computer, Inc.  03783310   AAPL          None  2001.0     None\n",
       "1644  Apple Computer, Inc.  03783310   AAPL          None  2002.0     None\n",
       "1645  Apple Computer, Inc.  03783310   AAPL          None  2003.0     None\n",
       "1646  Apple Computer, Inc.  03783310   AAPL          None  2004.0     None\n",
       "1647  Apple Computer, Inc.  37833100   AAPL          None  2005.0     None\n",
       "1648  Apple Computer, Inc.  37833100   AAPL          None  2006.0     None\n",
       "1650           Apple, Inc.  37833100   AAPL          1765  2007.0     None\n",
       "1651           Apple, Inc.  37833100   AAPL          1765  2008.0     None\n",
       "1652           Apple, Inc.  37833100   AAPL          1765  2009.0     None\n",
       "1653           Apple, Inc.  37833100   AAPL          1765  2010.0     None\n",
       "1654           Apple, Inc.  37833100   AAPL          1765  2011.0     None\n",
       "1655            Apple Inc.  37833100   AAPL          None  2012.0     None\n",
       "1656            APPLE INC.  03783310   AAPL          None  2013.0     None\n",
       "1657            APPLE INC.  37833100   AAPL          None  2014.0     None\n",
       "1658            APPLE INC.  03783310   AAPL          None  2015.0       US\n",
       "1659            APPLE INC.  03783310   AAPL          None  2016.0       US"
      ]
     },
     "execution_count": 5,
     "metadata": {},
     "output_type": "execute_result"
    }
   ],
   "source": [
    "kld[kld['ticker']=='AAPL']"
   ]
  },
  {
   "cell_type": "markdown",
   "metadata": {},
   "source": [
    "To correct the wrongly shifted CUSIPs, I first shift the CUSIP digits to the right and add \"0\"'s in front. Then take the first 8 digits and compare them to the original 8-digit-CUSIP. If there're sets of intersection, this means there are wrongly shifted CUSIPs. I collect this set of wrongly shifted CUSIPs and create a dictionary to map them back to the correct CUSIPs correspondingly."
   ]
  },
  {
   "cell_type": "code",
   "execution_count": 6,
   "metadata": {},
   "outputs": [],
   "source": [
    "kld['0cusip7']='0' + kld['cusip'].str[0:7]\n",
    "kld['00cusip6']= '00' + kld['cusip'].str[0:6]\n",
    "kld['000cusip5']= '000' + kld['cusip'].str[0:5]"
   ]
  },
  {
   "cell_type": "markdown",
   "metadata": {},
   "source": [
    "The list of CUSIPs that requires adding '0' in front:"
   ]
  },
  {
   "cell_type": "code",
   "execution_count": 7,
   "metadata": {},
   "outputs": [
    {
     "data": {
      "text/plain": [
       "274"
      ]
     },
     "execution_count": 7,
     "metadata": {},
     "output_type": "execute_result"
    }
   ],
   "source": [
    "lst111=kld['cusip'].unique()\n",
    "lst222=kld['0cusip7'].unique()\n",
    "lst8 = sorted(list(set(lst111) & set(lst222)))\n",
    "len(lst8)"
   ]
  },
  {
   "cell_type": "markdown",
   "metadata": {},
   "source": [
    "The list of CUSIPs that requires adding '00' in front:"
   ]
  },
  {
   "cell_type": "code",
   "execution_count": 8,
   "metadata": {},
   "outputs": [
    {
     "data": {
      "text/plain": [
       "59"
      ]
     },
     "execution_count": 8,
     "metadata": {},
     "output_type": "execute_result"
    }
   ],
   "source": [
    "lst1111=kld['cusip'].unique()\n",
    "lst2222=kld['00cusip6'].unique()\n",
    "lst88 = sorted(list(set(lst1111) & set(lst2222)))\n",
    "len(lst88)"
   ]
  },
  {
   "cell_type": "markdown",
   "metadata": {},
   "source": [
    "The list of CUSIPs that requires adding '000' in front:"
   ]
  },
  {
   "cell_type": "code",
   "execution_count": 9,
   "metadata": {},
   "outputs": [
    {
     "data": {
      "text/plain": [
       "5"
      ]
     },
     "execution_count": 9,
     "metadata": {},
     "output_type": "execute_result"
    }
   ],
   "source": [
    "lst11111=kld['cusip'].unique()\n",
    "lst22222=kld['000cusip5'].unique()\n",
    "lst888 = sorted(list(set(lst11111) & set(lst22222)))\n",
    "len(lst888)"
   ]
  },
  {
   "cell_type": "markdown",
   "metadata": {},
   "source": [
    "Create dictionary mapping wrong CUSIPs to their corresponding correct CUSIPs: "
   ]
  },
  {
   "cell_type": "code",
   "execution_count": 10,
   "metadata": {},
   "outputs": [],
   "source": [
    "# one zero added in front\n",
    "rcdict0 = {}\n",
    "for c in lst8:\n",
    "    if len(set(kld[kld['0cusip7']==c]['cusip']))==1:\n",
    "        #print(len(set(kld[kld['0cusip7']==c]['cusip']))==1) # check if wrongly shifted cusip-8-digit is unique\n",
    "        _c = list(kld[kld['0cusip7']==c]['cusip'])[0]\n",
    "    rcdict0[_c] = c"
   ]
  },
  {
   "cell_type": "code",
   "execution_count": 11,
   "metadata": {},
   "outputs": [],
   "source": [
    "# two zero added in front\n",
    "lst88.remove('00030710')\n",
    "rcdict00 = {}\n",
    "for c in lst88:\n",
    "    if len(set(kld[kld['00cusip6']==c]['cusip']))==1:\n",
    "        #print(len(set(kld[kld['00cusip6']==c]['cusip']))==1) # check if wrongly shifted cusip-8-digit is unique\n",
    "        _c = list(kld[kld['00cusip6']==c]['cusip'])[0]\n",
    "    rcdict00[_c] = c"
   ]
  },
  {
   "cell_type": "code",
   "execution_count": 12,
   "metadata": {},
   "outputs": [],
   "source": [
    "# three zero added in front\n",
    "lst888.remove('00030710')\n",
    "rcdict000 = {}\n",
    "for c in lst888:\n",
    "    if len(set(kld[kld['000cusip5']==c]['cusip']))==1:\n",
    "        #print(len(set(kld[kld['00cusip6']==c]['cusip']))==1) # check if wrongly shifted cusip-8-digit is unique\n",
    "        _c = list(kld[kld['000cusip5']==c]['cusip'])[0]\n",
    "    rcdict000[_c] = c"
   ]
  },
  {
   "cell_type": "code",
   "execution_count": 13,
   "metadata": {},
   "outputs": [],
   "source": [
    "# Some hand maps\n",
    "cusip6Dict = {\"18772103\":\"01877210\",\n",
    "              \"01877230\":\"01877210\",\n",
    "              \"886309\":\"00088630\"}"
   ]
  },
  {
   "cell_type": "markdown",
   "metadata": {},
   "source": [
    "Merging all dictionaries above:"
   ]
  },
  {
   "cell_type": "code",
   "execution_count": 14,
   "metadata": {},
   "outputs": [],
   "source": [
    "cusipDict = {**rcdict0, **rcdict00, **rcdict000, **cusip6Dict}"
   ]
  },
  {
   "cell_type": "markdown",
   "metadata": {},
   "source": [
    "Check the total length of key-value pairs:"
   ]
  },
  {
   "cell_type": "code",
   "execution_count": 15,
   "metadata": {},
   "outputs": [
    {
     "data": {
      "text/plain": [
       "True"
      ]
     },
     "execution_count": 15,
     "metadata": {},
     "output_type": "execute_result"
    }
   ],
   "source": [
    "len(cusipDict) == len(rcdict0) + len(rcdict00) + len(rcdict000) + len(cusip6Dict)"
   ]
  },
  {
   "cell_type": "markdown",
   "metadata": {},
   "source": [
    "Uncommment the rows in next cell will print all wrong CUSIP observations."
   ]
  },
  {
   "cell_type": "code",
   "execution_count": 16,
   "metadata": {},
   "outputs": [
    {
     "name": "stdout",
     "output_type": "stream",
     "text": [
      "\n",
      "Total number of distinct wrong CUSIP: 339\n",
      "\n",
      "Toral wrong CUSIP observations: 1968\n"
     ]
    }
   ],
   "source": [
    "counter = 0\n",
    "for d in cusipDict.keys():\n",
    "    #print('Wrong CUSIP: ' + str(d) + ' | Corresponding correct CUSIP: ' + str(cusipDict[d]) + '\\n')\n",
    "    #print(kld[kld.cusip==d][['companyname', 'cusip', 'ticker', 'companyid', 'year']])\n",
    "    count = len(kld[kld.cusip==d])\n",
    "    counter += count\n",
    "    #print('\\nNumber of wrong CUSIP observations: ' + str(count))\n",
    "    #print('\\nCumulated wrong CUSIP observations: ' + str(counter)\n",
    "    #      + '\\n============================================================================\\n\\n')\n",
    "print('\\nTotal number of distinct wrong CUSIP: ' + str(len(cusipDict)))\n",
    "print('\\nToral wrong CUSIP observations: ' + str(counter))"
   ]
  },
  {
   "cell_type": "markdown",
   "metadata": {},
   "source": [
    "Wrong CUSIP distribution by year:"
   ]
  },
  {
   "cell_type": "code",
   "execution_count": 17,
   "metadata": {},
   "outputs": [],
   "source": [
    "wrongCusipObs = kld[kld.cusip.isin(cusipDict.keys())]"
   ]
  },
  {
   "cell_type": "code",
   "execution_count": 18,
   "metadata": {
    "scrolled": true
   },
   "outputs": [
    {
     "data": {
      "text/plain": [
       "<matplotlib.axes._subplots.AxesSubplot at 0x11dd04f60>"
      ]
     },
     "execution_count": 18,
     "metadata": {},
     "output_type": "execute_result"
    },
    {
     "data": {
      "image/png": "[encoded data removed]",
      "text/plain": [
       "<Figure size 432x288 with 1 Axes>"
      ]
     },
     "metadata": {
      "needs_background": "light"
     },
     "output_type": "display_data"
    }
   ],
   "source": [
    "wrongCusipObs['year'].astype(int).hist(bins=15)"
   ]
  },
  {
   "cell_type": "markdown",
   "metadata": {},
   "source": [
    "## Correction by assigning according to the dictionary constructed above"
   ]
  },
  {
   "cell_type": "markdown",
   "metadata": {},
   "source": [
    "Create a column to store original CUSIP column:"
   ]
  },
  {
   "cell_type": "code",
   "execution_count": 19,
   "metadata": {},
   "outputs": [],
   "source": [
    "kld['cusip_orig'] = kld['cusip']"
   ]
  },
  {
   "cell_type": "code",
   "execution_count": 20,
   "metadata": {},
   "outputs": [],
   "source": [
    "for d in cusipDict.keys():\n",
    "    kld.loc[kld.cusip==d, 'cusip'] = cusipDict[d]"
   ]
  },
  {
   "cell_type": "code",
   "execution_count": 21,
   "metadata": {},
   "outputs": [],
   "source": [
    "kld.drop(columns=['0cusip7', '00cusip6', '000cusip5'], inplace=True)"
   ]
  },
  {
   "cell_type": "markdown",
   "metadata": {},
   "source": [
    "Check any wrong Cusip observation left again:"
   ]
  },
  {
   "cell_type": "code",
   "execution_count": 22,
   "metadata": {},
   "outputs": [
    {
     "data": {
      "text/plain": [
       "0"
      ]
     },
     "execution_count": 22,
     "metadata": {},
     "output_type": "execute_result"
    }
   ],
   "source": [
    "len(kld[kld.cusip.isin(cusipDict.keys())])"
   ]
  },
  {
   "cell_type": "markdown",
   "metadata": {},
   "source": [
    "Check again for example, the CUSIP of Apple. Before correction, CUSIP before 1995 is missing and some CUSIP-8-digit wrongly recorded as \"37833100\" instead of \"03783310\"!"
   ]
  },
  {
   "cell_type": "code",
   "execution_count": 23,
   "metadata": {},
   "outputs": [
    {
     "data": {
      "text/html": [
       "<div>\n",
       "<style scoped>\n",
       "    .dataframe tbody tr th:only-of-type {\n",
       "        vertical-align: middle;\n",
       "    }\n",
       "\n",
       "    .dataframe tbody tr th {\n",
       "        vertical-align: top;\n",
       "    }\n",
       "\n",
       "    .dataframe thead th {\n",
       "        text-align: right;\n",
       "    }\n",
       "</style>\n",
       "<table border=\"1\" class=\"dataframe\">\n",
       "  <thead>\n",
       "    <tr style=\"text-align: right;\">\n",
       "      <th></th>\n",
       "      <th>companyname</th>\n",
       "      <th>cusip</th>\n",
       "      <th>ticker</th>\n",
       "      <th>companyid</th>\n",
       "      <th>year</th>\n",
       "      <th>domicile</th>\n",
       "      <th>cusip_orig</th>\n",
       "    </tr>\n",
       "  </thead>\n",
       "  <tbody>\n",
       "    <tr>\n",
       "      <td>1632</td>\n",
       "      <td>Apple Computer, Inc.</td>\n",
       "      <td>None</td>\n",
       "      <td>AAPL</td>\n",
       "      <td>None</td>\n",
       "      <td>1991.0</td>\n",
       "      <td>None</td>\n",
       "      <td>None</td>\n",
       "    </tr>\n",
       "    <tr>\n",
       "      <td>1633</td>\n",
       "      <td>Apple Computer, Inc.</td>\n",
       "      <td>None</td>\n",
       "      <td>AAPL</td>\n",
       "      <td>None</td>\n",
       "      <td>1992.0</td>\n",
       "      <td>None</td>\n",
       "      <td>None</td>\n",
       "    </tr>\n",
       "    <tr>\n",
       "      <td>1634</td>\n",
       "      <td>Apple Computer, Inc.</td>\n",
       "      <td>None</td>\n",
       "      <td>AAPL</td>\n",
       "      <td>None</td>\n",
       "      <td>1993.0</td>\n",
       "      <td>None</td>\n",
       "      <td>None</td>\n",
       "    </tr>\n",
       "    <tr>\n",
       "      <td>1635</td>\n",
       "      <td>Apple Computer, Inc.</td>\n",
       "      <td>None</td>\n",
       "      <td>AAPL</td>\n",
       "      <td>None</td>\n",
       "      <td>1994.0</td>\n",
       "      <td>None</td>\n",
       "      <td>None</td>\n",
       "    </tr>\n",
       "    <tr>\n",
       "      <td>1636</td>\n",
       "      <td>Apple Computer, Inc.</td>\n",
       "      <td>03783310</td>\n",
       "      <td>AAPL</td>\n",
       "      <td>None</td>\n",
       "      <td>1995.0</td>\n",
       "      <td>None</td>\n",
       "      <td>03783310</td>\n",
       "    </tr>\n",
       "    <tr>\n",
       "      <td>1637</td>\n",
       "      <td>Apple Computer, Inc.</td>\n",
       "      <td>03783310</td>\n",
       "      <td>AAPL</td>\n",
       "      <td>None</td>\n",
       "      <td>1996.0</td>\n",
       "      <td>None</td>\n",
       "      <td>03783310</td>\n",
       "    </tr>\n",
       "    <tr>\n",
       "      <td>1638</td>\n",
       "      <td>Apple Computer, Inc.</td>\n",
       "      <td>03783310</td>\n",
       "      <td>AAPL</td>\n",
       "      <td>None</td>\n",
       "      <td>1997.0</td>\n",
       "      <td>None</td>\n",
       "      <td>03783310</td>\n",
       "    </tr>\n",
       "    <tr>\n",
       "      <td>1640</td>\n",
       "      <td>Apple Computer, Inc.</td>\n",
       "      <td>03783310</td>\n",
       "      <td>AAPL</td>\n",
       "      <td>None</td>\n",
       "      <td>1998.0</td>\n",
       "      <td>None</td>\n",
       "      <td>03783310</td>\n",
       "    </tr>\n",
       "    <tr>\n",
       "      <td>1641</td>\n",
       "      <td>Apple Computer, Inc.</td>\n",
       "      <td>03783310</td>\n",
       "      <td>AAPL</td>\n",
       "      <td>None</td>\n",
       "      <td>1999.0</td>\n",
       "      <td>None</td>\n",
       "      <td>03783310</td>\n",
       "    </tr>\n",
       "    <tr>\n",
       "      <td>1642</td>\n",
       "      <td>Apple Computer, Inc.</td>\n",
       "      <td>03783310</td>\n",
       "      <td>AAPL</td>\n",
       "      <td>None</td>\n",
       "      <td>2000.0</td>\n",
       "      <td>None</td>\n",
       "      <td>37833100</td>\n",
       "    </tr>\n",
       "    <tr>\n",
       "      <td>1643</td>\n",
       "      <td>Apple Computer, Inc.</td>\n",
       "      <td>03783310</td>\n",
       "      <td>AAPL</td>\n",
       "      <td>None</td>\n",
       "      <td>2001.0</td>\n",
       "      <td>None</td>\n",
       "      <td>03783310</td>\n",
       "    </tr>\n",
       "    <tr>\n",
       "      <td>1644</td>\n",
       "      <td>Apple Computer, Inc.</td>\n",
       "      <td>03783310</td>\n",
       "      <td>AAPL</td>\n",
       "      <td>None</td>\n",
       "      <td>2002.0</td>\n",
       "      <td>None</td>\n",
       "      <td>03783310</td>\n",
       "    </tr>\n",
       "    <tr>\n",
       "      <td>1645</td>\n",
       "      <td>Apple Computer, Inc.</td>\n",
       "      <td>03783310</td>\n",
       "      <td>AAPL</td>\n",
       "      <td>None</td>\n",
       "      <td>2003.0</td>\n",
       "      <td>None</td>\n",
       "      <td>03783310</td>\n",
       "    </tr>\n",
       "    <tr>\n",
       "      <td>1646</td>\n",
       "      <td>Apple Computer, Inc.</td>\n",
       "      <td>03783310</td>\n",
       "      <td>AAPL</td>\n",
       "      <td>None</td>\n",
       "      <td>2004.0</td>\n",
       "      <td>None</td>\n",
       "      <td>03783310</td>\n",
       "    </tr>\n",
       "    <tr>\n",
       "      <td>1647</td>\n",
       "      <td>Apple Computer, Inc.</td>\n",
       "      <td>03783310</td>\n",
       "      <td>AAPL</td>\n",
       "      <td>None</td>\n",
       "      <td>2005.0</td>\n",
       "      <td>None</td>\n",
       "      <td>37833100</td>\n",
       "    </tr>\n",
       "    <tr>\n",
       "      <td>1648</td>\n",
       "      <td>Apple Computer, Inc.</td>\n",
       "      <td>03783310</td>\n",
       "      <td>AAPL</td>\n",
       "      <td>None</td>\n",
       "      <td>2006.0</td>\n",
       "      <td>None</td>\n",
       "      <td>37833100</td>\n",
       "    </tr>\n",
       "    <tr>\n",
       "      <td>1650</td>\n",
       "      <td>Apple, Inc.</td>\n",
       "      <td>03783310</td>\n",
       "      <td>AAPL</td>\n",
       "      <td>1765</td>\n",
       "      <td>2007.0</td>\n",
       "      <td>None</td>\n",
       "      <td>37833100</td>\n",
       "    </tr>\n",
       "    <tr>\n",
       "      <td>1651</td>\n",
       "      <td>Apple, Inc.</td>\n",
       "      <td>03783310</td>\n",
       "      <td>AAPL</td>\n",
       "      <td>1765</td>\n",
       "      <td>2008.0</td>\n",
       "      <td>None</td>\n",
       "      <td>37833100</td>\n",
       "    </tr>\n",
       "    <tr>\n",
       "      <td>1652</td>\n",
       "      <td>Apple, Inc.</td>\n",
       "      <td>03783310</td>\n",
       "      <td>AAPL</td>\n",
       "      <td>1765</td>\n",
       "      <td>2009.0</td>\n",
       "      <td>None</td>\n",
       "      <td>37833100</td>\n",
       "    </tr>\n",
       "    <tr>\n",
       "      <td>1653</td>\n",
       "      <td>Apple, Inc.</td>\n",
       "      <td>03783310</td>\n",
       "      <td>AAPL</td>\n",
       "      <td>1765</td>\n",
       "      <td>2010.0</td>\n",
       "      <td>None</td>\n",
       "      <td>37833100</td>\n",
       "    </tr>\n",
       "    <tr>\n",
       "      <td>1654</td>\n",
       "      <td>Apple, Inc.</td>\n",
       "      <td>03783310</td>\n",
       "      <td>AAPL</td>\n",
       "      <td>1765</td>\n",
       "      <td>2011.0</td>\n",
       "      <td>None</td>\n",
       "      <td>37833100</td>\n",
       "    </tr>\n",
       "    <tr>\n",
       "      <td>1655</td>\n",
       "      <td>Apple Inc.</td>\n",
       "      <td>03783310</td>\n",
       "      <td>AAPL</td>\n",
       "      <td>None</td>\n",
       "      <td>2012.0</td>\n",
       "      <td>None</td>\n",
       "      <td>37833100</td>\n",
       "    </tr>\n",
       "    <tr>\n",
       "      <td>1656</td>\n",
       "      <td>APPLE INC.</td>\n",
       "      <td>03783310</td>\n",
       "      <td>AAPL</td>\n",
       "      <td>None</td>\n",
       "      <td>2013.0</td>\n",
       "      <td>None</td>\n",
       "      <td>03783310</td>\n",
       "    </tr>\n",
       "    <tr>\n",
       "      <td>1657</td>\n",
       "      <td>APPLE INC.</td>\n",
       "      <td>03783310</td>\n",
       "      <td>AAPL</td>\n",
       "      <td>None</td>\n",
       "      <td>2014.0</td>\n",
       "      <td>None</td>\n",
       "      <td>37833100</td>\n",
       "    </tr>\n",
       "    <tr>\n",
       "      <td>1658</td>\n",
       "      <td>APPLE INC.</td>\n",
       "      <td>03783310</td>\n",
       "      <td>AAPL</td>\n",
       "      <td>None</td>\n",
       "      <td>2015.0</td>\n",
       "      <td>US</td>\n",
       "      <td>03783310</td>\n",
       "    </tr>\n",
       "    <tr>\n",
       "      <td>1659</td>\n",
       "      <td>APPLE INC.</td>\n",
       "      <td>03783310</td>\n",
       "      <td>AAPL</td>\n",
       "      <td>None</td>\n",
       "      <td>2016.0</td>\n",
       "      <td>US</td>\n",
       "      <td>03783310</td>\n",
       "    </tr>\n",
       "  </tbody>\n",
       "</table>\n",
       "</div>"
      ],
      "text/plain": [
       "               companyname     cusip ticker     companyid    year domicile  \\\n",
       "1632  Apple Computer, Inc.      None   AAPL          None  1991.0     None   \n",
       "1633  Apple Computer, Inc.      None   AAPL          None  1992.0     None   \n",
       "1634  Apple Computer, Inc.      None   AAPL          None  1993.0     None   \n",
       "1635  Apple Computer, Inc.      None   AAPL          None  1994.0     None   \n",
       "1636  Apple Computer, Inc.  03783310   AAPL          None  1995.0     None   \n",
       "1637  Apple Computer, Inc.  03783310   AAPL          None  1996.0     None   \n",
       "1638  Apple Computer, Inc.  03783310   AAPL          None  1997.0     None   \n",
       "1640  Apple Computer, Inc.  03783310   AAPL          None  1998.0     None   \n",
       "1641  Apple Computer, Inc.  03783310   AAPL          None  1999.0     None   \n",
       "1642  Apple Computer, Inc.  03783310   AAPL          None  2000.0     None   \n",
       "1643  Apple Computer, Inc.  03783310   AAPL          None  2001.0     None   \n",
       "1644  Apple Computer, Inc.  03783310   AAPL          None  2002.0     None   \n",
       "1645  Apple Computer, Inc.  03783310   AAPL          None  2003.0     None   \n",
       "1646  Apple Computer, Inc.  03783310   AAPL          None  2004.0     None   \n",
       "1647  Apple Computer, Inc.  03783310   AAPL          None  2005.0     None   \n",
       "1648  Apple Computer, Inc.  03783310   AAPL          None  2006.0     None   \n",
       "1650           Apple, Inc.  03783310   AAPL          1765  2007.0     None   \n",
       "1651           Apple, Inc.  03783310   AAPL          1765  2008.0     None   \n",
       "1652           Apple, Inc.  03783310   AAPL          1765  2009.0     None   \n",
       "1653           Apple, Inc.  03783310   AAPL          1765  2010.0     None   \n",
       "1654           Apple, Inc.  03783310   AAPL          1765  2011.0     None   \n",
       "1655            Apple Inc.  03783310   AAPL          None  2012.0     None   \n",
       "1656            APPLE INC.  03783310   AAPL          None  2013.0     None   \n",
       "1657            APPLE INC.  03783310   AAPL          None  2014.0     None   \n",
       "1658            APPLE INC.  03783310   AAPL          None  2015.0       US   \n",
       "1659            APPLE INC.  03783310   AAPL          None  2016.0       US   \n",
       "\n",
       "     cusip_orig  \n",
       "1632       None  \n",
       "1633       None  \n",
       "1634       None  \n",
       "1635       None  \n",
       "1636   03783310  \n",
       "1637   03783310  \n",
       "1638   03783310  \n",
       "1640   03783310  \n",
       "1641   03783310  \n",
       "1642   37833100  \n",
       "1643   03783310  \n",
       "1644   03783310  \n",
       "1645   03783310  \n",
       "1646   03783310  \n",
       "1647   37833100  \n",
       "1648   37833100  \n",
       "1650   37833100  \n",
       "1651   37833100  \n",
       "1652   37833100  \n",
       "1653   37833100  \n",
       "1654   37833100  \n",
       "1655   37833100  \n",
       "1656   03783310  \n",
       "1657   37833100  \n",
       "1658   03783310  \n",
       "1659   03783310  "
      ]
     },
     "execution_count": 23,
     "metadata": {},
     "output_type": "execute_result"
    }
   ],
   "source": [
    "kld[kld['ticker']=='AAPL']"
   ]
  }
 ],
 "metadata": {
  "kernelspec": {
   "display_name": "Python 3",
   "language": "python",
   "name": "python3"
  },
  "language_info": {
   "codemirror_mode": {
    "name": "ipython",
    "version": 3
   },
   "file_extension": ".py",
   "mimetype": "text/x-python",
   "name": "python",
   "nbconvert_exporter": "python",
   "pygments_lexer": "ipython3",
   "version": "3.6.9"
  }
 },
 "nbformat": 4,
 "nbformat_minor": 2
}
