{
 "cells": [
  {
   "cell_type": "markdown",
   "metadata": {},
   "source": [
    "This notebook clean and transform KLD Compustat."
   ]
  },
  {
   "cell_type": "code",
   "execution_count": 1,
   "metadata": {},
   "outputs": [],
   "source": [
    "import pandas as pd\n",
    "import numpy as np\n",
    "import matplotlib.pyplot as plt"
   ]
  },
  {
   "cell_type": "code",
   "execution_count": 2,
   "metadata": {},
   "outputs": [
    {
     "name": "stderr",
     "output_type": "stream",
     "text": [
      "/Users/shinggg/anaconda3/lib/python3.6/site-packages/IPython/core/interactiveshell.py:3051: DtypeWarning: Columns (184,200,204) have mixed types. Specify dtype option on import or set low_memory=False.\n",
      "  interactivity=interactivity, compiler=compiler, result=result)\n"
     ]
    },
    {
     "data": {
      "text/plain": [
       "(43331, 1122)"
      ]
     },
     "execution_count": 2,
     "metadata": {},
     "output_type": "execute_result"
    }
   ],
   "source": [
    "data = pd.read_csv('KLD_Compustat.csv', dtype={'gvkey': str})\n",
    "data.rename(columns={'datadate_x':'datadate', 'cusip_x':'cusip'}, inplace=True)\n",
    "data.shape"
   ]
  },
  {
   "cell_type": "code",
   "execution_count": 3,
   "metadata": {
    "scrolled": true
   },
   "outputs": [
    {
     "name": "stdout",
     "output_type": "stream",
     "text": [
      "['ticker_KLD', 'cusip_KLD', 'companyname', 'year', 'date', 'permno', 'gvkey', 'datadate', 'fyear', 'cusip', 'ticker', 'companyid', 'env_str_a', 'env_str_b', 'env_str_c', 'env_str_d', 'env_str_f', 'env_str_x', 'env_str_num', 'env_con_a', 'env_con_b', 'env_con_c', 'env_con_d', 'env_con_e', 'env_con_x', 'env_con_num', 'com_str_a', 'com_str_b', 'com_str_c', 'com_str_x', 'com_str_num', 'com_con_a', 'com_con_b', 'com_con_d', 'com_con_x', 'com_con_num', 'hum_con_a', 'hum_con_b', 'hum_con_num', 'emp_str_a', 'emp_str_b', 'emp_str_c', 'emp_str_d', 'emp_str_f', 'emp_str_x', 'emp_str_num', 'emp_con_a', 'emp_con_b', 'emp_con_c', 'emp_con_x', 'emp_con_num', 'div_str_a', 'div_str_b', 'div_str_c', 'div_str_d', 'div_str_e', 'div_str_f', 'div_str_x', 'div_str_num', 'div_con_a', 'div_con_x', 'div_con_num', 'pro_str_a', 'pro_str_b', 'pro_str_c', 'pro_str_x', 'pro_str_num', 'pro_con_a', 'pro_con_d', 'pro_con_e', 'pro_con_x', 'pro_con_num', 'cgov_str_a', 'cgov_str_c', 'cgov_str_x', 'cgov_str_num', 'cgov_con_b', 'cgov_con_f', 'cgov_con_num', 'alc_con_a', 'gam_con_a', 'mil_con_a', 'mil_con_b', 'mil_con_c', 'mil_con_x', 'mil_con_num', 'nuc_con_a', 'nuc_con_c', 'nuc_con_d', 'nuc_con_x', 'nuc_con_num', 'tob_con_a', 'emp_con_d', 'cgov_con_x', 'div_con_b', 'com_str_d', 'com_str_f', 'hum_str_a', 'hum_str_x', 'hum_str_num', 'hum_con_c', 'hum_con_d', 'hum_con_x', 'div_str_g', 'cgov_str_d', 'alc_con_x', 'gam_con_x', 'alc_con_num', 'gam_con_num', 'tob_con_num', 'hum_con_f', 'fir_con_a', 'tob_con_x', 'env_con_f', 'hum_str_d', 'hum_con_g', 'hum_str_g', 'emp_str_g', 'com_str_g', 'cgov_str_e', 'cgov_con_g', 'cgov_con_h', 'cgov_con_i', 'env_str_g', 'cgov_str_f', 'cgov_con_j', 'env_con_g', 'env_con_h', 'env_con_i', 'com_str_h', 'hum_con_h', 'emp_str_h', 'emp_con_f', 'div_str_h', 'div_con_c', 'pro_str_d', 'cgov_con_k', 'env_str_h', 'env_str_i', 'env_str_j', 'env_con_j', 'env_con_k', 'hum_con_j', 'hum_con_k', 'emp_str_i', 'emp_str_j', 'emp_str_k', 'emp_str_l', 'emp_con_g', 'div_con_d', 'pro_con_f', 'cgov_str_g', 'cgov_str_h', 'gov_str_num', 'cgov_con_l', 'cgov_con_m', 'env_str_k', 'env_str_l', 'env_str_m', 'env_str_n', 'env_str_o', 'env_str_p', 'env_str_q', 'emp_str_m', 'emp_str_n', 'emp_con_h', 'pro_str_e', 'pro_str_f', 'pro_str_g', 'pro_str_h', 'pro_str_i', 'pro_str_j', 'pro_str_k', 'pro_con_g', 'domicile', 'cusip_orig', 'datadate_y', 'indfmt', 'consol', 'popsrc', 'datafmt', 'tic', 'cusip_y', 'conm', 'acctchg', 'acctstd', 'acqmeth', 'adrr', 'ajex', 'ajp', 'bspr', 'compst', 'curcd', 'curncd', 'currtr', 'curuscn', 'final', 'fyr', 'ismod', 'ltcm', 'ogm', 'pddur', 'scf', 'src', 'stalt', 'udpl', 'upd', 'apdedate', 'fdate', 'pdate', 'acchg', 'acco', 'accrt', 'acdo', 'aco', 'acodo', 'acominc', 'acox', 'acoxar', 'acqao', 'acqcshi', 'acqgdwl', 'acqic', 'acqintan', 'acqinvt', 'acqlntal', 'acqniintc', 'acqppe', 'acqsc', 'act', 'adpac', 'aedi', 'afudcc', 'afudci', 'aldo', 'am', 'amc', 'amdc', 'amgw', 'ano', 'ao', 'aocidergl', 'aociother', 'aocipen', 'aocisecgl', 'aodo', 'aol2', 'aoloch', 'aox', 'ap', 'apalch', 'apb', 'apc', 'apofs', 'aqa', 'aqc', 'aqd', 'aqeps', 'aqi', 'aqp', 'aqpl1', 'aqs', 'arb', 'arc', 'arce', 'arced', 'arceeps', 'artfs', 'at', 'aul3', 'autxr', 'balr', 'banlr', 'bast', 'bastr', 'batr', 'bcef', 'bclr', 'bcltbl', 'bcnlr', 'bcrbl', 'bct', 'bctbl', 'bctr', 'billexce', 'bkvlps', 'bltbl', 'ca', 'capr1', 'capr2', 'capr3', 'caps', 'capsft', 'capx', 'capxv', 'cb', 'cbi', 'cdpac', 'cdvc', 'ceiexbill', 'ceq', 'ceql', 'ceqt', 'cfbd', 'cfere', 'cfo', 'cfpdo', 'cga', 'cgri', 'cgti', 'cgui', 'ch', 'che', 'chech', 'chs', 'ci', 'cibegni', 'cicurr', 'cidergl', 'cimii', 'ciother', 'cipen', 'cisecgl', 'citotal', 'cld2', 'cld3', 'cld4', 'cld5', 'clfc', 'clfx', 'clg', 'clis', 'cll', 'cllc', 'clo', 'clrll', 'clt', 'cmp', 'cnltbl', 'cogs', 'cpcbl', 'cpdoi', 'cpnli', 'cppbl', 'cprei', 'crv', 'crvnli', 'cshfd', 'cshi', 'csho', 'cshpri', 'cshr', 'cshrc', 'cshrp', 'cshrso', 'cshrt', 'cshrw', 'cstk', 'cstkcv', 'cstke', 'dbi', 'dc', 'dclo', 'dcom', 'dcpstk', 'dcs', 'dcvsr', 'dcvsub', 'dcvt', 'dd', 'dd1', 'dd2', 'dd3', 'dd4', 'dd5', 'depc', 'derac', 'deralt', 'derhedgl', 'derlc', 'derllt', 'dfpac', 'dfs', 'dfxa', 'diladj', 'dilavx', 'dlc', 'dlcch', 'dltis', 'dlto', 'dltp', 'dltr', 'dltsub', 'dltt', 'dm', 'dn', 'do', 'donr', 'dp', 'dpacb', 'dpacc', 'dpacli', 'dpacls', 'dpacme', 'dpacnr', 'dpaco', 'dpacre', 'dpact', 'dpc', 'dpdc', 'dpltb', 'dpret', 'dpsc', 'dpstb', 'dptb', 'dptc', 'dptic', 'dpvieb', 'dpvio', 'dpvir', 'drc', 'drci', 'drlt', 'ds', 'dt', 'dtea', 'dted', 'dteeps', 'dtep', 'dudd', 'dv', 'dvc', 'dvdnp', 'dvintf', 'dvp', 'dvpa', 'dvpd', 'dvpdp', 'dvpibb', 'dvrpiv', 'dvrre', 'dvsco', 'dvt', 'dxd2', 'dxd3', 'dxd4', 'dxd5', 'ea', 'ebit', 'ebitda', 'eiea', 'emol', 'emp', 'epsfi', 'epsfx', 'epspi', 'epspx', 'esopct', 'esopdlt', 'esopnr', 'esopr', 'esopt', 'esub', 'esubc', 'excadj', 'exre', 'fatb', 'fatc', 'fatd', 'fate', 'fatl', 'fatn', 'fato', 'fatp', 'fca', 'fdfr', 'fea', 'fel', 'ffo', 'ffs', 'fiao', 'finaco', 'finao', 'fincf', 'finch', 'findlc', 'findlt', 'finivst', 'finlco', 'finlto', 'finnp', 'finrecc', 'finreclt', 'finrev', 'finxint', 'finxopr', 'fopo', 'fopox', 'fopt', 'fsrco', 'fsrct', 'fuseo', 'fuset', 'gbbl', 'gdwl', 'gdwlam', 'gdwlia', 'gdwlid', 'gdwlieps', 'gdwlip', 'geqrv', 'gla', 'glcea', 'glced', 'glceeps', 'glcep', 'gld', 'gleps', 'gliv', 'glp', 'govgr', 'govtown', 'gp', 'gphbl', 'gplbl', 'gpobl', 'gprbl', 'gptbl', 'gwo', 'hedgegl', 'iaeq', 'iaeqci', 'iaeqmi', 'iafici', 'iafxi', 'iafxmi', 'iali', 'ialoi', 'ialti', 'iamli', 'iaoi', 'iapli', 'iarei', 'iasci', 'iasmi', 'iassi', 'iasti', 'iatci', 'iati', 'iatmi', 'iaui', 'ib', 'ibadj', 'ibbl', 'ibc', 'ibcom', 'ibki', 'ibmii', 'icapt', 'idiis', 'idilb', 'idilc', 'idis', 'idist', 'idit', 'idits', 'iire', 'initb', 'intan', 'intano', 'intc', 'intpn', 'invch', 'invfg', 'invo', 'invofs', 'invreh', 'invrei', 'invres', 'invrm', 'invt', 'invwip', 'iobd', 'ioi', 'iore', 'ip', 'ipabl', 'ipc', 'iphbl', 'iplbl', 'ipobl', 'iptbl', 'ipti', 'ipv', 'irei', 'irent', 'irii', 'irli', 'irnli', 'irsi', 'iseq', 'iseqc', 'iseqm', 'isfi', 'isfxc', 'isfxm', 'isgr', 'isgt', 'isgu', 'islg', 'islgc', 'islgm', 'islt', 'isng', 'isngc', 'isngm', 'isotc', 'isoth', 'isotm', 'issc', 'issm', 'issu', 'ist', 'istc', 'istm', 'isut', 'itcb', 'itcc', 'itci', 'ivaco', 'ivaeq', 'ivao', 'ivch', 'ivgod', 'ivi', 'ivncf', 'ivpt', 'ivst', 'ivstch', 'lcabg', 'lcacl', 'lcacr', 'lcag', 'lcal', 'lcalt', 'lcam', 'lcao', 'lcast', 'lcat', 'lco', 'lcox', 'lcoxar', 'lcoxdr', 'lct', 'lcuacu', 'li', 'lif', 'lifr', 'lifrp', 'lloml', 'lloo', 'llot', 'llrci', 'llrcr', 'llwoci', 'llwocr', 'lno', 'lo', 'lol2', 'loxdr', 'lqpl1', 'lrv', 'ls', 'lse', 'lst', 'lt', 'lul3', 'mib', 'mibn', 'mibt', 'mii', 'mrc1', 'mrc2', 'mrc3', 'mrc4', 'mrc5', 'mrct', 'mrcta', 'msa', 'msvrv', 'mtl', 'nat', 'nco', 'nfsr', 'ni', 'niadj', 'nieci', 'niint', 'niintpfc', 'niintpfp', 'niit', 'nim', 'nio', 'nipfc', 'nipfp', 'nit', 'nits', 'nopi', 'nopio', 'np', 'npanl', 'npaore', 'nparl', 'npat', 'nrtxt', 'nrtxtd', 'nrtxteps', 'oancf', 'ob', 'oiadp', 'oibdp', 'opeps', 'opili', 'opincar', 'opini', 'opioi', 'opiri', 'opiti', 'oprepsx', 'optca', 'optdr', 'optex', 'optexd', 'optfvgr', 'optgr', 'optlife', 'optosby', 'optosey', 'optprcby', 'optprcca', 'optprcex', 'optprcey', 'optprcgr', 'optprcwa', 'optrfr', 'optvol', 'palr', 'panlr', 'patr', 'pcl', 'pclr', 'pcnlr', 'pctr', 'pdvc', 'pi', 'pidom', 'pifo', 'pll', 'pltbl', 'pnca', 'pncad', 'pncaeps', 'pncia', 'pncid', 'pncieps', 'pncip', 'pncwia', 'pncwid', 'pncwieps', 'pncwip', 'pnlbl', 'pnli', 'pnrsho', 'pobl', 'ppcbl', 'ppegt', 'ppenb', 'ppenc', 'ppenli', 'ppenls', 'ppenme', 'ppennr', 'ppeno', 'ppent', 'ppevbb', 'ppeveb', 'ppevo', 'ppevr', 'pppabl', 'ppphbl', 'pppobl', 'ppptbl', 'prc', 'prca', 'prcad', 'prcaeps', 'prebl', 'pri', 'prodv', 'prsho', 'prstkc', 'prstkcc', 'prstkpc', 'prvt', 'pstk', 'pstkc', 'pstkl', 'pstkn', 'pstkr', 'pstkrv', 'ptbl', 'ptran', 'pvcl', 'pvo', 'pvon', 'pvpl', 'pvt', 'pwoi', 'radp', 'ragr', 'rari', 'rati', 'rca', 'rcd', 'rceps', 'rcl', 'rcp', 'rdip', 'rdipa', 'rdipd', 'rdipeps', 'rdp', 're', 'rea', 'reajo', 'recch', 'recco', 'recd', 'rect', 'recta', 'rectr', 'recub', 'ret', 'reuna', 'reunr', 'revt', 'ris', 'rll', 'rlo', 'rlp', 'rlri', 'rlt', 'rmum', 'rpag', 'rra', 'rrd', 'rreps', 'rrp', 'rstche', 'rstchelt', 'rvbci', 'rvbpi', 'rvbti', 'rvdo', 'rvdt', 'rveqt', 'rvlrv', 'rvno', 'rvnt', 'rvri', 'rvsi', 'rvti', 'rvtxr', 'rvupi', 'rvutx', 'saa', 'sal', 'sale', 'salepfc', 'salepfp', 'sbdc', 'sc', 'sco', 'scstkc', 'secu', 'seq', 'seqo', 'seta', 'setd', 'seteps', 'setp', 'siv', 'spce', 'spced', 'spceeps', 'spi', 'spid', 'spieps', 'spioa', 'spiop', 'sppe', 'sppiv', 'spstkc', 'sret', 'srt', 'ssnp', 'sstk', 'stbo', 'stio', 'stkco', 'stkcpa', 'tdc', 'tdscd', 'tdsce', 'tdsg', 'tdslg', 'tdsmm', 'tdsng', 'tdso', 'tdss', 'tdst', 'teq', 'tf', 'tfva', 'tfvce', 'tfvl', 'tie', 'tii', 'tlcf', 'transa', 'tsa', 'tsafc', 'tso', 'tstk', 'tstkc', 'tstkme', 'tstkn', 'tstkp', 'txach', 'txbco', 'txbcof', 'txc', 'txdb', 'txdba', 'txdbca', 'txdbcl', 'txdc', 'txdfed', 'txdfo', 'txdi', 'txditc', 'txds', 'txeqa', 'txeqii', 'txfed', 'txfo', 'txndb', 'txndba', 'txndbl', 'txndbr', 'txo', 'txp', 'txpd', 'txr', 'txs', 'txt', 'txtubadjust', 'txtubbegin', 'txtubend', 'txtubmax', 'txtubmin', 'txtubposdec', 'txtubposinc', 'txtubpospdec', 'txtubpospinc', 'txtubsettle', 'txtubsoflimit', 'txtubtxtr', 'txtubxintbs', 'txtubxintis', 'txva', 'txw', 'uaoloch', 'uaox', 'uapt', 'ucaps', 'uccons', 'uceq', 'ucustad', 'udcopres', 'udd', 'udfcc', 'udmb', 'udolt', 'udpco', 'udpfa', 'udvp', 'ufretsd', 'ugi', 'ui', 'uinvt', 'ulcm', 'ulco', 'uniami', 'unl', 'unnp', 'unnpl', 'unopinc', 'unwcc', 'uois', 'uopi', 'uopres', 'updvp', 'upmcstk', 'upmpf', 'upmpfs', 'upmsubp', 'upstk', 'upstkc', 'upstksf', 'urect', 'urectr', 'urevub', 'uspi', 'ustdnc', 'usubdvp', 'usubpstk', 'utfdoc', 'utfosc', 'utme', 'utxfed', 'uwkcapc', 'uxinst', 'uxintd', 'vpac', 'vpo', 'wcap', 'wcapc', 'wcapch', 'wda', 'wdd', 'wdeps', 'wdp', 'xacc', 'xad', 'xago', 'xagt', 'xcom', 'xcomi', 'xdepl', 'xdp', 'xdvre', 'xeqo', 'xi', 'xido', 'xidoc', 'xindb', 'xindc', 'xins', 'xinst', 'xint', 'xintd', 'xintopt', 'xivi', 'xivre', 'xlr', 'xnbi', 'xnf', 'xnins', 'xnitb', 'xobd', 'xoi', 'xopr', 'xoprar', 'xoptd', 'xopteps', 'xore', 'xpp', 'xpr', 'xrd', 'xrdp', 'xrent', 'xs', 'xsga', 'xstf', 'xstfo', 'xstfws', 'xt', 'xuw', 'xuwli', 'xuwnli', 'xuwoi', 'xuwrei', 'xuwti', 'iid', 'exchg', 'cik', 'costat', 'fic', 'naicsh', 'sich', 'cshtr_c', 'dvpsp_c', 'dvpsx_c', 'prcc_c', 'prch_c', 'prcl_c', 'adjex_c', 'cshtr_f', 'dvpsp_f', 'dvpsx_f', 'mkvalt', 'prcc_f', 'prch_f', 'prcl_f', 'adjex_f', 'rank', 'au', 'auop', 'auopic', 'ceoso', 'cfoso']\n"
     ]
    }
   ],
   "source": [
    "print(data.columns.to_list())"
   ]
  },
  {
   "cell_type": "code",
   "execution_count": 4,
   "metadata": {
    "scrolled": true
   },
   "outputs": [
    {
     "data": {
      "text/html": [
       "<div>\n",
       "<style scoped>\n",
       "    .dataframe tbody tr th:only-of-type {\n",
       "        vertical-align: middle;\n",
       "    }\n",
       "\n",
       "    .dataframe tbody tr th {\n",
       "        vertical-align: top;\n",
       "    }\n",
       "\n",
       "    .dataframe thead th {\n",
       "        text-align: right;\n",
       "    }\n",
       "</style>\n",
       "<table border=\"1\" class=\"dataframe\">\n",
       "  <thead>\n",
       "    <tr style=\"text-align: right;\">\n",
       "      <th></th>\n",
       "      <th>ticker_KLD</th>\n",
       "      <th>cusip_KLD</th>\n",
       "      <th>companyname</th>\n",
       "      <th>year</th>\n",
       "      <th>date</th>\n",
       "      <th>permno</th>\n",
       "      <th>gvkey</th>\n",
       "      <th>datadate</th>\n",
       "      <th>fyear</th>\n",
       "      <th>cusip</th>\n",
       "      <th>...</th>\n",
       "      <th>prcc_f</th>\n",
       "      <th>prch_f</th>\n",
       "      <th>prcl_f</th>\n",
       "      <th>adjex_f</th>\n",
       "      <th>rank</th>\n",
       "      <th>au</th>\n",
       "      <th>auop</th>\n",
       "      <th>auopic</th>\n",
       "      <th>ceoso</th>\n",
       "      <th>cfoso</th>\n",
       "    </tr>\n",
       "  </thead>\n",
       "  <tbody>\n",
       "    <tr>\n",
       "      <td>0</td>\n",
       "      <td>AIR</td>\n",
       "      <td>00036110</td>\n",
       "      <td>AAR CORPORATION</td>\n",
       "      <td>2003</td>\n",
       "      <td>2003-12-31</td>\n",
       "      <td>54594.0</td>\n",
       "      <td>001004</td>\n",
       "      <td>2004-05-31</td>\n",
       "      <td>2003.0</td>\n",
       "      <td>00036110</td>\n",
       "      <td>...</td>\n",
       "      <td>9.58</td>\n",
       "      <td>16.87</td>\n",
       "      <td>4.59</td>\n",
       "      <td>1.0</td>\n",
       "      <td>1.0</td>\n",
       "      <td>6.0</td>\n",
       "      <td>1.0</td>\n",
       "      <td>NaN</td>\n",
       "      <td>Y</td>\n",
       "      <td>Y</td>\n",
       "    </tr>\n",
       "    <tr>\n",
       "      <td>1</td>\n",
       "      <td>AIR</td>\n",
       "      <td>00036110</td>\n",
       "      <td>AAR CORPORATION</td>\n",
       "      <td>2004</td>\n",
       "      <td>2004-12-31</td>\n",
       "      <td>54594.0</td>\n",
       "      <td>001004</td>\n",
       "      <td>2005-05-31</td>\n",
       "      <td>2004.0</td>\n",
       "      <td>00036110</td>\n",
       "      <td>...</td>\n",
       "      <td>16.04</td>\n",
       "      <td>16.13</td>\n",
       "      <td>8.86</td>\n",
       "      <td>1.0</td>\n",
       "      <td>1.0</td>\n",
       "      <td>6.0</td>\n",
       "      <td>1.0</td>\n",
       "      <td>1.0</td>\n",
       "      <td>Y</td>\n",
       "      <td>Y</td>\n",
       "    </tr>\n",
       "    <tr>\n",
       "      <td>2</td>\n",
       "      <td>AIR</td>\n",
       "      <td>00036110</td>\n",
       "      <td>AAR CORPORATION</td>\n",
       "      <td>2005</td>\n",
       "      <td>2005-12-30</td>\n",
       "      <td>54594.0</td>\n",
       "      <td>001004</td>\n",
       "      <td>2006-05-31</td>\n",
       "      <td>2005.0</td>\n",
       "      <td>00036110</td>\n",
       "      <td>...</td>\n",
       "      <td>24.08</td>\n",
       "      <td>29.32</td>\n",
       "      <td>14.80</td>\n",
       "      <td>1.0</td>\n",
       "      <td>1.0</td>\n",
       "      <td>6.0</td>\n",
       "      <td>1.0</td>\n",
       "      <td>1.0</td>\n",
       "      <td>Y</td>\n",
       "      <td>Y</td>\n",
       "    </tr>\n",
       "    <tr>\n",
       "      <td>3</td>\n",
       "      <td>AIR</td>\n",
       "      <td>00036110</td>\n",
       "      <td>AAR CORPORATION</td>\n",
       "      <td>2006</td>\n",
       "      <td>2006-12-29</td>\n",
       "      <td>54594.0</td>\n",
       "      <td>001004</td>\n",
       "      <td>2007-05-31</td>\n",
       "      <td>2006.0</td>\n",
       "      <td>00036110</td>\n",
       "      <td>...</td>\n",
       "      <td>32.50</td>\n",
       "      <td>33.75</td>\n",
       "      <td>19.40</td>\n",
       "      <td>1.0</td>\n",
       "      <td>1.0</td>\n",
       "      <td>6.0</td>\n",
       "      <td>1.0</td>\n",
       "      <td>1.0</td>\n",
       "      <td>Y</td>\n",
       "      <td>Y</td>\n",
       "    </tr>\n",
       "    <tr>\n",
       "      <td>4</td>\n",
       "      <td>AIR</td>\n",
       "      <td>00036110</td>\n",
       "      <td>AAR CORPORATION</td>\n",
       "      <td>2007</td>\n",
       "      <td>2007-12-31</td>\n",
       "      <td>54594.0</td>\n",
       "      <td>001004</td>\n",
       "      <td>2008-05-31</td>\n",
       "      <td>2007.0</td>\n",
       "      <td>00036110</td>\n",
       "      <td>...</td>\n",
       "      <td>19.28</td>\n",
       "      <td>39.42</td>\n",
       "      <td>18.75</td>\n",
       "      <td>1.0</td>\n",
       "      <td>1.0</td>\n",
       "      <td>6.0</td>\n",
       "      <td>1.0</td>\n",
       "      <td>1.0</td>\n",
       "      <td>Y</td>\n",
       "      <td>Y</td>\n",
       "    </tr>\n",
       "    <tr>\n",
       "      <td>...</td>\n",
       "      <td>...</td>\n",
       "      <td>...</td>\n",
       "      <td>...</td>\n",
       "      <td>...</td>\n",
       "      <td>...</td>\n",
       "      <td>...</td>\n",
       "      <td>...</td>\n",
       "      <td>...</td>\n",
       "      <td>...</td>\n",
       "      <td>...</td>\n",
       "      <td>...</td>\n",
       "      <td>...</td>\n",
       "      <td>...</td>\n",
       "      <td>...</td>\n",
       "      <td>...</td>\n",
       "      <td>...</td>\n",
       "      <td>...</td>\n",
       "      <td>...</td>\n",
       "      <td>...</td>\n",
       "      <td>...</td>\n",
       "      <td>...</td>\n",
       "    </tr>\n",
       "    <tr>\n",
       "      <td>43326</td>\n",
       "      <td>FF</td>\n",
       "      <td>36116M10</td>\n",
       "      <td>FUTUREFUEL CORP.</td>\n",
       "      <td>2015</td>\n",
       "      <td>2015-12-31</td>\n",
       "      <td>12615.0</td>\n",
       "      <td>287462</td>\n",
       "      <td>2015-12-31</td>\n",
       "      <td>2015.0</td>\n",
       "      <td>36116M10</td>\n",
       "      <td>...</td>\n",
       "      <td>13.50</td>\n",
       "      <td>16.08</td>\n",
       "      <td>9.11</td>\n",
       "      <td>1.0</td>\n",
       "      <td>1.0</td>\n",
       "      <td>9.0</td>\n",
       "      <td>1.0</td>\n",
       "      <td>1.0</td>\n",
       "      <td>Y</td>\n",
       "      <td>Y</td>\n",
       "    </tr>\n",
       "    <tr>\n",
       "      <td>43327</td>\n",
       "      <td>FF</td>\n",
       "      <td>36116M10</td>\n",
       "      <td>FUTUREFUEL CORP.</td>\n",
       "      <td>2016</td>\n",
       "      <td>2016-12-30</td>\n",
       "      <td>12615.0</td>\n",
       "      <td>287462</td>\n",
       "      <td>2016-12-31</td>\n",
       "      <td>2016.0</td>\n",
       "      <td>36116M10</td>\n",
       "      <td>...</td>\n",
       "      <td>13.90</td>\n",
       "      <td>16.58</td>\n",
       "      <td>9.77</td>\n",
       "      <td>1.0</td>\n",
       "      <td>1.0</td>\n",
       "      <td>9.0</td>\n",
       "      <td>1.0</td>\n",
       "      <td>1.0</td>\n",
       "      <td>Y</td>\n",
       "      <td>Y</td>\n",
       "    </tr>\n",
       "    <tr>\n",
       "      <td>43328</td>\n",
       "      <td>PAH</td>\n",
       "      <td>72766Q10</td>\n",
       "      <td>PLATFORM SPECIALTY PRODUCTS CORPORATION</td>\n",
       "      <td>2014</td>\n",
       "      <td>2014-12-31</td>\n",
       "      <td>14406.0</td>\n",
       "      <td>315318</td>\n",
       "      <td>2014-12-31</td>\n",
       "      <td>2014.0</td>\n",
       "      <td>72766Q10</td>\n",
       "      <td>...</td>\n",
       "      <td>23.22</td>\n",
       "      <td>28.95</td>\n",
       "      <td>13.75</td>\n",
       "      <td>1.0</td>\n",
       "      <td>1.0</td>\n",
       "      <td>6.0</td>\n",
       "      <td>1.0</td>\n",
       "      <td>0.0</td>\n",
       "      <td>Y</td>\n",
       "      <td>Y</td>\n",
       "    </tr>\n",
       "    <tr>\n",
       "      <td>43329</td>\n",
       "      <td>PAH</td>\n",
       "      <td>72766Q10</td>\n",
       "      <td>PLATFORM SPECIALTY PRODUCTS CORPORATION</td>\n",
       "      <td>2015</td>\n",
       "      <td>2015-12-31</td>\n",
       "      <td>14406.0</td>\n",
       "      <td>315318</td>\n",
       "      <td>2015-12-31</td>\n",
       "      <td>2015.0</td>\n",
       "      <td>72766Q10</td>\n",
       "      <td>...</td>\n",
       "      <td>12.83</td>\n",
       "      <td>28.44</td>\n",
       "      <td>9.25</td>\n",
       "      <td>1.0</td>\n",
       "      <td>1.0</td>\n",
       "      <td>7.0</td>\n",
       "      <td>4.0</td>\n",
       "      <td>2.0</td>\n",
       "      <td>Y</td>\n",
       "      <td>Y</td>\n",
       "    </tr>\n",
       "    <tr>\n",
       "      <td>43330</td>\n",
       "      <td>PAH</td>\n",
       "      <td>72766Q10</td>\n",
       "      <td>PLATFORM SPECIALTY PRODUCTS CORPORATION</td>\n",
       "      <td>2016</td>\n",
       "      <td>2016-12-30</td>\n",
       "      <td>14406.0</td>\n",
       "      <td>315318</td>\n",
       "      <td>2016-12-31</td>\n",
       "      <td>2016.0</td>\n",
       "      <td>72766Q10</td>\n",
       "      <td>...</td>\n",
       "      <td>9.81</td>\n",
       "      <td>12.36</td>\n",
       "      <td>5.25</td>\n",
       "      <td>1.0</td>\n",
       "      <td>1.0</td>\n",
       "      <td>7.0</td>\n",
       "      <td>1.0</td>\n",
       "      <td>2.0</td>\n",
       "      <td>Y</td>\n",
       "      <td>Y</td>\n",
       "    </tr>\n",
       "  </tbody>\n",
       "</table>\n",
       "<p>43331 rows × 1122 columns</p>\n",
       "</div>"
      ],
      "text/plain": [
       "      ticker_KLD cusip_KLD                              companyname  year  \\\n",
       "0            AIR  00036110                          AAR CORPORATION  2003   \n",
       "1            AIR  00036110                          AAR CORPORATION  2004   \n",
       "2            AIR  00036110                          AAR CORPORATION  2005   \n",
       "3            AIR  00036110                          AAR CORPORATION  2006   \n",
       "4            AIR  00036110                          AAR CORPORATION  2007   \n",
       "...          ...       ...                                      ...   ...   \n",
       "43326         FF  36116M10                         FUTUREFUEL CORP.  2015   \n",
       "43327         FF  36116M10                         FUTUREFUEL CORP.  2016   \n",
       "43328        PAH  72766Q10  PLATFORM SPECIALTY PRODUCTS CORPORATION  2014   \n",
       "43329        PAH  72766Q10  PLATFORM SPECIALTY PRODUCTS CORPORATION  2015   \n",
       "43330        PAH  72766Q10  PLATFORM SPECIALTY PRODUCTS CORPORATION  2016   \n",
       "\n",
       "             date   permno   gvkey    datadate   fyear     cusip  ... prcc_f  \\\n",
       "0      2003-12-31  54594.0  001004  2004-05-31  2003.0  00036110  ...   9.58   \n",
       "1      2004-12-31  54594.0  001004  2005-05-31  2004.0  00036110  ...  16.04   \n",
       "2      2005-12-30  54594.0  001004  2006-05-31  2005.0  00036110  ...  24.08   \n",
       "3      2006-12-29  54594.0  001004  2007-05-31  2006.0  00036110  ...  32.50   \n",
       "4      2007-12-31  54594.0  001004  2008-05-31  2007.0  00036110  ...  19.28   \n",
       "...           ...      ...     ...         ...     ...       ...  ...    ...   \n",
       "43326  2015-12-31  12615.0  287462  2015-12-31  2015.0  36116M10  ...  13.50   \n",
       "43327  2016-12-30  12615.0  287462  2016-12-31  2016.0  36116M10  ...  13.90   \n",
       "43328  2014-12-31  14406.0  315318  2014-12-31  2014.0  72766Q10  ...  23.22   \n",
       "43329  2015-12-31  14406.0  315318  2015-12-31  2015.0  72766Q10  ...  12.83   \n",
       "43330  2016-12-30  14406.0  315318  2016-12-31  2016.0  72766Q10  ...   9.81   \n",
       "\n",
       "       prch_f  prcl_f  adjex_f  rank   au  auop  auopic  ceoso  cfoso  \n",
       "0       16.87    4.59      1.0   1.0  6.0   1.0     NaN      Y      Y  \n",
       "1       16.13    8.86      1.0   1.0  6.0   1.0     1.0      Y      Y  \n",
       "2       29.32   14.80      1.0   1.0  6.0   1.0     1.0      Y      Y  \n",
       "3       33.75   19.40      1.0   1.0  6.0   1.0     1.0      Y      Y  \n",
       "4       39.42   18.75      1.0   1.0  6.0   1.0     1.0      Y      Y  \n",
       "...       ...     ...      ...   ...  ...   ...     ...    ...    ...  \n",
       "43326   16.08    9.11      1.0   1.0  9.0   1.0     1.0      Y      Y  \n",
       "43327   16.58    9.77      1.0   1.0  9.0   1.0     1.0      Y      Y  \n",
       "43328   28.95   13.75      1.0   1.0  6.0   1.0     0.0      Y      Y  \n",
       "43329   28.44    9.25      1.0   1.0  7.0   4.0     2.0      Y      Y  \n",
       "43330   12.36    5.25      1.0   1.0  7.0   1.0     2.0      Y      Y  \n",
       "\n",
       "[43331 rows x 1122 columns]"
      ]
     },
     "execution_count": 4,
     "metadata": {},
     "output_type": "execute_result"
    }
   ],
   "source": [
    "data.sort_values(by=['gvkey', 'fyear'])"
   ]
  },
  {
   "cell_type": "markdown",
   "metadata": {},
   "source": [
    "Number of unique company based on _gvkey_ column:"
   ]
  },
  {
   "cell_type": "code",
   "execution_count": 5,
   "metadata": {},
   "outputs": [
    {
     "data": {
      "text/plain": [
       "5222"
      ]
     },
     "execution_count": 5,
     "metadata": {},
     "output_type": "execute_result"
    }
   ],
   "source": [
    "data.gvkey.nunique()"
   ]
  },
  {
   "cell_type": "markdown",
   "metadata": {},
   "source": [
    "## 1. Construct variables using KLD \n",
    "### 1.1 Collect positive and negative performance indicator list\n",
    "Column names contains \"str\" (\"con\") corresponding to positive (negative) performance indicators, respectively."
   ]
  },
  {
   "cell_type": "code",
   "execution_count": 6,
   "metadata": {
    "scrolled": true
   },
   "outputs": [
    {
     "data": {
      "text/plain": [
       "Index(['env_str_a', 'env_str_b', 'env_str_c', 'env_str_d', 'env_str_f',\n",
       "       'env_str_x', 'env_str_num', 'com_str_a', 'com_str_b', 'com_str_c',\n",
       "       'com_str_x', 'com_str_num', 'emp_str_a', 'emp_str_b', 'emp_str_c',\n",
       "       'emp_str_d', 'emp_str_f', 'emp_str_x', 'emp_str_num', 'div_str_a',\n",
       "       'div_str_b', 'div_str_c', 'div_str_d', 'div_str_e', 'div_str_f',\n",
       "       'div_str_x', 'div_str_num', 'pro_str_a', 'pro_str_b', 'pro_str_c',\n",
       "       'pro_str_x', 'pro_str_num', 'cgov_str_a', 'cgov_str_c', 'cgov_str_x',\n",
       "       'cgov_str_num', 'com_str_d', 'com_str_f', 'hum_str_a', 'hum_str_x',\n",
       "       'hum_str_num', 'div_str_g', 'cgov_str_d', 'hum_str_d', 'hum_str_g',\n",
       "       'emp_str_g', 'com_str_g', 'cgov_str_e', 'env_str_g', 'cgov_str_f',\n",
       "       'com_str_h', 'emp_str_h', 'div_str_h', 'pro_str_d', 'env_str_h',\n",
       "       'env_str_i', 'env_str_j', 'emp_str_i', 'emp_str_j', 'emp_str_k',\n",
       "       'emp_str_l', 'cgov_str_g', 'cgov_str_h', 'gov_str_num', 'env_str_k',\n",
       "       'env_str_l', 'env_str_m', 'env_str_n', 'env_str_o', 'env_str_p',\n",
       "       'env_str_q', 'emp_str_m', 'emp_str_n', 'pro_str_e', 'pro_str_f',\n",
       "       'pro_str_g', 'pro_str_h', 'pro_str_i', 'pro_str_j', 'pro_str_k'],\n",
       "      dtype='object')"
      ]
     },
     "execution_count": 6,
     "metadata": {},
     "output_type": "execute_result"
    }
   ],
   "source": [
    "data.columns[data.columns.str.contains(\"_str_\")]"
   ]
  },
  {
   "cell_type": "code",
   "execution_count": 7,
   "metadata": {},
   "outputs": [
    {
     "data": {
      "text/plain": [
       "80"
      ]
     },
     "execution_count": 7,
     "metadata": {},
     "output_type": "execute_result"
    }
   ],
   "source": [
    "sum(data.columns.str.contains(\"_str_\"))"
   ]
  },
  {
   "cell_type": "markdown",
   "metadata": {},
   "source": [
    "Column names contains \"_num\" represent total number of particular category indicators."
   ]
  },
  {
   "cell_type": "code",
   "execution_count": 8,
   "metadata": {},
   "outputs": [
    {
     "data": {
      "text/plain": [
       "Index(['env_str_num', 'com_str_num', 'emp_str_num', 'div_str_num',\n",
       "       'pro_str_num', 'cgov_str_num', 'hum_str_num', 'gov_str_num'],\n",
       "      dtype='object')"
      ]
     },
     "execution_count": 8,
     "metadata": {},
     "output_type": "execute_result"
    }
   ],
   "source": [
    "data.columns[data.columns.str.contains(\"str_num\")]"
   ]
  },
  {
   "cell_type": "code",
   "execution_count": 9,
   "metadata": {},
   "outputs": [
    {
     "data": {
      "text/plain": [
       "8"
      ]
     },
     "execution_count": 9,
     "metadata": {},
     "output_type": "execute_result"
    }
   ],
   "source": [
    "sum(data.columns.str.contains(\"str_num\"))"
   ]
  },
  {
   "cell_type": "code",
   "execution_count": 10,
   "metadata": {
    "scrolled": true
   },
   "outputs": [
    {
     "data": {
      "text/plain": [
       "Index(['env_con_a', 'env_con_b', 'env_con_c', 'env_con_d', 'env_con_e',\n",
       "       'env_con_x', 'env_con_num', 'com_con_a', 'com_con_b', 'com_con_d',\n",
       "       'com_con_x', 'com_con_num', 'hum_con_a', 'hum_con_b', 'hum_con_num',\n",
       "       'emp_con_a', 'emp_con_b', 'emp_con_c', 'emp_con_x', 'emp_con_num',\n",
       "       'div_con_a', 'div_con_x', 'div_con_num', 'pro_con_a', 'pro_con_d',\n",
       "       'pro_con_e', 'pro_con_x', 'pro_con_num', 'cgov_con_b', 'cgov_con_f',\n",
       "       'cgov_con_num', 'alc_con_a', 'gam_con_a', 'mil_con_a', 'mil_con_b',\n",
       "       'mil_con_c', 'mil_con_x', 'mil_con_num', 'nuc_con_a', 'nuc_con_c',\n",
       "       'nuc_con_d', 'nuc_con_x', 'nuc_con_num', 'tob_con_a', 'emp_con_d',\n",
       "       'cgov_con_x', 'div_con_b', 'hum_con_c', 'hum_con_d', 'hum_con_x',\n",
       "       'alc_con_x', 'gam_con_x', 'alc_con_num', 'gam_con_num', 'tob_con_num',\n",
       "       'hum_con_f', 'fir_con_a', 'tob_con_x', 'env_con_f', 'hum_con_g',\n",
       "       'cgov_con_g', 'cgov_con_h', 'cgov_con_i', 'cgov_con_j', 'env_con_g',\n",
       "       'env_con_h', 'env_con_i', 'hum_con_h', 'emp_con_f', 'div_con_c',\n",
       "       'cgov_con_k', 'env_con_j', 'env_con_k', 'hum_con_j', 'hum_con_k',\n",
       "       'emp_con_g', 'div_con_d', 'pro_con_f', 'cgov_con_l', 'cgov_con_m',\n",
       "       'emp_con_h', 'pro_con_g'],\n",
       "      dtype='object')"
      ]
     },
     "execution_count": 10,
     "metadata": {},
     "output_type": "execute_result"
    }
   ],
   "source": [
    "data.columns[data.columns.str.contains(\"_con_\")]"
   ]
  },
  {
   "cell_type": "code",
   "execution_count": 11,
   "metadata": {},
   "outputs": [
    {
     "data": {
      "text/plain": [
       "82"
      ]
     },
     "execution_count": 11,
     "metadata": {},
     "output_type": "execute_result"
    }
   ],
   "source": [
    "sum(data.columns.str.contains(\"_con_\"))"
   ]
  },
  {
   "cell_type": "code",
   "execution_count": 12,
   "metadata": {},
   "outputs": [
    {
     "data": {
      "text/plain": [
       "Index(['env_con_num', 'com_con_num', 'hum_con_num', 'emp_con_num',\n",
       "       'div_con_num', 'pro_con_num', 'cgov_con_num', 'mil_con_num',\n",
       "       'nuc_con_num', 'alc_con_num', 'gam_con_num', 'tob_con_num'],\n",
       "      dtype='object')"
      ]
     },
     "execution_count": 12,
     "metadata": {},
     "output_type": "execute_result"
    }
   ],
   "source": [
    "data.columns[data.columns.str.contains(\"con_num\")]"
   ]
  },
  {
   "cell_type": "code",
   "execution_count": 13,
   "metadata": {},
   "outputs": [
    {
     "data": {
      "text/plain": [
       "12"
      ]
     },
     "execution_count": 13,
     "metadata": {},
     "output_type": "execute_result"
    }
   ],
   "source": [
    "sum(data.columns.str.contains(\"con_num\"))"
   ]
  },
  {
   "cell_type": "markdown",
   "metadata": {},
   "source": [
    "Collecting positive indicators using individual indicator method:"
   ]
  },
  {
   "cell_type": "code",
   "execution_count": 14,
   "metadata": {},
   "outputs": [
    {
     "data": {
      "text/plain": [
       "72"
      ]
     },
     "execution_count": 14,
     "metadata": {},
     "output_type": "execute_result"
    }
   ],
   "source": [
    "positive = data.columns[data.columns.str.contains(\"_str_\") & ~data.columns.str.contains(\"str_num\")]\n",
    "len(positive)"
   ]
  },
  {
   "cell_type": "code",
   "execution_count": 15,
   "metadata": {},
   "outputs": [
    {
     "data": {
      "text/plain": [
       "70"
      ]
     },
     "execution_count": 15,
     "metadata": {},
     "output_type": "execute_result"
    }
   ],
   "source": [
    "negative = data.columns[data.columns.str.contains(\"_con_\") & ~data.columns.str.contains(\"con_num\")]\n",
    "len(negative)"
   ]
  },
  {
   "cell_type": "code",
   "execution_count": 16,
   "metadata": {},
   "outputs": [],
   "source": [
    "KLD_col_list = []"
   ]
  },
  {
   "cell_type": "markdown",
   "metadata": {},
   "source": [
    "### 1.2 Construct Overall KLD Indices"
   ]
  },
  {
   "cell_type": "markdown",
   "metadata": {},
   "source": [
    "Index by sum:"
   ]
  },
  {
   "cell_type": "code",
   "execution_count": 17,
   "metadata": {},
   "outputs": [],
   "source": [
    "data['positive'] = data[positive].sum(axis=1)\n",
    "data['negative'] = data[negative].sum(axis=1)\n",
    "KLD_col_list.append('positive'); KLD_col_list.append('negative')"
   ]
  },
  {
   "cell_type": "markdown",
   "metadata": {},
   "source": [
    "Index by average:"
   ]
  },
  {
   "cell_type": "code",
   "execution_count": 18,
   "metadata": {},
   "outputs": [],
   "source": [
    "data['positive_avg'] = data[positive].mean(axis=1)\n",
    "data['negative_avg'] = data[negative].mean(axis=1)\n",
    "KLD_col_list.extend(['positive_avg', 'negative_avg'])"
   ]
  },
  {
   "cell_type": "code",
   "execution_count": 19,
   "metadata": {},
   "outputs": [
    {
     "data": {
      "text/html": [
       "<div>\n",
       "<style scoped>\n",
       "    .dataframe tbody tr th:only-of-type {\n",
       "        vertical-align: middle;\n",
       "    }\n",
       "\n",
       "    .dataframe tbody tr th {\n",
       "        vertical-align: top;\n",
       "    }\n",
       "\n",
       "    .dataframe thead th {\n",
       "        text-align: right;\n",
       "    }\n",
       "</style>\n",
       "<table border=\"1\" class=\"dataframe\">\n",
       "  <thead>\n",
       "    <tr style=\"text-align: right;\">\n",
       "      <th></th>\n",
       "      <th>positive</th>\n",
       "      <th>negative</th>\n",
       "      <th>positive_avg</th>\n",
       "      <th>negative_avg</th>\n",
       "    </tr>\n",
       "  </thead>\n",
       "  <tbody>\n",
       "    <tr>\n",
       "      <td>0</td>\n",
       "      <td>0.0</td>\n",
       "      <td>1.0</td>\n",
       "      <td>0.000000</td>\n",
       "      <td>0.027778</td>\n",
       "    </tr>\n",
       "    <tr>\n",
       "      <td>1</td>\n",
       "      <td>0.0</td>\n",
       "      <td>3.0</td>\n",
       "      <td>0.000000</td>\n",
       "      <td>0.083333</td>\n",
       "    </tr>\n",
       "    <tr>\n",
       "      <td>2</td>\n",
       "      <td>0.0</td>\n",
       "      <td>4.0</td>\n",
       "      <td>0.000000</td>\n",
       "      <td>0.102564</td>\n",
       "    </tr>\n",
       "    <tr>\n",
       "      <td>3</td>\n",
       "      <td>0.0</td>\n",
       "      <td>4.0</td>\n",
       "      <td>0.000000</td>\n",
       "      <td>0.102564</td>\n",
       "    </tr>\n",
       "    <tr>\n",
       "      <td>4</td>\n",
       "      <td>0.0</td>\n",
       "      <td>4.0</td>\n",
       "      <td>0.000000</td>\n",
       "      <td>0.100000</td>\n",
       "    </tr>\n",
       "    <tr>\n",
       "      <td>...</td>\n",
       "      <td>...</td>\n",
       "      <td>...</td>\n",
       "      <td>...</td>\n",
       "      <td>...</td>\n",
       "    </tr>\n",
       "    <tr>\n",
       "      <td>43326</td>\n",
       "      <td>1.0</td>\n",
       "      <td>1.0</td>\n",
       "      <td>0.090909</td>\n",
       "      <td>0.028571</td>\n",
       "    </tr>\n",
       "    <tr>\n",
       "      <td>43327</td>\n",
       "      <td>1.0</td>\n",
       "      <td>1.0</td>\n",
       "      <td>0.125000</td>\n",
       "      <td>0.028571</td>\n",
       "    </tr>\n",
       "    <tr>\n",
       "      <td>43328</td>\n",
       "      <td>0.0</td>\n",
       "      <td>0.0</td>\n",
       "      <td>0.000000</td>\n",
       "      <td>0.000000</td>\n",
       "    </tr>\n",
       "    <tr>\n",
       "      <td>43329</td>\n",
       "      <td>0.0</td>\n",
       "      <td>1.0</td>\n",
       "      <td>0.000000</td>\n",
       "      <td>0.028571</td>\n",
       "    </tr>\n",
       "    <tr>\n",
       "      <td>43330</td>\n",
       "      <td>1.0</td>\n",
       "      <td>1.0</td>\n",
       "      <td>0.142857</td>\n",
       "      <td>0.028571</td>\n",
       "    </tr>\n",
       "  </tbody>\n",
       "</table>\n",
       "<p>43331 rows × 4 columns</p>\n",
       "</div>"
      ],
      "text/plain": [
       "       positive  negative  positive_avg  negative_avg\n",
       "0           0.0       1.0      0.000000      0.027778\n",
       "1           0.0       3.0      0.000000      0.083333\n",
       "2           0.0       4.0      0.000000      0.102564\n",
       "3           0.0       4.0      0.000000      0.102564\n",
       "4           0.0       4.0      0.000000      0.100000\n",
       "...         ...       ...           ...           ...\n",
       "43326       1.0       1.0      0.090909      0.028571\n",
       "43327       1.0       1.0      0.125000      0.028571\n",
       "43328       0.0       0.0      0.000000      0.000000\n",
       "43329       0.0       1.0      0.000000      0.028571\n",
       "43330       1.0       1.0      0.142857      0.028571\n",
       "\n",
       "[43331 rows x 4 columns]"
      ]
     },
     "execution_count": 19,
     "metadata": {},
     "output_type": "execute_result"
    }
   ],
   "source": [
    "data[['positive', 'negative', 'positive_avg', 'negative_avg']]"
   ]
  },
  {
   "cell_type": "code",
   "execution_count": 20,
   "metadata": {},
   "outputs": [],
   "source": [
    "data['KLD Index'] = data['positive'] - data['negative']\n",
    "data['KLD Index Norm'] = (data['positive'] - data['negative'])/(data['positive'] + data['negative'])"
   ]
  },
  {
   "cell_type": "code",
   "execution_count": 21,
   "metadata": {
    "scrolled": true
   },
   "outputs": [
    {
     "data": {
      "text/plain": [
       "<matplotlib.axes._subplots.AxesSubplot at 0x10cd06f60>"
      ]
     },
     "execution_count": 21,
     "metadata": {},
     "output_type": "execute_result"
    },
    {
     "data": {
      "image/png": "[encoded data removed]",
      "text/plain": [
       "<Figure size 432x288 with 1 Axes>"
      ]
     },
     "metadata": {
      "needs_background": "light"
     },
     "output_type": "display_data"
    }
   ],
   "source": [
    "data['KLD Index'].hist(bins=31, align='left')"
   ]
  },
  {
   "cell_type": "markdown",
   "metadata": {},
   "source": [
    "Check and fix division by zero in normalized index:"
   ]
  },
  {
   "cell_type": "code",
   "execution_count": 22,
   "metadata": {},
   "outputs": [
    {
     "data": {
      "text/plain": [
       "5327"
      ]
     },
     "execution_count": 22,
     "metadata": {},
     "output_type": "execute_result"
    }
   ],
   "source": [
    "((data['positive']==0) & (data['negative']==0)).sum()"
   ]
  },
  {
   "cell_type": "code",
   "execution_count": 23,
   "metadata": {},
   "outputs": [
    {
     "data": {
      "text/plain": [
       "5327"
      ]
     },
     "execution_count": 23,
     "metadata": {},
     "output_type": "execute_result"
    }
   ],
   "source": [
    "((data['positive'] + data['negative']) ==0).sum()"
   ]
  },
  {
   "cell_type": "code",
   "execution_count": 24,
   "metadata": {},
   "outputs": [
    {
     "data": {
      "text/plain": [
       "10462"
      ]
     },
     "execution_count": 24,
     "metadata": {},
     "output_type": "execute_result"
    }
   ],
   "source": [
    "((data['positive'] - data['negative'])==0).sum()"
   ]
  },
  {
   "cell_type": "code",
   "execution_count": 25,
   "metadata": {},
   "outputs": [
    {
     "data": {
      "text/plain": [
       "5327"
      ]
     },
     "execution_count": 25,
     "metadata": {},
     "output_type": "execute_result"
    }
   ],
   "source": [
    "data['KLD Index Norm'].isna().sum()"
   ]
  },
  {
   "cell_type": "code",
   "execution_count": 26,
   "metadata": {},
   "outputs": [],
   "source": [
    "data['KLD Index Norm'].fillna(0, inplace=True) # set division by 0 result NaN to zero"
   ]
  },
  {
   "cell_type": "code",
   "execution_count": 27,
   "metadata": {
    "scrolled": false
   },
   "outputs": [
    {
     "data": {
      "text/plain": [
       "<matplotlib.axes._subplots.AxesSubplot at 0x12071cac8>"
      ]
     },
     "execution_count": 27,
     "metadata": {},
     "output_type": "execute_result"
    },
    {
     "data": {
      "image/png": "[encoded data removed]",
      "text/plain": [
       "<Figure size 432x288 with 1 Axes>"
      ]
     },
     "metadata": {
      "needs_background": "light"
     },
     "output_type": "display_data"
    }
   ],
   "source": [
    "data['KLD Index Norm'].hist(bins=30, align='mid')"
   ]
  },
  {
   "cell_type": "code",
   "execution_count": 28,
   "metadata": {},
   "outputs": [
    {
     "data": {
      "text/plain": [
       "10462"
      ]
     },
     "execution_count": 28,
     "metadata": {},
     "output_type": "execute_result"
    }
   ],
   "source": [
    "(data['KLD Index Norm']==0).sum()"
   ]
  },
  {
   "cell_type": "markdown",
   "metadata": {},
   "source": [
    "It can be skewed by the controversial issues. It does not preserve order of KLD Index. Say within +1, there are firms having zero negative with any positive values. This means they cannot be compared across within the same number."
   ]
  },
  {
   "cell_type": "code",
   "execution_count": 29,
   "metadata": {},
   "outputs": [
    {
     "data": {
      "text/plain": [
       "12275"
      ]
     },
     "execution_count": 29,
     "metadata": {},
     "output_type": "execute_result"
    }
   ],
   "source": [
    "(data['negative']==0).sum()"
   ]
  },
  {
   "cell_type": "code",
   "execution_count": 30,
   "metadata": {},
   "outputs": [
    {
     "data": {
      "text/plain": [
       "6948"
      ]
     },
     "execution_count": 30,
     "metadata": {},
     "output_type": "execute_result"
    }
   ],
   "source": [
    "((data['positive']!=0) & (data['negative']==0)).sum()"
   ]
  },
  {
   "cell_type": "code",
   "execution_count": 31,
   "metadata": {},
   "outputs": [
    {
     "data": {
      "text/plain": [
       "6948"
      ]
     },
     "execution_count": 31,
     "metadata": {},
     "output_type": "execute_result"
    }
   ],
   "source": [
    "12275 - 5327"
   ]
  },
  {
   "cell_type": "code",
   "execution_count": 32,
   "metadata": {},
   "outputs": [
    {
     "data": {
      "text/plain": [
       "5135"
      ]
     },
     "execution_count": 32,
     "metadata": {},
     "output_type": "execute_result"
    }
   ],
   "source": [
    "10462 - 5327"
   ]
  },
  {
   "cell_type": "code",
   "execution_count": 33,
   "metadata": {},
   "outputs": [
    {
     "data": {
      "text/plain": [
       "<matplotlib.axes._subplots.AxesSubplot at 0x120bf0e10>"
      ]
     },
     "execution_count": 33,
     "metadata": {},
     "output_type": "execute_result"
    },
    {
     "data": {
      "image/png": "[encoded data removed]",
      "text/plain": [
       "<Figure size 432x288 with 1 Axes>"
      ]
     },
     "metadata": {
      "needs_background": "light"
     },
     "output_type": "display_data"
    }
   ],
   "source": [
    "data['positive'].hist(bins=20)"
   ]
  },
  {
   "cell_type": "code",
   "execution_count": 34,
   "metadata": {},
   "outputs": [
    {
     "data": {
      "text/plain": [
       "<matplotlib.axes._subplots.AxesSubplot at 0x120cd0cf8>"
      ]
     },
     "execution_count": 34,
     "metadata": {},
     "output_type": "execute_result"
    },
    {
     "data": {
      "image/png": "[encoded data removed]",
      "text/plain": [
       "<Figure size 432x288 with 1 Axes>"
      ]
     },
     "metadata": {
      "needs_background": "light"
     },
     "output_type": "display_data"
    }
   ],
   "source": [
    "data['negative'].hist(bins=20)"
   ]
  },
  {
   "cell_type": "code",
   "execution_count": 35,
   "metadata": {},
   "outputs": [
    {
     "data": {
      "text/plain": [
       "count     43331.000000\n",
       "mean         -0.183471\n",
       "std           2.427169\n",
       "min         -12.000000\n",
       "25%          -2.000000\n",
       "50%           0.000000\n",
       "75%           1.000000\n",
       "max          19.000000\n",
       "median        0.000000\n",
       "Name: KLD Index, dtype: float64"
      ]
     },
     "execution_count": 35,
     "metadata": {},
     "output_type": "execute_result"
    }
   ],
   "source": [
    "KLD_summary = data['KLD Index'].describe()\n",
    "KLD_summary['median'] = data['KLD Index'].median()\n",
    "KLD_summary"
   ]
  },
  {
   "cell_type": "code",
   "execution_count": 36,
   "metadata": {},
   "outputs": [],
   "source": [
    "KLD_col_list.extend(['KLD Index', 'KLD Index Norm'])"
   ]
  },
  {
   "cell_type": "markdown",
   "metadata": {},
   "source": [
    "### 1.3 Collect ESG level positive and negative performance indicator list\n",
    "Column names contains \"str\" (\"con\") corresponding to positive (negative) performance indicators, respectively."
   ]
  },
  {
   "cell_type": "markdown",
   "metadata": {},
   "source": [
    "#### 1.3.1 Environment Performance Indicators:"
   ]
  },
  {
   "cell_type": "code",
   "execution_count": 37,
   "metadata": {},
   "outputs": [],
   "source": [
    "E_pos = data.columns[data.columns.str.contains(\"env_str\") & ~data.columns.str.contains(\"env_str_num\")]\n",
    "data['E_pos'] = data[E_pos].sum(axis=1)\n",
    "\n",
    "E_neg = data.columns[data.columns.str.contains(\"env_con\") & ~data.columns.str.contains(\"env_con_num\")]\n",
    "data['E_neg'] = data[E_neg].sum(axis=1)\n",
    "\n",
    "data['E Index'] = data['E_pos'] - data['E_neg']\n",
    "\n",
    "KLD_col_list.extend(['E_pos', 'E_neg', 'E Index'])"
   ]
  },
  {
   "cell_type": "code",
   "execution_count": 38,
   "metadata": {},
   "outputs": [
    {
     "data": {
      "text/plain": [
       "<matplotlib.axes._subplots.AxesSubplot at 0x10db2c278>"
      ]
     },
     "execution_count": 38,
     "metadata": {},
     "output_type": "execute_result"
    },
    {
     "data": {
      "image/png": "[encoded data removed]",
      "text/plain": [
       "<Figure size 432x288 with 1 Axes>"
      ]
     },
     "metadata": {
      "needs_background": "light"
     },
     "output_type": "display_data"
    }
   ],
   "source": [
    "data['E Index'].hist(bins=11, align='left')"
   ]
  },
  {
   "cell_type": "code",
   "execution_count": 39,
   "metadata": {},
   "outputs": [
    {
     "data": {
      "text/plain": [
       "count     43331.000000\n",
       "mean          0.042764\n",
       "std           0.800844\n",
       "min          -5.000000\n",
       "25%           0.000000\n",
       "50%           0.000000\n",
       "75%           0.000000\n",
       "max           6.000000\n",
       "median        0.000000\n",
       "Name: E Index, dtype: float64"
      ]
     },
     "execution_count": 39,
     "metadata": {},
     "output_type": "execute_result"
    }
   ],
   "source": [
    "E_summary = data['E Index'].describe()\n",
    "E_summary['median'] = data['E Index'].median()\n",
    "E_summary"
   ]
  },
  {
   "cell_type": "markdown",
   "metadata": {},
   "source": [
    "#### 1.3.2 Social Performance Indicators:"
   ]
  },
  {
   "cell_type": "code",
   "execution_count": 40,
   "metadata": {},
   "outputs": [],
   "source": [
    "S_pos = data.columns[data.columns.str.contains(\"com_str\") & ~data.columns.str.contains(\"com_str_num\") |\n",
    "                     data.columns.str.contains(\"hum_str\") & ~data.columns.str.contains(\"hum_str_num\") |\n",
    "                     data.columns.str.contains(\"emp_str\") & ~data.columns.str.contains(\"emp_str_num\") |\n",
    "                     data.columns.str.contains(\"div_str\") & ~data.columns.str.contains(\"div_str_num\") |\n",
    "                     data.columns.str.contains(\"pro_str\") & ~data.columns.str.contains(\"pro_str_num\")]\n",
    "data['S_pos'] = data[S_pos].sum(axis=1)\n",
    "\n",
    "S_neg = data.columns[data.columns.str.contains(\"com_con\") & ~data.columns.str.contains(\"com_con_num\") |\n",
    "                     data.columns.str.contains(\"hum_con\") & ~data.columns.str.contains(\"hum_con_num\") |\n",
    "                     data.columns.str.contains(\"emp_con\") & ~data.columns.str.contains(\"emp_con_num\") |\n",
    "                     data.columns.str.contains(\"div_con\") & ~data.columns.str.contains(\"div_con_num\") |\n",
    "                     data.columns.str.contains(\"pro_con\") & ~data.columns.str.contains(\"pro_con_num\")]\n",
    "data['S_neg'] = data[S_neg].sum(axis=1)\n",
    "\n",
    "data['S Index'] = data['S_pos'] - data['S_neg']\n",
    "\n",
    "KLD_col_list.extend(['S_pos', 'S_neg', 'S Index'])"
   ]
  },
  {
   "cell_type": "code",
   "execution_count": 41,
   "metadata": {},
   "outputs": [
    {
     "data": {
      "text/plain": [
       "<matplotlib.axes._subplots.AxesSubplot at 0x12058e438>"
      ]
     },
     "execution_count": 41,
     "metadata": {},
     "output_type": "execute_result"
    },
    {
     "data": {
      "image/png": "[encoded data removed]",
      "text/plain": [
       "<Figure size 432x288 with 1 Axes>"
      ]
     },
     "metadata": {
      "needs_background": "light"
     },
     "output_type": "display_data"
    }
   ],
   "source": [
    "data['S Index'].hist(bins=24, align='left')"
   ]
  },
  {
   "cell_type": "code",
   "execution_count": 42,
   "metadata": {},
   "outputs": [
    {
     "data": {
      "text/plain": [
       "count     43331.000000\n",
       "mean          0.062842\n",
       "std           1.918233\n",
       "min         -10.000000\n",
       "25%          -1.000000\n",
       "50%           0.000000\n",
       "75%           1.000000\n",
       "max          14.000000\n",
       "median        0.000000\n",
       "Name: S Index, dtype: float64"
      ]
     },
     "execution_count": 42,
     "metadata": {},
     "output_type": "execute_result"
    }
   ],
   "source": [
    "S_summary = data['S Index'].describe()\n",
    "S_summary['median'] = data['S Index'].median()\n",
    "S_summary"
   ]
  },
  {
   "cell_type": "markdown",
   "metadata": {},
   "source": [
    "#### 1.3.3 Governance Performance Indicators:"
   ]
  },
  {
   "cell_type": "code",
   "execution_count": 43,
   "metadata": {},
   "outputs": [],
   "source": [
    "G_pos = data.columns[data.columns.str.contains(\"cgov_str\") & ~data.columns.str.contains(\"cgov_str_num\")]\n",
    "data['G_pos'] = data[G_pos].sum(axis=1)\n",
    "\n",
    "G_neg = data.columns[data.columns.str.contains(\"cgov_con\") & ~data.columns.str.contains(\"cgov_con_num\")]\n",
    "data['G_neg'] = data[G_neg].sum(axis=1)\n",
    "\n",
    "data['G Index'] = data['G_pos'] - data['G_neg']\n",
    "\n",
    "KLD_col_list.extend(['G_pos', 'G_neg', 'G Index'])"
   ]
  },
  {
   "cell_type": "code",
   "execution_count": 44,
   "metadata": {},
   "outputs": [
    {
     "data": {
      "text/plain": [
       "<matplotlib.axes._subplots.AxesSubplot at 0x120bab198>"
      ]
     },
     "execution_count": 44,
     "metadata": {},
     "output_type": "execute_result"
    },
    {
     "data": {
      "image/png": "[encoded data removed]",
      "text/plain": [
       "<Figure size 432x288 with 1 Axes>"
      ]
     },
     "metadata": {
      "needs_background": "light"
     },
     "output_type": "display_data"
    }
   ],
   "source": [
    "data['G Index'].hist(bins=7, align='left')"
   ]
  },
  {
   "cell_type": "code",
   "execution_count": 45,
   "metadata": {},
   "outputs": [
    {
     "data": {
      "text/plain": [
       "count     43331.000000\n",
       "mean         -0.178394\n",
       "std           0.662138\n",
       "min          -4.000000\n",
       "25%          -1.000000\n",
       "50%           0.000000\n",
       "75%           0.000000\n",
       "max           3.000000\n",
       "median        0.000000\n",
       "Name: G Index, dtype: float64"
      ]
     },
     "execution_count": 45,
     "metadata": {},
     "output_type": "execute_result"
    }
   ],
   "source": [
    "G_summary = data['G Index'].describe()\n",
    "G_summary['median'] = data['G Index'].median()\n",
    "G_summary"
   ]
  },
  {
   "cell_type": "markdown",
   "metadata": {},
   "source": [
    "#### 1.3.4 Controversial Business Involvement Indicators:\n",
    "<div class=\"alert alert-block alert-warning\">\n",
    "<b>Warning:</b> \"fir\" has no \"fir_con_num\" so do NOT use \"_num\" columns to calculate aggregates.\n",
    "</div>"
   ]
  },
  {
   "cell_type": "code",
   "execution_count": 46,
   "metadata": {},
   "outputs": [],
   "source": [
    "Controv = data.columns[data.columns.str.contains(\"alc_\") & ~data.columns.str.contains(\"alc_con_num\") |\n",
    "                       data.columns.str.contains(\"fir_\") & ~data.columns.str.contains(\"fir_con_num\") |\n",
    "                       data.columns.str.contains(\"gam_\") & ~data.columns.str.contains(\"gam_con_num\") |\n",
    "                       data.columns.str.contains(\"mil_\") & ~data.columns.str.contains(\"mil_con_num\") |\n",
    "                       data.columns.str.contains(\"nuc_\") & ~data.columns.str.contains(\"nuc_con_num\") |\n",
    "                       data.columns.str.contains(\"tob_\") & ~data.columns.str.contains(\"tob_con_num\")]\n",
    "data['Controv'] = data[Controv].sum(axis=1)\n",
    "data['Controv Index'] = - data['Controv']\n",
    "\n",
    "KLD_col_list.extend(['Controv Index'])"
   ]
  },
  {
   "cell_type": "code",
   "execution_count": 47,
   "metadata": {},
   "outputs": [
    {
     "data": {
      "text/plain": [
       "<matplotlib.axes._subplots.AxesSubplot at 0x12063e978>"
      ]
     },
     "execution_count": 47,
     "metadata": {},
     "output_type": "execute_result"
    },
    {
     "data": {
      "image/png": "[encoded data removed]",
      "text/plain": [
       "<Figure size 432x288 with 1 Axes>"
      ]
     },
     "metadata": {
      "needs_background": "light"
     },
     "output_type": "display_data"
    }
   ],
   "source": [
    "data['Controv Index'].hist(bins=4)"
   ]
  },
  {
   "cell_type": "code",
   "execution_count": 48,
   "metadata": {},
   "outputs": [
    {
     "data": {
      "text/plain": [
       "count     43331.000000\n",
       "mean         -0.110683\n",
       "std           0.354626\n",
       "min          -3.000000\n",
       "25%          -0.000000\n",
       "50%          -0.000000\n",
       "75%          -0.000000\n",
       "max          -0.000000\n",
       "median        0.000000\n",
       "Name: Controv Index, dtype: float64"
      ]
     },
     "execution_count": 48,
     "metadata": {},
     "output_type": "execute_result"
    }
   ],
   "source": [
    "Controv_summary = data['Controv Index'].describe()\n",
    "Controv_summary['median'] = data['Controv Index'].median()\n",
    "Controv_summary"
   ]
  },
  {
   "cell_type": "markdown",
   "metadata": {},
   "source": [
    "### 1.4 Construct Aggregate KLD Index from ESG & Controversial granular level"
   ]
  },
  {
   "cell_type": "code",
   "execution_count": 49,
   "metadata": {},
   "outputs": [],
   "source": [
    "data['ESG_pos'] = data['E_pos'] + data['S_pos'] + data['G_pos']\n",
    "data['ESG_neg'] = data['E_neg'] + data['S_neg'] + data['G_neg'] + data['Controv']\n",
    "data['ESG Pos-Neg Index'] = data['ESG_pos'] - data['ESG_neg']\n",
    "data['ESG Agg Index'] = data['E Index'] + data['S Index'] + data['G Index'] + data['Controv Index']"
   ]
  },
  {
   "cell_type": "code",
   "execution_count": 50,
   "metadata": {},
   "outputs": [
    {
     "data": {
      "text/plain": [
       "count    43331.000000\n",
       "mean        -0.183471\n",
       "std          2.427169\n",
       "min        -12.000000\n",
       "25%         -2.000000\n",
       "50%          0.000000\n",
       "75%          1.000000\n",
       "max         19.000000\n",
       "Name: ESG Pos-Neg Index, dtype: float64"
      ]
     },
     "execution_count": 50,
     "metadata": {},
     "output_type": "execute_result"
    }
   ],
   "source": [
    "data['ESG Pos-Neg Index'].describe()"
   ]
  },
  {
   "cell_type": "code",
   "execution_count": 51,
   "metadata": {},
   "outputs": [
    {
     "data": {
      "text/plain": [
       "count    43331.000000\n",
       "mean        -0.183471\n",
       "std          2.427169\n",
       "min        -12.000000\n",
       "25%         -2.000000\n",
       "50%          0.000000\n",
       "75%          1.000000\n",
       "max         19.000000\n",
       "Name: ESG Agg Index, dtype: float64"
      ]
     },
     "execution_count": 51,
     "metadata": {},
     "output_type": "execute_result"
    }
   ],
   "source": [
    "data['ESG Agg Index'].describe()"
   ]
  },
  {
   "cell_type": "code",
   "execution_count": 52,
   "metadata": {},
   "outputs": [
    {
     "data": {
      "text/plain": [
       "count    43331.000000\n",
       "mean        -0.183471\n",
       "std          2.427169\n",
       "min        -12.000000\n",
       "25%         -2.000000\n",
       "50%          0.000000\n",
       "75%          1.000000\n",
       "max         19.000000\n",
       "Name: KLD Index, dtype: float64"
      ]
     },
     "execution_count": 52,
     "metadata": {},
     "output_type": "execute_result"
    }
   ],
   "source": [
    "data['KLD Index'].describe()"
   ]
  },
  {
   "cell_type": "markdown",
   "metadata": {},
   "source": [
    "#### 1.4.1 Check that the aggregate results are the same using different methods above:"
   ]
  },
  {
   "cell_type": "code",
   "execution_count": 53,
   "metadata": {},
   "outputs": [
    {
     "data": {
      "text/plain": [
       "True"
      ]
     },
     "execution_count": 53,
     "metadata": {},
     "output_type": "execute_result"
    }
   ],
   "source": [
    "data['ESG Pos-Neg Index'].equals(data['ESG Agg Index'])"
   ]
  },
  {
   "cell_type": "code",
   "execution_count": 54,
   "metadata": {},
   "outputs": [
    {
     "data": {
      "text/plain": [
       "True"
      ]
     },
     "execution_count": 54,
     "metadata": {},
     "output_type": "execute_result"
    }
   ],
   "source": [
    "data['KLD Index'].equals(data['ESG Agg Index'])"
   ]
  },
  {
   "cell_type": "code",
   "execution_count": 55,
   "metadata": {},
   "outputs": [
    {
     "data": {
      "text/plain": [
       "True"
      ]
     },
     "execution_count": 55,
     "metadata": {},
     "output_type": "execute_result"
    }
   ],
   "source": [
    "data['ESG Pos-Neg Index'].describe().equals(data['ESG Agg Index'].describe())"
   ]
  },
  {
   "cell_type": "code",
   "execution_count": 56,
   "metadata": {},
   "outputs": [
    {
     "data": {
      "text/plain": [
       "True"
      ]
     },
     "execution_count": 56,
     "metadata": {},
     "output_type": "execute_result"
    }
   ],
   "source": [
    "data['KLD Index'].describe().equals(data['ESG Agg Index'].describe())"
   ]
  },
  {
   "cell_type": "markdown",
   "metadata": {},
   "source": [
    "#### 1.4.2 Check that the positive and negative indicator lists are the same using different methods above:"
   ]
  },
  {
   "cell_type": "code",
   "execution_count": 57,
   "metadata": {},
   "outputs": [
    {
     "data": {
      "text/plain": [
       "True"
      ]
     },
     "execution_count": 57,
     "metadata": {},
     "output_type": "execute_result"
    }
   ],
   "source": [
    "set(positive) == set(E_pos.append(S_pos).append(G_pos))"
   ]
  },
  {
   "cell_type": "code",
   "execution_count": 58,
   "metadata": {},
   "outputs": [
    {
     "data": {
      "text/plain": [
       "True"
      ]
     },
     "execution_count": 58,
     "metadata": {},
     "output_type": "execute_result"
    }
   ],
   "source": [
    "set(negative) == set(E_neg.append(S_neg).append(G_neg).append(Controv))"
   ]
  },
  {
   "cell_type": "markdown",
   "metadata": {},
   "source": [
    "### 1.5 Collect issue area positive and negative performance indicator list\n",
    "Column names contains \"str\" (\"con\") corresponding to positive (negative) performance indicators, respectively."
   ]
  },
  {
   "cell_type": "markdown",
   "metadata": {},
   "source": [
    "#### 1.5.1 Community Performance Indicators:"
   ]
  },
  {
   "cell_type": "code",
   "execution_count": 59,
   "metadata": {},
   "outputs": [],
   "source": [
    "COM_pos = data.columns[data.columns.str.contains(\"com_str\") & ~data.columns.str.contains(\"com_str_num\")]\n",
    "data['COM_pos'] = data[COM_pos].sum(axis=1)\n",
    "\n",
    "COM_neg = data.columns[data.columns.str.contains(\"com_con\") & ~data.columns.str.contains(\"com_con_num\")]\n",
    "data['COM_neg'] = data[COM_neg].sum(axis=1)\n",
    "\n",
    "data['ESG_COM'] = data['COM_pos'] - data['COM_neg']\n",
    "\n",
    "KLD_col_list.extend(['COM_pos', 'COM_neg', 'ESG_COM'])"
   ]
  },
  {
   "cell_type": "code",
   "execution_count": 60,
   "metadata": {},
   "outputs": [
    {
     "data": {
      "text/plain": [
       "count    43331.000000\n",
       "mean         0.097528\n",
       "std          0.510039\n",
       "min         -2.000000\n",
       "25%          0.000000\n",
       "50%          0.000000\n",
       "75%          0.000000\n",
       "max          5.000000\n",
       "Name: ESG_COM, dtype: float64"
      ]
     },
     "execution_count": 60,
     "metadata": {},
     "output_type": "execute_result"
    }
   ],
   "source": [
    "data['ESG_COM'].describe()"
   ]
  },
  {
   "cell_type": "code",
   "execution_count": 61,
   "metadata": {},
   "outputs": [
    {
     "data": {
      "text/plain": [
       "<matplotlib.axes._subplots.AxesSubplot at 0x120b42ac8>"
      ]
     },
     "execution_count": 61,
     "metadata": {},
     "output_type": "execute_result"
    },
    {
     "data": {
      "image/png": "[encoded data removed]",
      "text/plain": [
       "<Figure size 432x288 with 1 Axes>"
      ]
     },
     "metadata": {
      "needs_background": "light"
     },
     "output_type": "display_data"
    }
   ],
   "source": [
    "data['ESG_COM'].hist(bins=7, align='left')"
   ]
  },
  {
   "cell_type": "markdown",
   "metadata": {},
   "source": [
    "#### 1.5.2 Diversity Performance Indicators:"
   ]
  },
  {
   "cell_type": "code",
   "execution_count": 62,
   "metadata": {},
   "outputs": [],
   "source": [
    "DIV_pos = data.columns[data.columns.str.contains(\"div_str\") & ~data.columns.str.contains(\"div_str_num\")]\n",
    "data['DIV_pos'] = data[DIV_pos].sum(axis=1)\n",
    "\n",
    "DIV_neg = data.columns[data.columns.str.contains(\"div_con\") & ~data.columns.str.contains(\"div_con_num\")]\n",
    "data['DIV_neg'] = data[DIV_neg].sum(axis=1)\n",
    "\n",
    "data['ESG_DIV'] = data['DIV_pos'] - data['DIV_neg']\n",
    "\n",
    "KLD_col_list.extend(['DIV_pos', 'DIV_neg', 'ESG_DIV'])"
   ]
  },
  {
   "cell_type": "code",
   "execution_count": 63,
   "metadata": {},
   "outputs": [
    {
     "data": {
      "text/plain": [
       "count    43331.000000\n",
       "mean         0.051534\n",
       "std          1.222434\n",
       "min         -3.000000\n",
       "25%         -1.000000\n",
       "50%          0.000000\n",
       "75%          1.000000\n",
       "max          7.000000\n",
       "Name: ESG_DIV, dtype: float64"
      ]
     },
     "execution_count": 63,
     "metadata": {},
     "output_type": "execute_result"
    }
   ],
   "source": [
    "data['ESG_DIV'].describe()"
   ]
  },
  {
   "cell_type": "code",
   "execution_count": 64,
   "metadata": {},
   "outputs": [
    {
     "data": {
      "text/plain": [
       "<matplotlib.axes._subplots.AxesSubplot at 0x120953748>"
      ]
     },
     "execution_count": 64,
     "metadata": {},
     "output_type": "execute_result"
    },
    {
     "data": {
      "image/png": "[encoded data removed]",
      "text/plain": [
       "<Figure size 432x288 with 1 Axes>"
      ]
     },
     "metadata": {
      "needs_background": "light"
     },
     "output_type": "display_data"
    }
   ],
   "source": [
    "data['ESG_DIV'].hist(bins=10, align='left')"
   ]
  },
  {
   "cell_type": "markdown",
   "metadata": {},
   "source": [
    "#### 1.5.3 Employee Relations Performance Indicators:"
   ]
  },
  {
   "cell_type": "code",
   "execution_count": 65,
   "metadata": {},
   "outputs": [],
   "source": [
    "EMP_pos = data.columns[data.columns.str.contains(\"emp_str\") & ~data.columns.str.contains(\"emp_str_num\")]\n",
    "data['EMP_pos'] = data[EMP_pos].sum(axis=1)\n",
    "\n",
    "EMP_neg = data.columns[data.columns.str.contains(\"emp_con\") & ~data.columns.str.contains(\"emp_con_num\")]\n",
    "data['EMP_neg'] = data[EMP_neg].sum(axis=1)\n",
    "\n",
    "data['ESG_EMP'] = data['EMP_pos'] - data['EMP_neg']\n",
    "\n",
    "KLD_col_list.extend(['EMP_pos', 'EMP_neg', 'ESG_EMP'])"
   ]
  },
  {
   "cell_type": "code",
   "execution_count": 66,
   "metadata": {},
   "outputs": [
    {
     "data": {
      "text/plain": [
       "count    43331.000000\n",
       "mean         0.052087\n",
       "std          0.955283\n",
       "min         -4.000000\n",
       "25%          0.000000\n",
       "50%          0.000000\n",
       "75%          0.000000\n",
       "max          8.000000\n",
       "Name: ESG_EMP, dtype: float64"
      ]
     },
     "execution_count": 66,
     "metadata": {},
     "output_type": "execute_result"
    }
   ],
   "source": [
    "data['ESG_EMP'].describe()"
   ]
  },
  {
   "cell_type": "code",
   "execution_count": 67,
   "metadata": {},
   "outputs": [
    {
     "data": {
      "text/plain": [
       "<matplotlib.axes._subplots.AxesSubplot at 0x1203f7f60>"
      ]
     },
     "execution_count": 67,
     "metadata": {},
     "output_type": "execute_result"
    },
    {
     "data": {
      "image/png": "[encoded data removed]",
      "text/plain": [
       "<Figure size 432x288 with 1 Axes>"
      ]
     },
     "metadata": {
      "needs_background": "light"
     },
     "output_type": "display_data"
    }
   ],
   "source": [
    "data['ESG_EMP'].hist(bins=12, align='left')"
   ]
  },
  {
   "cell_type": "markdown",
   "metadata": {},
   "source": [
    "#### 1.5.4 Environment Performance Indicators:"
   ]
  },
  {
   "cell_type": "code",
   "execution_count": 68,
   "metadata": {},
   "outputs": [],
   "source": [
    "ENV_pos = data.columns[data.columns.str.contains(\"env_str\") & ~data.columns.str.contains(\"env_str_num\")]\n",
    "data['ENV_pos'] = data[ENV_pos].sum(axis=1)\n",
    "\n",
    "ENV_neg = data.columns[data.columns.str.contains(\"env_con\") & ~data.columns.str.contains(\"env_con_num\")]\n",
    "data['ENV_neg'] = data[ENV_neg].sum(axis=1)\n",
    "\n",
    "data['ESG_ENV'] = data['ENV_pos'] - data['ENV_neg']\n",
    "\n",
    "KLD_col_list.extend(['ENV_pos', 'ENV_neg', 'ESG_ENV'])"
   ]
  },
  {
   "cell_type": "code",
   "execution_count": 69,
   "metadata": {},
   "outputs": [
    {
     "data": {
      "text/plain": [
       "count    43331.000000\n",
       "mean         0.042764\n",
       "std          0.800844\n",
       "min         -5.000000\n",
       "25%          0.000000\n",
       "50%          0.000000\n",
       "75%          0.000000\n",
       "max          6.000000\n",
       "Name: ESG_ENV, dtype: float64"
      ]
     },
     "execution_count": 69,
     "metadata": {},
     "output_type": "execute_result"
    }
   ],
   "source": [
    "data['ESG_ENV'].describe()"
   ]
  },
  {
   "cell_type": "code",
   "execution_count": 70,
   "metadata": {},
   "outputs": [
    {
     "data": {
      "text/plain": [
       "<matplotlib.axes._subplots.AxesSubplot at 0x12057a5f8>"
      ]
     },
     "execution_count": 70,
     "metadata": {},
     "output_type": "execute_result"
    },
    {
     "data": {
      "image/png": "[encoded data removed]",
      "text/plain": [
       "<Figure size 432x288 with 1 Axes>"
      ]
     },
     "metadata": {
      "needs_background": "light"
     },
     "output_type": "display_data"
    }
   ],
   "source": [
    "data['ESG_ENV'].hist(bins=11, align='left')"
   ]
  },
  {
   "cell_type": "markdown",
   "metadata": {},
   "source": [
    "#### 1.5.5 Human Rights Performance Indicators:"
   ]
  },
  {
   "cell_type": "code",
   "execution_count": 71,
   "metadata": {},
   "outputs": [],
   "source": [
    "HUM_pos = data.columns[data.columns.str.contains(\"hum_str\") & ~data.columns.str.contains(\"hum_str_num\")]\n",
    "data['HUM_pos'] = data[HUM_pos].sum(axis=1)\n",
    "\n",
    "HUM_neg = data.columns[data.columns.str.contains(\"hum_con\") & ~data.columns.str.contains(\"hum_con_num\")]\n",
    "data['HUM_neg'] = data[HUM_neg].sum(axis=1)\n",
    "\n",
    "data['ESG_HUM'] = data['HUM_pos'] - data['HUM_neg']\n",
    "\n",
    "KLD_col_list.extend(['HUM_pos', 'HUM_neg', 'ESG_HUM'])"
   ]
  },
  {
   "cell_type": "code",
   "execution_count": 72,
   "metadata": {},
   "outputs": [
    {
     "data": {
      "text/plain": [
       "count    43331.000000\n",
       "mean        -0.032263\n",
       "std          0.267947\n",
       "min         -3.000000\n",
       "25%          0.000000\n",
       "50%          0.000000\n",
       "75%          0.000000\n",
       "max          2.000000\n",
       "Name: ESG_HUM, dtype: float64"
      ]
     },
     "execution_count": 72,
     "metadata": {},
     "output_type": "execute_result"
    }
   ],
   "source": [
    "data['ESG_HUM'].describe()"
   ]
  },
  {
   "cell_type": "code",
   "execution_count": 73,
   "metadata": {},
   "outputs": [
    {
     "data": {
      "text/plain": [
       "<matplotlib.axes._subplots.AxesSubplot at 0x11fff3048>"
      ]
     },
     "execution_count": 73,
     "metadata": {},
     "output_type": "execute_result"
    },
    {
     "data": {
      "image/png": "[encoded data removed]",
      "text/plain": [
       "<Figure size 432x288 with 1 Axes>"
      ]
     },
     "metadata": {
      "needs_background": "light"
     },
     "output_type": "display_data"
    }
   ],
   "source": [
    "data['ESG_HUM'].hist(bins=5, align='left')"
   ]
  },
  {
   "cell_type": "markdown",
   "metadata": {},
   "source": [
    "#### 1.5.6 Product Quality Performance Indicators:"
   ]
  },
  {
   "cell_type": "code",
   "execution_count": 74,
   "metadata": {},
   "outputs": [],
   "source": [
    "PRO_pos = data.columns[data.columns.str.contains(\"pro_str\") & ~data.columns.str.contains(\"pro_str_num\")]\n",
    "data['PRO_pos'] = data[PRO_pos].sum(axis=1)\n",
    "\n",
    "PRO_neg = data.columns[data.columns.str.contains(\"pro_con\") & ~data.columns.str.contains(\"pro_con_num\")]\n",
    "data['PRO_neg'] = data[PRO_neg].sum(axis=1)\n",
    "\n",
    "data['ESG_PRO'] = data['PRO_pos'] - data['PRO_neg']\n",
    "\n",
    "KLD_col_list.extend(['PRO_pos', 'PRO_neg', 'ESG_PRO'])"
   ]
  },
  {
   "cell_type": "code",
   "execution_count": 75,
   "metadata": {},
   "outputs": [
    {
     "data": {
      "text/plain": [
       "count    43331.000000\n",
       "mean        -0.106044\n",
       "std          0.591183\n",
       "min         -4.000000\n",
       "25%          0.000000\n",
       "50%          0.000000\n",
       "75%          0.000000\n",
       "max          3.000000\n",
       "Name: ESG_PRO, dtype: float64"
      ]
     },
     "execution_count": 75,
     "metadata": {},
     "output_type": "execute_result"
    }
   ],
   "source": [
    "data['ESG_PRO'].describe()"
   ]
  },
  {
   "cell_type": "code",
   "execution_count": 76,
   "metadata": {},
   "outputs": [
    {
     "data": {
      "text/plain": [
       "<matplotlib.axes._subplots.AxesSubplot at 0x11fdcb8d0>"
      ]
     },
     "execution_count": 76,
     "metadata": {},
     "output_type": "execute_result"
    },
    {
     "data": {
      "image/png": "[encoded data removed]",
      "text/plain": [
       "<Figure size 432x288 with 1 Axes>"
      ]
     },
     "metadata": {
      "needs_background": "light"
     },
     "output_type": "display_data"
    }
   ],
   "source": [
    "data['ESG_PRO'].hist(bins=7, align='left')"
   ]
  },
  {
   "cell_type": "code",
   "execution_count": 77,
   "metadata": {},
   "outputs": [
    {
     "data": {
      "text/plain": [
       "36932"
      ]
     },
     "execution_count": 77,
     "metadata": {},
     "output_type": "execute_result"
    }
   ],
   "source": [
    "(data['PRO_pos']==data['pro_str_num']).sum()"
   ]
  },
  {
   "cell_type": "markdown",
   "metadata": {},
   "source": [
    "#### 1.5.7 Corporate Governance Performance Indicators:"
   ]
  },
  {
   "cell_type": "code",
   "execution_count": 78,
   "metadata": {},
   "outputs": [],
   "source": [
    "CGOV_pos = data.columns[data.columns.str.contains(\"cgov_str\") & ~data.columns.str.contains(\"cgov_str_num\")]\n",
    "data['CGOV_pos'] = data[CGOV_pos].sum(axis=1)\n",
    "\n",
    "CGOV_neg = data.columns[data.columns.str.contains(\"cgov_con\") & ~data.columns.str.contains(\"cgov_con_num\")]\n",
    "data['CGOV_neg'] = data[CGOV_neg].sum(axis=1)\n",
    "\n",
    "data['ESG_CGOV'] = data['CGOV_pos'] - data['CGOV_neg']\n",
    "\n",
    "KLD_col_list.extend(['CGOV_pos', 'CGOV_neg', 'ESG_CGOV'])"
   ]
  },
  {
   "cell_type": "code",
   "execution_count": 79,
   "metadata": {},
   "outputs": [
    {
     "data": {
      "text/plain": [
       "count    43331.000000\n",
       "mean        -0.178394\n",
       "std          0.662138\n",
       "min         -4.000000\n",
       "25%         -1.000000\n",
       "50%          0.000000\n",
       "75%          0.000000\n",
       "max          3.000000\n",
       "Name: ESG_CGOV, dtype: float64"
      ]
     },
     "execution_count": 79,
     "metadata": {},
     "output_type": "execute_result"
    }
   ],
   "source": [
    "data['ESG_CGOV'].describe()"
   ]
  },
  {
   "cell_type": "code",
   "execution_count": 80,
   "metadata": {},
   "outputs": [
    {
     "data": {
      "text/plain": [
       "<matplotlib.axes._subplots.AxesSubplot at 0x12018ff28>"
      ]
     },
     "execution_count": 80,
     "metadata": {},
     "output_type": "execute_result"
    },
    {
     "data": {
      "image/png": "[encoded data removed]",
      "text/plain": [
       "<Figure size 432x288 with 1 Axes>"
      ]
     },
     "metadata": {
      "needs_background": "light"
     },
     "output_type": "display_data"
    }
   ],
   "source": [
    "data['ESG_CGOV'].hist(bins=7, align='left')"
   ]
  },
  {
   "cell_type": "markdown",
   "metadata": {},
   "source": [
    "### 1.6 Construct Aggregate KLD Index from issue area level"
   ]
  },
  {
   "cell_type": "code",
   "execution_count": 81,
   "metadata": {},
   "outputs": [],
   "source": [
    "data['ESG_A_ex_CG_pos'] = data['COM_pos'] + data['DIV_pos'] + data['EMP_pos'] + data['ENV_pos'] + data['HUM_pos'] + data['PRO_pos']\n",
    "data['ESG_A_ex_CG_neg'] = data['COM_neg'] + data['DIV_neg'] + data['EMP_neg'] + data['ENV_neg'] + data['HUM_neg'] + data['PRO_neg']\n",
    "data['ESG Pos-Neg Ex-CG Index'] = data['ESG_A_ex_CG_pos'] - data['ESG_A_ex_CG_neg']\n",
    "\n",
    "data['ESG_A_pos'] = data['ESG_A_ex_CG_pos'] + data['CGOV_pos']\n",
    "data['ESG_A_neg'] = data['ESG_A_ex_CG_neg'] + data['CGOV_neg']\n",
    "data['ESG Pos-Neg A Index'] = data['ESG_A_pos'] - data['ESG_A_neg']\n",
    "\n",
    "KLD_col_list.extend(['ESG_A_ex_CG_pos', 'ESG_A_ex_CG_neg', 'ESG Pos-Neg Ex-CG Index',\n",
    "                'ESG_A_pos', 'ESG_A_neg', 'ESG Pos-Neg A Index'])"
   ]
  },
  {
   "cell_type": "code",
   "execution_count": 82,
   "metadata": {},
   "outputs": [
    {
     "data": {
      "text/plain": [
       "count    43331.000000\n",
       "mean         0.105606\n",
       "std          2.264440\n",
       "min         -9.000000\n",
       "25%         -1.000000\n",
       "50%          0.000000\n",
       "75%          1.000000\n",
       "max         18.000000\n",
       "Name: ESG Pos-Neg Ex-CG Index, dtype: float64"
      ]
     },
     "execution_count": 82,
     "metadata": {},
     "output_type": "execute_result"
    }
   ],
   "source": [
    "data['ESG Pos-Neg Ex-CG Index'].describe()"
   ]
  },
  {
   "cell_type": "code",
   "execution_count": 83,
   "metadata": {},
   "outputs": [
    {
     "data": {
      "text/plain": [
       "count    43331.000000\n",
       "mean        -0.072789\n",
       "std          2.398469\n",
       "min        -11.000000\n",
       "25%         -1.000000\n",
       "50%          0.000000\n",
       "75%          1.000000\n",
       "max         19.000000\n",
       "Name: ESG Pos-Neg A Index, dtype: float64"
      ]
     },
     "execution_count": 83,
     "metadata": {},
     "output_type": "execute_result"
    }
   ],
   "source": [
    "data['ESG Pos-Neg A Index'].describe()"
   ]
  },
  {
   "cell_type": "code",
   "execution_count": 84,
   "metadata": {},
   "outputs": [
    {
     "data": {
      "text/plain": [
       "<matplotlib.axes._subplots.AxesSubplot at 0x124f890f0>"
      ]
     },
     "execution_count": 84,
     "metadata": {},
     "output_type": "execute_result"
    },
    {
     "data": {
      "image/png": "[encoded data removed]",
      "text/plain": [
       "<Figure size 432x288 with 1 Axes>"
      ]
     },
     "metadata": {
      "needs_background": "light"
     },
     "output_type": "display_data"
    }
   ],
   "source": [
    "data['ESG Pos-Neg Ex-CG Index'].hist(bins=27, align='left', density=True)"
   ]
  },
  {
   "cell_type": "code",
   "execution_count": 85,
   "metadata": {},
   "outputs": [
    {
     "data": {
      "text/plain": [
       "<matplotlib.axes._subplots.AxesSubplot at 0x11f0dc0b8>"
      ]
     },
     "execution_count": 85,
     "metadata": {},
     "output_type": "execute_result"
    },
    {
     "data": {
      "image/png": "[encoded data removed]",
      "text/plain": [
       "<Figure size 432x288 with 1 Axes>"
      ]
     },
     "metadata": {
      "needs_background": "light"
     },
     "output_type": "display_data"
    }
   ],
   "source": [
    "data['ESG Pos-Neg A Index'].hist(bins=30, align='left', density=True)"
   ]
  },
  {
   "cell_type": "code",
   "execution_count": 86,
   "metadata": {},
   "outputs": [
    {
     "data": {
      "text/plain": [
       "count    4.333100e+04\n",
       "mean     1.311842e-18\n",
       "std      1.000000e+00\n",
       "min     -4.555912e+00\n",
       "25%     -3.865848e-01\n",
       "50%      3.034792e-02\n",
       "75%      4.472806e-01\n",
       "max      7.952069e+00\n",
       "Name: ESG Pos-Neg A Index, dtype: float64"
      ]
     },
     "execution_count": 86,
     "metadata": {},
     "output_type": "execute_result"
    }
   ],
   "source": [
    "((data['ESG Pos-Neg A Index'] - data['ESG Pos-Neg A Index'].mean())/data['ESG Pos-Neg A Index'].std()).describe()"
   ]
  },
  {
   "cell_type": "code",
   "execution_count": 87,
   "metadata": {
    "scrolled": true
   },
   "outputs": [
    {
     "data": {
      "text/plain": [
       "<matplotlib.axes._subplots.AxesSubplot at 0x1218c4f28>"
      ]
     },
     "execution_count": 87,
     "metadata": {},
     "output_type": "execute_result"
    },
    {
     "data": {
      "image/png": "[encoded data removed]",
      "text/plain": [
       "<Figure size 432x288 with 1 Axes>"
      ]
     },
     "metadata": {
      "needs_background": "light"
     },
     "output_type": "display_data"
    }
   ],
   "source": [
    "((data['ESG Pos-Neg A Index'] - data['ESG Pos-Neg A Index'].mean())/data['ESG Pos-Neg A Index'].std()).hist()"
   ]
  },
  {
   "cell_type": "markdown",
   "metadata": {},
   "source": [
    "Display a list of variable constructed:"
   ]
  },
  {
   "cell_type": "code",
   "execution_count": 88,
   "metadata": {},
   "outputs": [
    {
     "name": "stdout",
     "output_type": "stream",
     "text": [
      "['positive', 'negative', 'positive_avg', 'negative_avg', 'KLD Index', 'KLD Index Norm', 'E_pos', 'E_neg', 'E Index', 'S_pos', 'S_neg', 'S Index', 'G_pos', 'G_neg', 'G Index', 'Controv Index', 'COM_pos', 'COM_neg', 'ESG_COM', 'DIV_pos', 'DIV_neg', 'ESG_DIV', 'EMP_pos', 'EMP_neg', 'ESG_EMP', 'ENV_pos', 'ENV_neg', 'ESG_ENV', 'HUM_pos', 'HUM_neg', 'ESG_HUM', 'PRO_pos', 'PRO_neg', 'ESG_PRO', 'CGOV_pos', 'CGOV_neg', 'ESG_CGOV', 'ESG_A_ex_CG_pos', 'ESG_A_ex_CG_neg', 'ESG Pos-Neg Ex-CG Index', 'ESG_A_pos', 'ESG_A_neg', 'ESG Pos-Neg A Index']\n"
     ]
    }
   ],
   "source": [
    "print(KLD_col_list)"
   ]
  },
  {
   "cell_type": "code",
   "execution_count": 89,
   "metadata": {},
   "outputs": [
    {
     "data": {
      "text/plain": [
       "43"
      ]
     },
     "execution_count": 89,
     "metadata": {},
     "output_type": "execute_result"
    }
   ],
   "source": [
    "len(KLD_col_list)"
   ]
  },
  {
   "cell_type": "markdown",
   "metadata": {},
   "source": [
    "## 2. Construct variables using Compustat"
   ]
  },
  {
   "cell_type": "code",
   "execution_count": 90,
   "metadata": {},
   "outputs": [],
   "source": [
    "Comp_col_list = []"
   ]
  },
  {
   "cell_type": "markdown",
   "metadata": {},
   "source": [
    "List of variables to be kept："
   ]
  },
  {
   "cell_type": "code",
   "execution_count": 91,
   "metadata": {},
   "outputs": [],
   "source": [
    "Comp_col_list.extend(['sale', 'cogs', 'ppegt', 'xsga', 'xlr', 'emp', 'xad', 'xrd', 'at', 'sich', 'ppent', 'aqc', 'capx', 'capxv'])"
   ]
  },
  {
   "cell_type": "code",
   "execution_count": 92,
   "metadata": {},
   "outputs": [],
   "source": [
    "# fin_ratios = pd.read_csv('data/fin_ratios.csv.gz', dtype={'gvkey': str})\n",
    "# fin_ratios.shape"
   ]
  },
  {
   "cell_type": "code",
   "execution_count": 93,
   "metadata": {},
   "outputs": [],
   "source": [
    "# fin_ratios.columns"
   ]
  },
  {
   "cell_type": "code",
   "execution_count": 94,
   "metadata": {},
   "outputs": [],
   "source": [
    "# fin_ratios.sort_values(['gvkey', 'adate'], inplace=True)"
   ]
  },
  {
   "cell_type": "code",
   "execution_count": 95,
   "metadata": {},
   "outputs": [],
   "source": [
    "# fin_ratios['adate'] = pd.to_datetime(fin_ratios['adate'], format='%Y%m%d')\n",
    "# fin_ratios['qdate'] = pd.to_datetime(fin_ratios['adate'], format='%Y%m%d')\n",
    "# fin_ratios['public_date'] = pd.to_datetime(fin_ratios['adate'], format='%Y%m%d')"
   ]
  },
  {
   "cell_type": "code",
   "execution_count": 96,
   "metadata": {},
   "outputs": [],
   "source": [
    "# data_gpm=fin_ratios[['gvkey', 'adate', 'qdate', 'public_date', 'gpm', 'npm', 'roe']].groupby(['gvkey', 'adate'], as_index=False).max()"
   ]
  },
  {
   "cell_type": "code",
   "execution_count": 97,
   "metadata": {},
   "outputs": [],
   "source": [
    "# data_gpm[data_gpm['gvkey']==12141][['gvkey', 'adate', 'qdate', 'public_date', 'gpm', 'npm', 'roe']]"
   ]
  },
  {
   "cell_type": "code",
   "execution_count": 98,
   "metadata": {},
   "outputs": [],
   "source": [
    "# data.rename(columns={'datadate_x':'datadate'}, inplace=True)"
   ]
  },
  {
   "cell_type": "markdown",
   "metadata": {},
   "source": [
    "### 2.1 Profitability Ratios"
   ]
  },
  {
   "cell_type": "markdown",
   "metadata": {},
   "source": [
    "#### 2.1.1 Gross Profit Margin"
   ]
  },
  {
   "cell_type": "code",
   "execution_count": 99,
   "metadata": {},
   "outputs": [],
   "source": [
    "# gross profit margin, SAS: gpm=coalesce(gp,revt-cogs,sale-cogs)/sale; /*gross profit margin*/\n",
    "data['gpm'] = np.where(data['gp'].isnull(), (data[\"revt\"]-data[\"cogs\"])/data['sale'], data['gp']/data['sale'])\n",
    "data['gpm'] = np.where(data['gpm'].isnull(), (data[\"sale\"]-data[\"cogs\"])/data['sale'], data['gpm'])\n",
    "#data['gpm'] = np.where(data['gpm'].isnull(), 0, data['gpm']) # fill missing with 0.\n",
    "Comp_col_list.append('gpm')"
   ]
  },
  {
   "cell_type": "markdown",
   "metadata": {},
   "source": [
    "#### 2.1.2 Net Profit Margin"
   ]
  },
  {
   "cell_type": "code",
   "execution_count": 100,
   "metadata": {},
   "outputs": [],
   "source": [
    "# Net Profit Margin\n",
    "data['npm'] = data['ib'] / data['sale']\n",
    "Comp_col_list.append('npm')"
   ]
  },
  {
   "cell_type": "markdown",
   "metadata": {},
   "source": [
    "#### 2.1.3 Return on Assets"
   ]
  },
  {
   "cell_type": "code",
   "execution_count": 101,
   "metadata": {},
   "outputs": [],
   "source": [
    "# SAS: roa=coalesce(oibdp,sale-xopr,revt-xopr)/((at+lag(at))/2); /*Return on Assets*/ \n",
    "data['roa'] = np.where(data['oibdp'].isnull(), (data[\"sale\"]-data[\"xopr\"])/data['at'], data['oibdp']/data['at'])\n",
    "data['roa'] = np.where(data['roa'].isnull(), (data[\"revt\"]-data[\"xopr\"])/data['at'], data['roa'])\n",
    "Comp_col_list.append('roa')"
   ]
  },
  {
   "cell_type": "markdown",
   "metadata": {},
   "source": [
    "#### 2.1.4 Return on Equity"
   ]
  },
  {
   "cell_type": "code",
   "execution_count": 102,
   "metadata": {},
   "outputs": [],
   "source": [
    "# create preferrerd stock\n",
    "data['ps'] = np.where(data['pstkrv'].isnull(), data['pstkl'], data['pstkrv'])\n",
    "data['ps'] = np.where(data['ps'].isnull(), data['pstk'], data['ps'])\n",
    "data['ps'] = np.where(data['ps'].isnull(), 0, data['ps'])\n",
    "\n",
    "# Deferred Taxes and Investment Tax Credit, SAS: coalesce(TXDITC,sum(TXDB, ITCB))\n",
    "data['txditc'] = np.where(data['txditc'].isnull(), data['txdb']+data['itcb'], data['txditc'])\n",
    "data['txditc'] = np.where(data['txditc'].isnull(), 0, data['txditc'])\n",
    "\n",
    "# create book equity\n",
    "data['be'] = data['seq'] + data['txditc'] - data['ps']\n",
    "data['be'] = np.where(data['be']>0, data['be'], np.nan)\n",
    "\n",
    "# Return on Equity\n",
    "data['roe'] = data['ib'] / data['be']\n",
    "\n",
    "Comp_col_list.append('roe')"
   ]
  },
  {
   "cell_type": "markdown",
   "metadata": {},
   "source": [
    "### 2.2 Valuation Ratios"
   ]
  },
  {
   "cell_type": "markdown",
   "metadata": {},
   "source": [
    "#### 2.2.1 Book to Market"
   ]
  },
  {
   "cell_type": "code",
   "execution_count": 103,
   "metadata": {},
   "outputs": [],
   "source": [
    "# SAS: bm = BE/(prcc_f*csho)\n",
    "data['bm'] = data['be'] / (data['prcc_f'] * data['csho'])\n",
    "Comp_col_list.append('bm')"
   ]
  },
  {
   "cell_type": "markdown",
   "metadata": {},
   "source": [
    "#### 2.2.2 Enterprise Value Multiple"
   ]
  },
  {
   "cell_type": "code",
   "execution_count": 104,
   "metadata": {},
   "outputs": [],
   "source": [
    "# SAS: evm=sum(dltt,dlc,mib,ps, prcc_f*csho)/coalesce(ebitda,oibdp,sale-cogs-xsga); /*Enterprise Value Multiple*/\n",
    "# EBITDA\n",
    "data['ebitda'] = np.where(data['ebitda'].isnull(), data['oibdp'], data['ebitda'])\n",
    "data['ebitda'] = np.where(data['ebitda'].isnull(), data['sale']-data['cogs']-data['xsga'], data['ebitda'])\n",
    "\n",
    "# EV\n",
    "data['ev'] = data['dltt'] + data['dlc'] + data['mib'] + data['ps'] + (data['prcc_f'] * data['csho'])\n",
    "\n",
    "# EVM\n",
    "data['evm'] = data['ev'] / data['ebitda']\n",
    "Comp_col_list.append('evm')"
   ]
  },
  {
   "cell_type": "markdown",
   "metadata": {},
   "source": [
    "#### 2.2.3 Price-to-Earnings"
   ]
  },
  {
   "cell_type": "code",
   "execution_count": 105,
   "metadata": {},
   "outputs": [],
   "source": [
    "# Price-to-Earnings, excl. Extraordinary Items (diluted)\n",
    "data['pe_exi'] = data['prcc_f'] / data['epsfx']\n",
    "\n",
    "# Price-to-Earnings, incl. Extraordinary Items (diluted)\n",
    "data['pe_inc'] = data['prcc_f'] / data['epsfi']\n",
    "\n",
    "# Price-to-Earnings using market cap\n",
    "data['pe_ib'] = data['prcc_f'] * data['csho'] / data['ib']\n",
    "data['pe_ni'] = data['prcc_f'] * data['csho'] / data['ni']\n",
    "\n",
    "Comp_col_list.extend(['pe_exi', 'pe_inc', 'pe_ib', 'pe_ni'])"
   ]
  },
  {
   "cell_type": "markdown",
   "metadata": {},
   "source": [
    "### 2.3 Miscallenous Ratios"
   ]
  },
  {
   "cell_type": "markdown",
   "metadata": {},
   "source": [
    "#### 2.3.1 R&D expenses as a fraction of Sales"
   ]
  },
  {
   "cell_type": "code",
   "execution_count": 106,
   "metadata": {},
   "outputs": [],
   "source": [
    "data['rd_sale'] = (data['xrd']+0) / data['sale']"
   ]
  },
  {
   "cell_type": "markdown",
   "metadata": {},
   "source": [
    "#### 2.3.2 Advertising Expenses as a fraction of Sales"
   ]
  },
  {
   "cell_type": "code",
   "execution_count": 107,
   "metadata": {},
   "outputs": [],
   "source": [
    "data['adv_sale'] = (data['xad']+0) / data['sale']"
   ]
  },
  {
   "cell_type": "markdown",
   "metadata": {},
   "source": [
    "#### 2.3.3 SG&A Expenses as a fraction of Sales"
   ]
  },
  {
   "cell_type": "code",
   "execution_count": 108,
   "metadata": {},
   "outputs": [],
   "source": [
    "data['xsga_sale'] = (data['xsga']+0) / data['sale']"
   ]
  },
  {
   "cell_type": "code",
   "execution_count": 109,
   "metadata": {},
   "outputs": [],
   "source": [
    "Comp_col_list.extend(['rd_sale', 'adv_sale', 'xsga_sale'])"
   ]
  },
  {
   "cell_type": "markdown",
   "metadata": {},
   "source": [
    "### 2.4 Markup, Profitability and Market Power Proxies"
   ]
  },
  {
   "cell_type": "markdown",
   "metadata": {},
   "source": [
    "Rise in markups does not necessarily imply that firms have more market\n",
    "power, and therefore higher economic profits. In fact, increasing markups can come from a\n",
    "variety of reasons that are not associated with a decline in aggregate welfare.\n",
    "For example, a\n",
    "decrease in marginal costs, an increase in fixed costs or innovation, an increase in demand or\n",
    "in its elasticity, a change in the market structure, new product varieties, all lead to increasing\n",
    "markups without necessarily implying higher profit.\n",
    "\n",
    "While the textbook definition of market power is the case whereby a firm can command\n",
    "a price above the marginal cost of production (markup), any conclusions regarding whether\n",
    "market power increased will greatly depend on the pattern of overhead costs, or any other\n",
    "factor affecting the cost structure of firms (like innovation activities such as R&D). Therefore,\n",
    "before we can conclude whether the higher markups are associated with market power, we\n",
    "need to analyze profits. In the absence of detailed data, the mapping from markups to market\n",
    "power (and therefore welfare) can only be done through a particular model of the economy.\n",
    "\n",
    "Profits do not necessarily derive exclusively from market power. There could be capital market imperfections\n",
    "that constrain investment and lead to higher profits. However, in a model with both market power and financial\n",
    "frictions, Cooper and Ejarque (2003) find that profitability is explained entirely by market power and none by\n",
    "financial frictions. In this paper, we do, however, abstract away from such frictions.\n",
    "\n",
    "With the accounting data available, we assume that we can observe profits as the wedge\n",
    "between sales and all variable and fixed costs (including innovation, advertising, and others).\n",
    "In what follows we consider higher market power a situation whereby a firm can generate\n",
    "higher profits"
   ]
  },
  {
   "cell_type": "markdown",
   "metadata": {},
   "source": [
    "markup: sale, cogs, ppegt (capital stock), xsga, xlr (Wage Bill included in cogs), emp\n",
    "\n",
    "PIRIC from FRED\n"
   ]
  },
  {
   "cell_type": "markdown",
   "metadata": {},
   "source": [
    "#### 2.4.1 Accounting Markup or Profit Rate (Ratio of sales-to-total costs)\n",
    "Average and marginal costs are equated (which is consistent with assuming constant returns to scale in production), and moreover that all cost items are considered variable inputs in production."
   ]
  },
  {
   "cell_type": "code",
   "execution_count": 110,
   "metadata": {},
   "outputs": [],
   "source": [
    "data['markup_acct'] = data['sale'] / data['cogs'] # i.e. the output elasticity is now calibrated to one"
   ]
  },
  {
   "cell_type": "markdown",
   "metadata": {},
   "source": [
    "#### 2.4.2 Market Value share of Sales & Dividends share of Sales\n",
    "The flow of profits may not be the best measure of profitability of the firm, because it mixes\n",
    "up the firm’s result with investment decisions. To that effect, we consider as a measure of\n",
    "profitability based on what firms generate as a return to their shareholders.\n",
    "\n",
    "Our first measure, market value, is essentially\n",
    "the discounted sum of dividends, since a shareholder who sells shares in a firm gives up the\n",
    "opportunity value of receiving the indefinite stream of dividend payments. In contrast to the\n",
    "actual dividends, the market price is more a measure of future expected profits, not just contemporaneous\n",
    "profits, since it takes into account the flow of all expected future dividends."
   ]
  },
  {
   "cell_type": "code",
   "execution_count": 111,
   "metadata": {},
   "outputs": [],
   "source": [
    "data['market_sale'] = (data['prcc_f'] * data['csho']) / data['sale']\n",
    "data['div_sale'] = data['dvc'] / data['sale']"
   ]
  },
  {
   "cell_type": "markdown",
   "metadata": {},
   "source": [
    "#### 2.4.3 Production-based Markups & Profit rates as a measure of market power\n",
    "Constant output elasticity = 0.85 or 0.83 (after 1990) or 0.95 with overhead costs \n",
    "\n",
    "Measure of the user cost of capital = r = 12%\n",
    "\n",
    "firm profits = sales - costs of good sold - r * ppegt - xsga\n",
    "\n",
    "operation profit = sales - costs of good sold - xsga\n",
    "\n",
    "profit rate = firm profit / sale"
   ]
  },
  {
   "cell_type": "code",
   "execution_count": 112,
   "metadata": {},
   "outputs": [],
   "source": [
    "data['markup'] = 0.85 * data['sale'] / data['cogs']\n",
    "data['makrup_overhead'] = 0.95 * data['sale'] / (data['cogs'] + data['xsga'])\n",
    "data['econ_profit'] = data['sale'] - data['cogs'] - 0.12 * data['ppegt'] - data['xsga']\n",
    "data['profit_rate'] = data['econ_profit'] / data['sale']\n",
    "data['op_profit_rate'] = (data['sale'] - data['cogs'] - data['xsga']) / data['sale']\n",
    "data['econ_roa'] = data['econ_profit'] / data['at']"
   ]
  },
  {
   "cell_type": "markdown",
   "metadata": {},
   "source": [
    "When we evaluate the extensive margin – whether a firm does or does\n",
    "not have expenditures on R&D or Advertising"
   ]
  },
  {
   "cell_type": "code",
   "execution_count": 113,
   "metadata": {},
   "outputs": [],
   "source": [
    "Comp_col_list.extend(['markup_acct', 'market_sale', 'div_sale', 'markup',\n",
    "                      'makrup_overhead','econ_profit','profit_rate','op_profit_rate', 'econ_roa'])"
   ]
  },
  {
   "cell_type": "code",
   "execution_count": 114,
   "metadata": {},
   "outputs": [
    {
     "data": {
      "text/plain": [
       "['sale',\n",
       " 'cogs',\n",
       " 'ppegt',\n",
       " 'xsga',\n",
       " 'xlr',\n",
       " 'emp',\n",
       " 'xad',\n",
       " 'xrd',\n",
       " 'at',\n",
       " 'sich',\n",
       " 'ppent',\n",
       " 'aqc',\n",
       " 'capx',\n",
       " 'capxv',\n",
       " 'gpm',\n",
       " 'npm',\n",
       " 'roa',\n",
       " 'roe',\n",
       " 'bm',\n",
       " 'evm',\n",
       " 'pe_exi',\n",
       " 'pe_inc',\n",
       " 'pe_ib',\n",
       " 'pe_ni',\n",
       " 'rd_sale',\n",
       " 'adv_sale',\n",
       " 'xsga_sale',\n",
       " 'markup_acct',\n",
       " 'market_sale',\n",
       " 'div_sale',\n",
       " 'markup',\n",
       " 'makrup_overhead',\n",
       " 'econ_profit',\n",
       " 'profit_rate',\n",
       " 'op_profit_rate',\n",
       " 'econ_roa']"
      ]
     },
     "execution_count": 114,
     "metadata": {},
     "output_type": "execute_result"
    }
   ],
   "source": [
    "Comp_col_list"
   ]
  },
  {
   "cell_type": "markdown",
   "metadata": {},
   "source": [
    "### 2.5 Control Variables"
   ]
  },
  {
   "cell_type": "code",
   "execution_count": 115,
   "metadata": {},
   "outputs": [],
   "source": [
    "Control_col_list = []"
   ]
  },
  {
   "cell_type": "markdown",
   "metadata": {},
   "source": [
    "#### Size: Natural logarithm of total assets in  \\\\$ Million"
   ]
  },
  {
   "cell_type": "code",
   "execution_count": 116,
   "metadata": {},
   "outputs": [],
   "source": [
    "data['size'] = np.log(data['at'])"
   ]
  },
  {
   "cell_type": "markdown",
   "metadata": {},
   "source": [
    "#### Leverage ratio: the ratio of total debt to the market value of equity"
   ]
  },
  {
   "cell_type": "code",
   "execution_count": 117,
   "metadata": {},
   "outputs": [],
   "source": [
    "data['lev'] = (data['dltt'] + data['dlc']) / (data['prcc_f'] * data['csho'])"
   ]
  },
  {
   "cell_type": "markdown",
   "metadata": {},
   "source": [
    "#### R&D Intensity\n",
    "research and development expenditures over sales"
   ]
  },
  {
   "cell_type": "code",
   "execution_count": 118,
   "metadata": {},
   "outputs": [],
   "source": [
    "data['rdi'] = data['xrd'] / data['sale']"
   ]
  },
  {
   "cell_type": "markdown",
   "metadata": {},
   "source": [
    "#### Advertising Intensity\n",
    "advertising expenses over sales;"
   ]
  },
  {
   "cell_type": "code",
   "execution_count": 119,
   "metadata": {},
   "outputs": [],
   "source": [
    "data['adi'] = data['xad'] / data['sale']"
   ]
  },
  {
   "cell_type": "markdown",
   "metadata": {},
   "source": [
    "#### Beta from CAPM:\n",
    "We otain BETA from WRDS Beta Suite using market model CAPM. In these estimations, we use 60 months windows and we require a minimum of 24 months of observations. We pick beta at the end of June of year $t$."
   ]
  },
  {
   "cell_type": "code",
   "execution_count": 120,
   "metadata": {},
   "outputs": [],
   "source": [
    "data_beta = pd.read_csv('data/CAPM_beta.csv.gz', usecols=['PERMNO', 'DATE', 'b_mkt'], date_parser='DATE')\n",
    "data_beta.sort_values(['PERMNO', 'DATE'], inplace=True)\n",
    "data_beta['DATE'] = pd.to_datetime(data_beta['DATE'], format='%Y/%m/%d')\n",
    "data_beta = data_beta.groupby('PERMNO', as_index=False).resample('AS-JUN', on='DATE').first()\n",
    "data_beta.rename(columns={\"DATE\":\"date\", \"PERMNO\":\"permno\"}, inplace=True)\n",
    "data_beta.reset_index(inplace=True)\n",
    "data_beta.drop(columns='level_0', inplace=True)\n",
    "data_beta['year'] = data_beta['DATE'].dt.year\n",
    "data_beta.drop(columns='DATE', inplace=True)"
   ]
  },
  {
   "cell_type": "code",
   "execution_count": 121,
   "metadata": {},
   "outputs": [],
   "source": [
    "data_beta.drop(columns='date', inplace=True)"
   ]
  },
  {
   "cell_type": "code",
   "execution_count": 122,
   "metadata": {},
   "outputs": [
    {
     "data": {
      "text/html": [
       "<div>\n",
       "<style scoped>\n",
       "    .dataframe tbody tr th:only-of-type {\n",
       "        vertical-align: middle;\n",
       "    }\n",
       "\n",
       "    .dataframe tbody tr th {\n",
       "        vertical-align: top;\n",
       "    }\n",
       "\n",
       "    .dataframe thead th {\n",
       "        text-align: right;\n",
       "    }\n",
       "</style>\n",
       "<table border=\"1\" class=\"dataframe\">\n",
       "  <thead>\n",
       "    <tr style=\"text-align: right;\">\n",
       "      <th></th>\n",
       "      <th>permno</th>\n",
       "      <th>b_mkt</th>\n",
       "      <th>year</th>\n",
       "    </tr>\n",
       "  </thead>\n",
       "  <tbody>\n",
       "    <tr>\n",
       "      <td>0</td>\n",
       "      <td>10001.0</td>\n",
       "      <td>0.0974</td>\n",
       "      <td>1989</td>\n",
       "    </tr>\n",
       "    <tr>\n",
       "      <td>1</td>\n",
       "      <td>10001.0</td>\n",
       "      <td>0.0811</td>\n",
       "      <td>1990</td>\n",
       "    </tr>\n",
       "    <tr>\n",
       "      <td>2</td>\n",
       "      <td>10001.0</td>\n",
       "      <td>0.0715</td>\n",
       "      <td>1991</td>\n",
       "    </tr>\n",
       "    <tr>\n",
       "      <td>3</td>\n",
       "      <td>10001.0</td>\n",
       "      <td>0.0164</td>\n",
       "      <td>1992</td>\n",
       "    </tr>\n",
       "    <tr>\n",
       "      <td>4</td>\n",
       "      <td>10001.0</td>\n",
       "      <td>-0.1172</td>\n",
       "      <td>1993</td>\n",
       "    </tr>\n",
       "  </tbody>\n",
       "</table>\n",
       "</div>"
      ],
      "text/plain": [
       "    permno   b_mkt  year\n",
       "0  10001.0  0.0974  1989\n",
       "1  10001.0  0.0811  1990\n",
       "2  10001.0  0.0715  1991\n",
       "3  10001.0  0.0164  1992\n",
       "4  10001.0 -0.1172  1993"
      ]
     },
     "execution_count": 122,
     "metadata": {},
     "output_type": "execute_result"
    }
   ],
   "source": [
    "data_beta.head()"
   ]
  },
  {
   "cell_type": "code",
   "execution_count": 123,
   "metadata": {
    "scrolled": true
   },
   "outputs": [],
   "source": [
    "data = data.merge(data_beta, on=['permno', 'year'], how='left') # reduced to 41526 rows if using inner merge."
   ]
  },
  {
   "cell_type": "code",
   "execution_count": 124,
   "metadata": {
    "scrolled": true
   },
   "outputs": [
    {
     "data": {
      "text/html": [
       "<div>\n",
       "<style scoped>\n",
       "    .dataframe tbody tr th:only-of-type {\n",
       "        vertical-align: middle;\n",
       "    }\n",
       "\n",
       "    .dataframe tbody tr th {\n",
       "        vertical-align: top;\n",
       "    }\n",
       "\n",
       "    .dataframe thead th {\n",
       "        text-align: right;\n",
       "    }\n",
       "</style>\n",
       "<table border=\"1\" class=\"dataframe\">\n",
       "  <thead>\n",
       "    <tr style=\"text-align: right;\">\n",
       "      <th></th>\n",
       "      <th>permno</th>\n",
       "      <th>year</th>\n",
       "      <th>fyear</th>\n",
       "      <th>datadate</th>\n",
       "      <th>date</th>\n",
       "      <th>b_mkt</th>\n",
       "    </tr>\n",
       "  </thead>\n",
       "  <tbody>\n",
       "    <tr>\n",
       "      <td>0</td>\n",
       "      <td>54594.0</td>\n",
       "      <td>2003</td>\n",
       "      <td>2003.0</td>\n",
       "      <td>2004-05-31</td>\n",
       "      <td>2003-12-31</td>\n",
       "      <td>1.1327</td>\n",
       "    </tr>\n",
       "    <tr>\n",
       "      <td>1</td>\n",
       "      <td>54594.0</td>\n",
       "      <td>2004</td>\n",
       "      <td>2004.0</td>\n",
       "      <td>2005-05-31</td>\n",
       "      <td>2004-12-31</td>\n",
       "      <td>1.4483</td>\n",
       "    </tr>\n",
       "    <tr>\n",
       "      <td>2</td>\n",
       "      <td>54594.0</td>\n",
       "      <td>2005</td>\n",
       "      <td>2005.0</td>\n",
       "      <td>2006-05-31</td>\n",
       "      <td>2005-12-30</td>\n",
       "      <td>1.7114</td>\n",
       "    </tr>\n",
       "    <tr>\n",
       "      <td>3</td>\n",
       "      <td>54594.0</td>\n",
       "      <td>2006</td>\n",
       "      <td>2006.0</td>\n",
       "      <td>2007-05-31</td>\n",
       "      <td>2006-12-29</td>\n",
       "      <td>2.3594</td>\n",
       "    </tr>\n",
       "    <tr>\n",
       "      <td>4</td>\n",
       "      <td>54594.0</td>\n",
       "      <td>2007</td>\n",
       "      <td>2007.0</td>\n",
       "      <td>2008-05-31</td>\n",
       "      <td>2007-12-31</td>\n",
       "      <td>2.1797</td>\n",
       "    </tr>\n",
       "  </tbody>\n",
       "</table>\n",
       "</div>"
      ],
      "text/plain": [
       "    permno  year   fyear    datadate        date   b_mkt\n",
       "0  54594.0  2003  2003.0  2004-05-31  2003-12-31  1.1327\n",
       "1  54594.0  2004  2004.0  2005-05-31  2004-12-31  1.4483\n",
       "2  54594.0  2005  2005.0  2006-05-31  2005-12-30  1.7114\n",
       "3  54594.0  2006  2006.0  2007-05-31  2006-12-29  2.3594\n",
       "4  54594.0  2007  2007.0  2008-05-31  2007-12-31  2.1797"
      ]
     },
     "execution_count": 124,
     "metadata": {},
     "output_type": "execute_result"
    }
   ],
   "source": [
    "data[['permno', 'year', 'fyear', 'datadate','date', 'b_mkt']].head()"
   ]
  },
  {
   "cell_type": "code",
   "execution_count": 125,
   "metadata": {},
   "outputs": [],
   "source": [
    "Control_col_list.extend(['size', 'lev', 'b_mkt', 'rdi', 'adi'])"
   ]
  },
  {
   "cell_type": "code",
   "execution_count": 126,
   "metadata": {},
   "outputs": [
    {
     "data": {
      "text/plain": [
       "['size', 'lev', 'b_mkt', 'rdi', 'adi']"
      ]
     },
     "execution_count": 126,
     "metadata": {},
     "output_type": "execute_result"
    }
   ],
   "source": [
    "Control_col_list"
   ]
  },
  {
   "cell_type": "markdown",
   "metadata": {},
   "source": [
    "## Collection of variables to be kept"
   ]
  },
  {
   "cell_type": "code",
   "execution_count": 127,
   "metadata": {},
   "outputs": [],
   "source": [
    "var_list = ['ticker_KLD', 'cusip_KLD', 'companyname', 'year', 'date', 'permno', 'gvkey', 'datadate', 'fyear', 'cusip', 'ticker', 'companyid']"
   ]
  },
  {
   "cell_type": "code",
   "execution_count": 128,
   "metadata": {},
   "outputs": [],
   "source": [
    "var_list.extend(Control_col_list)\n",
    "var_list.extend(Comp_col_list)\n",
    "var_list.extend(KLD_col_list)"
   ]
  },
  {
   "cell_type": "code",
   "execution_count": 129,
   "metadata": {
    "scrolled": true
   },
   "outputs": [
    {
     "data": {
      "text/plain": [
       "['ticker_KLD',\n",
       " 'cusip_KLD',\n",
       " 'companyname',\n",
       " 'year',\n",
       " 'date',\n",
       " 'permno',\n",
       " 'gvkey',\n",
       " 'datadate',\n",
       " 'fyear',\n",
       " 'cusip',\n",
       " 'ticker',\n",
       " 'companyid',\n",
       " 'size',\n",
       " 'lev',\n",
       " 'b_mkt',\n",
       " 'rdi',\n",
       " 'adi',\n",
       " 'sale',\n",
       " 'cogs',\n",
       " 'ppegt',\n",
       " 'xsga',\n",
       " 'xlr',\n",
       " 'emp',\n",
       " 'xad',\n",
       " 'xrd',\n",
       " 'at',\n",
       " 'sich',\n",
       " 'ppent',\n",
       " 'aqc',\n",
       " 'capx',\n",
       " 'capxv',\n",
       " 'gpm',\n",
       " 'npm',\n",
       " 'roa',\n",
       " 'roe',\n",
       " 'bm',\n",
       " 'evm',\n",
       " 'pe_exi',\n",
       " 'pe_inc',\n",
       " 'pe_ib',\n",
       " 'pe_ni',\n",
       " 'rd_sale',\n",
       " 'adv_sale',\n",
       " 'xsga_sale',\n",
       " 'markup_acct',\n",
       " 'market_sale',\n",
       " 'div_sale',\n",
       " 'markup',\n",
       " 'makrup_overhead',\n",
       " 'econ_profit',\n",
       " 'profit_rate',\n",
       " 'op_profit_rate',\n",
       " 'econ_roa',\n",
       " 'positive',\n",
       " 'negative',\n",
       " 'positive_avg',\n",
       " 'negative_avg',\n",
       " 'KLD Index',\n",
       " 'KLD Index Norm',\n",
       " 'E_pos',\n",
       " 'E_neg',\n",
       " 'E Index',\n",
       " 'S_pos',\n",
       " 'S_neg',\n",
       " 'S Index',\n",
       " 'G_pos',\n",
       " 'G_neg',\n",
       " 'G Index',\n",
       " 'Controv Index',\n",
       " 'COM_pos',\n",
       " 'COM_neg',\n",
       " 'ESG_COM',\n",
       " 'DIV_pos',\n",
       " 'DIV_neg',\n",
       " 'ESG_DIV',\n",
       " 'EMP_pos',\n",
       " 'EMP_neg',\n",
       " 'ESG_EMP',\n",
       " 'ENV_pos',\n",
       " 'ENV_neg',\n",
       " 'ESG_ENV',\n",
       " 'HUM_pos',\n",
       " 'HUM_neg',\n",
       " 'ESG_HUM',\n",
       " 'PRO_pos',\n",
       " 'PRO_neg',\n",
       " 'ESG_PRO',\n",
       " 'CGOV_pos',\n",
       " 'CGOV_neg',\n",
       " 'ESG_CGOV',\n",
       " 'ESG_A_ex_CG_pos',\n",
       " 'ESG_A_ex_CG_neg',\n",
       " 'ESG Pos-Neg Ex-CG Index',\n",
       " 'ESG_A_pos',\n",
       " 'ESG_A_neg',\n",
       " 'ESG Pos-Neg A Index']"
      ]
     },
     "execution_count": 129,
     "metadata": {},
     "output_type": "execute_result"
    }
   ],
   "source": [
    "var_list"
   ]
  },
  {
   "cell_type": "code",
   "execution_count": 130,
   "metadata": {},
   "outputs": [
    {
     "data": {
      "text/plain": [
       "96"
      ]
     },
     "execution_count": 130,
     "metadata": {},
     "output_type": "execute_result"
    }
   ],
   "source": [
    "len(var_list)"
   ]
  },
  {
   "cell_type": "code",
   "execution_count": 131,
   "metadata": {},
   "outputs": [],
   "source": [
    "df = data[var_list]"
   ]
  },
  {
   "cell_type": "code",
   "execution_count": 132,
   "metadata": {},
   "outputs": [
    {
     "data": {
      "text/html": [
       "<div>\n",
       "<style scoped>\n",
       "    .dataframe tbody tr th:only-of-type {\n",
       "        vertical-align: middle;\n",
       "    }\n",
       "\n",
       "    .dataframe tbody tr th {\n",
       "        vertical-align: top;\n",
       "    }\n",
       "\n",
       "    .dataframe thead th {\n",
       "        text-align: right;\n",
       "    }\n",
       "</style>\n",
       "<table border=\"1\" class=\"dataframe\">\n",
       "  <thead>\n",
       "    <tr style=\"text-align: right;\">\n",
       "      <th></th>\n",
       "      <th>ticker_KLD</th>\n",
       "      <th>cusip_KLD</th>\n",
       "      <th>companyname</th>\n",
       "      <th>year</th>\n",
       "      <th>date</th>\n",
       "      <th>permno</th>\n",
       "      <th>gvkey</th>\n",
       "      <th>datadate</th>\n",
       "      <th>fyear</th>\n",
       "      <th>cusip</th>\n",
       "      <th>...</th>\n",
       "      <th>ESG_PRO</th>\n",
       "      <th>CGOV_pos</th>\n",
       "      <th>CGOV_neg</th>\n",
       "      <th>ESG_CGOV</th>\n",
       "      <th>ESG_A_ex_CG_pos</th>\n",
       "      <th>ESG_A_ex_CG_neg</th>\n",
       "      <th>ESG Pos-Neg Ex-CG Index</th>\n",
       "      <th>ESG_A_pos</th>\n",
       "      <th>ESG_A_neg</th>\n",
       "      <th>ESG Pos-Neg A Index</th>\n",
       "    </tr>\n",
       "  </thead>\n",
       "  <tbody>\n",
       "    <tr>\n",
       "      <td>0</td>\n",
       "      <td>AIR</td>\n",
       "      <td>00036110</td>\n",
       "      <td>AAR CORPORATION</td>\n",
       "      <td>2003</td>\n",
       "      <td>2003-12-31</td>\n",
       "      <td>54594.0</td>\n",
       "      <td>001004</td>\n",
       "      <td>2004-05-31</td>\n",
       "      <td>2003.0</td>\n",
       "      <td>00036110</td>\n",
       "      <td>...</td>\n",
       "      <td>0.0</td>\n",
       "      <td>0.0</td>\n",
       "      <td>0.0</td>\n",
       "      <td>0.0</td>\n",
       "      <td>0.0</td>\n",
       "      <td>0.0</td>\n",
       "      <td>0.0</td>\n",
       "      <td>0.0</td>\n",
       "      <td>0.0</td>\n",
       "      <td>0.0</td>\n",
       "    </tr>\n",
       "    <tr>\n",
       "      <td>1</td>\n",
       "      <td>AIR</td>\n",
       "      <td>00036110</td>\n",
       "      <td>AAR CORPORATION</td>\n",
       "      <td>2004</td>\n",
       "      <td>2004-12-31</td>\n",
       "      <td>54594.0</td>\n",
       "      <td>001004</td>\n",
       "      <td>2005-05-31</td>\n",
       "      <td>2004.0</td>\n",
       "      <td>00036110</td>\n",
       "      <td>...</td>\n",
       "      <td>0.0</td>\n",
       "      <td>0.0</td>\n",
       "      <td>0.0</td>\n",
       "      <td>0.0</td>\n",
       "      <td>0.0</td>\n",
       "      <td>2.0</td>\n",
       "      <td>-2.0</td>\n",
       "      <td>0.0</td>\n",
       "      <td>2.0</td>\n",
       "      <td>-2.0</td>\n",
       "    </tr>\n",
       "    <tr>\n",
       "      <td>2</td>\n",
       "      <td>AIR</td>\n",
       "      <td>00036110</td>\n",
       "      <td>AAR CORPORATION</td>\n",
       "      <td>2005</td>\n",
       "      <td>2005-12-30</td>\n",
       "      <td>54594.0</td>\n",
       "      <td>001004</td>\n",
       "      <td>2006-05-31</td>\n",
       "      <td>2005.0</td>\n",
       "      <td>00036110</td>\n",
       "      <td>...</td>\n",
       "      <td>0.0</td>\n",
       "      <td>0.0</td>\n",
       "      <td>1.0</td>\n",
       "      <td>-1.0</td>\n",
       "      <td>0.0</td>\n",
       "      <td>2.0</td>\n",
       "      <td>-2.0</td>\n",
       "      <td>0.0</td>\n",
       "      <td>3.0</td>\n",
       "      <td>-3.0</td>\n",
       "    </tr>\n",
       "    <tr>\n",
       "      <td>3</td>\n",
       "      <td>AIR</td>\n",
       "      <td>00036110</td>\n",
       "      <td>AAR CORPORATION</td>\n",
       "      <td>2006</td>\n",
       "      <td>2006-12-29</td>\n",
       "      <td>54594.0</td>\n",
       "      <td>001004</td>\n",
       "      <td>2007-05-31</td>\n",
       "      <td>2006.0</td>\n",
       "      <td>00036110</td>\n",
       "      <td>...</td>\n",
       "      <td>0.0</td>\n",
       "      <td>0.0</td>\n",
       "      <td>1.0</td>\n",
       "      <td>-1.0</td>\n",
       "      <td>0.0</td>\n",
       "      <td>2.0</td>\n",
       "      <td>-2.0</td>\n",
       "      <td>0.0</td>\n",
       "      <td>3.0</td>\n",
       "      <td>-3.0</td>\n",
       "    </tr>\n",
       "    <tr>\n",
       "      <td>4</td>\n",
       "      <td>AIR</td>\n",
       "      <td>00036110</td>\n",
       "      <td>AAR CORPORATION</td>\n",
       "      <td>2007</td>\n",
       "      <td>2007-12-31</td>\n",
       "      <td>54594.0</td>\n",
       "      <td>001004</td>\n",
       "      <td>2008-05-31</td>\n",
       "      <td>2007.0</td>\n",
       "      <td>00036110</td>\n",
       "      <td>...</td>\n",
       "      <td>0.0</td>\n",
       "      <td>0.0</td>\n",
       "      <td>1.0</td>\n",
       "      <td>-1.0</td>\n",
       "      <td>0.0</td>\n",
       "      <td>2.0</td>\n",
       "      <td>-2.0</td>\n",
       "      <td>0.0</td>\n",
       "      <td>3.0</td>\n",
       "      <td>-3.0</td>\n",
       "    </tr>\n",
       "  </tbody>\n",
       "</table>\n",
       "<p>5 rows × 96 columns</p>\n",
       "</div>"
      ],
      "text/plain": [
       "  ticker_KLD cusip_KLD      companyname  year        date   permno   gvkey  \\\n",
       "0        AIR  00036110  AAR CORPORATION  2003  2003-12-31  54594.0  001004   \n",
       "1        AIR  00036110  AAR CORPORATION  2004  2004-12-31  54594.0  001004   \n",
       "2        AIR  00036110  AAR CORPORATION  2005  2005-12-30  54594.0  001004   \n",
       "3        AIR  00036110  AAR CORPORATION  2006  2006-12-29  54594.0  001004   \n",
       "4        AIR  00036110  AAR CORPORATION  2007  2007-12-31  54594.0  001004   \n",
       "\n",
       "     datadate   fyear     cusip  ... ESG_PRO  CGOV_pos  CGOV_neg  ESG_CGOV  \\\n",
       "0  2004-05-31  2003.0  00036110  ...     0.0       0.0       0.0       0.0   \n",
       "1  2005-05-31  2004.0  00036110  ...     0.0       0.0       0.0       0.0   \n",
       "2  2006-05-31  2005.0  00036110  ...     0.0       0.0       1.0      -1.0   \n",
       "3  2007-05-31  2006.0  00036110  ...     0.0       0.0       1.0      -1.0   \n",
       "4  2008-05-31  2007.0  00036110  ...     0.0       0.0       1.0      -1.0   \n",
       "\n",
       "   ESG_A_ex_CG_pos  ESG_A_ex_CG_neg  ESG Pos-Neg Ex-CG Index  ESG_A_pos  \\\n",
       "0              0.0              0.0                      0.0        0.0   \n",
       "1              0.0              2.0                     -2.0        0.0   \n",
       "2              0.0              2.0                     -2.0        0.0   \n",
       "3              0.0              2.0                     -2.0        0.0   \n",
       "4              0.0              2.0                     -2.0        0.0   \n",
       "\n",
       "   ESG_A_neg  ESG Pos-Neg A Index  \n",
       "0        0.0                  0.0  \n",
       "1        2.0                 -2.0  \n",
       "2        3.0                 -3.0  \n",
       "3        3.0                 -3.0  \n",
       "4        3.0                 -3.0  \n",
       "\n",
       "[5 rows x 96 columns]"
      ]
     },
     "execution_count": 132,
     "metadata": {},
     "output_type": "execute_result"
    }
   ],
   "source": [
    "df.head()"
   ]
  },
  {
   "cell_type": "code",
   "execution_count": 133,
   "metadata": {},
   "outputs": [
    {
     "data": {
      "text/plain": [
       "(43331, 96)"
      ]
     },
     "execution_count": 133,
     "metadata": {},
     "output_type": "execute_result"
    }
   ],
   "source": [
    "df.shape"
   ]
  },
  {
   "cell_type": "code",
   "execution_count": 134,
   "metadata": {},
   "outputs": [
    {
     "data": {
      "text/plain": [
       "315"
      ]
     },
     "execution_count": 134,
     "metadata": {},
     "output_type": "execute_result"
    }
   ],
   "source": [
    "data.sich.isna().sum()"
   ]
  },
  {
   "cell_type": "code",
   "execution_count": 135,
   "metadata": {},
   "outputs": [],
   "source": [
    "import wrds"
   ]
  },
  {
   "cell_type": "code",
   "execution_count": 136,
   "metadata": {},
   "outputs": [
    {
     "name": "stdout",
     "output_type": "stream",
     "text": [
      "Loading library list...\n",
      "Done\n"
     ]
    }
   ],
   "source": [
    "db = wrds.Connection()"
   ]
  },
  {
   "cell_type": "code",
   "execution_count": 137,
   "metadata": {},
   "outputs": [
    {
     "name": "stdout",
     "output_type": "stream",
     "text": [
      "Approximately 40106 rows in comp.names.\n"
     ]
    },
    {
     "data": {
      "text/plain": [
       "['gvkey',\n",
       " 'conm',\n",
       " 'tic',\n",
       " 'cusip',\n",
       " 'cik',\n",
       " 'sic',\n",
       " 'naics',\n",
       " 'gsubind',\n",
       " 'gind',\n",
       " 'year1',\n",
       " 'year2']"
      ]
     },
     "execution_count": 137,
     "metadata": {},
     "output_type": "execute_result"
    }
   ],
   "source": [
    "db.describe_table(library=\"comp\", table=\"names\")['name'].to_list()"
   ]
  },
  {
   "cell_type": "code",
   "execution_count": 138,
   "metadata": {},
   "outputs": [],
   "source": [
    "names = db.raw_sql(\"\"\"\n",
    "                    select *\n",
    "                    from comp.names\n",
    "                    \"\"\")"
   ]
  },
  {
   "cell_type": "code",
   "execution_count": 139,
   "metadata": {},
   "outputs": [
    {
     "data": {
      "text/html": [
       "<div>\n",
       "<style scoped>\n",
       "    .dataframe tbody tr th:only-of-type {\n",
       "        vertical-align: middle;\n",
       "    }\n",
       "\n",
       "    .dataframe tbody tr th {\n",
       "        vertical-align: top;\n",
       "    }\n",
       "\n",
       "    .dataframe thead th {\n",
       "        text-align: right;\n",
       "    }\n",
       "</style>\n",
       "<table border=\"1\" class=\"dataframe\">\n",
       "  <thead>\n",
       "    <tr style=\"text-align: right;\">\n",
       "      <th></th>\n",
       "      <th>gvkey</th>\n",
       "      <th>conm</th>\n",
       "      <th>tic</th>\n",
       "      <th>cusip</th>\n",
       "      <th>cik</th>\n",
       "      <th>sic</th>\n",
       "      <th>naics</th>\n",
       "      <th>gsubind</th>\n",
       "      <th>gind</th>\n",
       "      <th>year1</th>\n",
       "      <th>year2</th>\n",
       "    </tr>\n",
       "  </thead>\n",
       "  <tbody>\n",
       "    <tr>\n",
       "      <td>0</td>\n",
       "      <td>001000</td>\n",
       "      <td>A &amp; E PLASTIK PAK INC</td>\n",
       "      <td>AE.2</td>\n",
       "      <td>000032102</td>\n",
       "      <td>None</td>\n",
       "      <td>3089</td>\n",
       "      <td>None</td>\n",
       "      <td>None</td>\n",
       "      <td>None</td>\n",
       "      <td>1961.0</td>\n",
       "      <td>1977.0</td>\n",
       "    </tr>\n",
       "    <tr>\n",
       "      <td>1</td>\n",
       "      <td>001001</td>\n",
       "      <td>A &amp; M FOOD SERVICES INC</td>\n",
       "      <td>AMFD.</td>\n",
       "      <td>000165100</td>\n",
       "      <td>0000723576</td>\n",
       "      <td>5812</td>\n",
       "      <td>722</td>\n",
       "      <td>25301040</td>\n",
       "      <td>253010</td>\n",
       "      <td>1978.0</td>\n",
       "      <td>1985.0</td>\n",
       "    </tr>\n",
       "    <tr>\n",
       "      <td>2</td>\n",
       "      <td>001002</td>\n",
       "      <td>AAI CORP</td>\n",
       "      <td>AAIC</td>\n",
       "      <td>000352104</td>\n",
       "      <td>0000001745</td>\n",
       "      <td>3825</td>\n",
       "      <td>None</td>\n",
       "      <td>None</td>\n",
       "      <td>None</td>\n",
       "      <td>1960.0</td>\n",
       "      <td>1972.0</td>\n",
       "    </tr>\n",
       "    <tr>\n",
       "      <td>3</td>\n",
       "      <td>001003</td>\n",
       "      <td>A.A. IMPORTING CO INC</td>\n",
       "      <td>ANTQ</td>\n",
       "      <td>000354100</td>\n",
       "      <td>0000730052</td>\n",
       "      <td>5712</td>\n",
       "      <td>442110</td>\n",
       "      <td>25504040</td>\n",
       "      <td>255040</td>\n",
       "      <td>1980.0</td>\n",
       "      <td>1989.0</td>\n",
       "    </tr>\n",
       "    <tr>\n",
       "      <td>4</td>\n",
       "      <td>001004</td>\n",
       "      <td>AAR CORP</td>\n",
       "      <td>AIR</td>\n",
       "      <td>000361105</td>\n",
       "      <td>0000001750</td>\n",
       "      <td>5080</td>\n",
       "      <td>423860</td>\n",
       "      <td>20101010</td>\n",
       "      <td>201010</td>\n",
       "      <td>1965.0</td>\n",
       "      <td>2018.0</td>\n",
       "    </tr>\n",
       "  </tbody>\n",
       "</table>\n",
       "</div>"
      ],
      "text/plain": [
       "    gvkey                     conm    tic      cusip         cik   sic  \\\n",
       "0  001000    A & E PLASTIK PAK INC   AE.2  000032102        None  3089   \n",
       "1  001001  A & M FOOD SERVICES INC  AMFD.  000165100  0000723576  5812   \n",
       "2  001002                 AAI CORP   AAIC  000352104  0000001745  3825   \n",
       "3  001003    A.A. IMPORTING CO INC   ANTQ  000354100  0000730052  5712   \n",
       "4  001004                 AAR CORP    AIR  000361105  0000001750  5080   \n",
       "\n",
       "    naics   gsubind    gind   year1   year2  \n",
       "0    None      None    None  1961.0  1977.0  \n",
       "1     722  25301040  253010  1978.0  1985.0  \n",
       "2    None      None    None  1960.0  1972.0  \n",
       "3  442110  25504040  255040  1980.0  1989.0  \n",
       "4  423860  20101010  201010  1965.0  2018.0  "
      ]
     },
     "execution_count": 139,
     "metadata": {},
     "output_type": "execute_result"
    }
   ],
   "source": [
    "names.head()"
   ]
  },
  {
   "cell_type": "code",
   "execution_count": 140,
   "metadata": {},
   "outputs": [
    {
     "data": {
      "text/plain": [
       "(40106, 11)"
      ]
     },
     "execution_count": 140,
     "metadata": {},
     "output_type": "execute_result"
    }
   ],
   "source": [
    "names.shape"
   ]
  },
  {
   "cell_type": "markdown",
   "metadata": {},
   "source": [
    "## Assign Fama-French 48"
   ]
  },
  {
   "cell_type": "code",
   "execution_count": 141,
   "metadata": {},
   "outputs": [],
   "source": [
    "#########################\n",
    "# Assign Fama-French 48 #\n",
    "#########################\n",
    "\n",
    "# function to assign ffi48 classification\n",
    "def ffi48(row):\n",
    "    if (100<=row['sic'] <=299) or (700<=row['sic']<=799) or (910<=row['sic']<=919) or (row['sic']==2048):\n",
    "        ffi48=1\n",
    "        ffi48_desc='Agric'\n",
    "    elif (2000<=row['sic']<=2046) or (2050<=row['sic']<=2063) or (2070<=row['sic']<=2079)\\\n",
    "    or (2090<=row['sic']<=2092) or (row['sic']==2095) or (2098<=row['sic']<=2099):\n",
    "        ffi48=2\n",
    "        ffi48_desc='Food'\n",
    "    elif (2064<=row['sic']<=2068) or (2086<=row['sic']<=2087) or (2096<=row['sic']<=2097):\n",
    "        ffi48=3\n",
    "        ffi48_desc='Soda'\n",
    "    elif (row['sic']==2080) or (2082<=row['sic']<=2085):\n",
    "        ffi48=4\n",
    "        ffi48_desc='Beer'\n",
    "    elif (2100<=row['sic']<=2199):\n",
    "        ffi48=5\n",
    "        ffi48_desc='Smoke'\n",
    "    elif (920<=row['sic']<=999) or (3650<=row['sic']<=3652) or (row['sic']==3732) or (3930<=row['sic']<=3931) or (3940<=row['sic']<=3949):\n",
    "        ffi48=6\n",
    "        ffi48_desc='Toys'\n",
    "    elif (7800<=row['sic']<=7833) or (7840<=row['sic']<=7841) or(row['sic']==7900)or (7910<=row['sic']<=7911) or (7920<=row['sic']<=7933)\\\n",
    "    or (7940<=row['sic']<=7949) or (row['sic']==7980) or (7990<=row['sic']<=7999):\n",
    "        ffi48=7\n",
    "        ffi48_desc='Fun'\n",
    "    elif (2700<=row['sic']<=2749) or (2770<=row['sic']<=2771) or (2780<=row['sic']<=2799):\n",
    "        ffi48=8\n",
    "        ffi48_desc='Books'\n",
    "    elif (row['sic']==2047) or (2391<=row['sic']<=2392) or (2510<=row['sic']<=2519) or (2590<=row['sic']<=2599) or (2840<=row['sic']<=2844)\\\n",
    "    or (3160<=row['sic']<=3161) or (3170<=row['sic']<=3172) or (3190<=row['sic']<=3199) or (row['sic']==3229) or (row['sic']==3260)\\\n",
    "    or (3262<=row['sic']<=3263) or (row['sic']==3269) or (3230<=row['sic']<=3231) or(3630<=row['sic']<=3639) or (3750<=row['sic']<=3751)\\\n",
    "    or (row['sic']==3800) or (3860<=row['sic']<=3861) or (3870<=row['sic']<=3873) or (3910<=row['sic']<=3911) or (3914<=row['sic']<=3915)\\\n",
    "    or (3960<=row['sic']<=3962) or (row['sic']==3991) or (row['sic']==3995):\n",
    "        ffi48=9\n",
    "        ffi48_desc='Hshld'\n",
    "    elif (2300<=row['sic']<=2390) or (3020<=row['sic']<=3021) or (3100<=row['sic']<=3111)\\\n",
    "    or (3130<=row['sic']<=3131) or (3140<=row['sic']<=3151) or (3963<=row['sic']<=3965):\n",
    "        ffi48=10\n",
    "        ffi48_desc='Clths'\n",
    "    elif (8000<=row['sic']<=8099):\n",
    "        ffi48=11\n",
    "        ffi48_desc='Hlth'\n",
    "    elif (row['sic']==3693) or (3840<=row['sic']<=3851):\n",
    "        ffi48=12\n",
    "        ffi48_desc='MedEq'\n",
    "    elif (2830<=row['sic']<=2831) or (2833<=row['sic']<=2836):\n",
    "        ffi48=13\n",
    "        ffi48_desc='Drugs'\n",
    "    elif (2800<=row['sic']<=2829) or (2850<=row['sic']<=2879) or (2890<=row['sic']<=2899):\n",
    "        ffi48=14\n",
    "        ffi48_desc='Chems'\n",
    "    elif (row['sic']==3031) or (row['sic']==3041) or (3050<=row['sic']<=3053) or (3060<=row['sic']<=3069) or (3070<=row['sic']<=3099):\n",
    "        ffi48=15\n",
    "        ffi48_desc='Rubbr'\n",
    "    elif (2200<=row['sic']<=2284) or (2290<=row['sic']<=2295) or (2297<=row['sic']<=2299) or (2393<=row['sic']<=2395) or (2397<=row['sic']<=2399):\n",
    "        ffi48=16\n",
    "        ffi48_desc='Txtls'\n",
    "    elif (800<=row['sic']<=899) or (2400<=row['sic']<=2439) or (2450<=row['sic']<=2459) or (2490<=row['sic']<=2499) or (2660<=row['sic']<=2661)\\\n",
    "    or (2950<=row['sic']<=2952) or (row['sic']==3200) or (3210<=row['sic']<=3211) or (3240<=row['sic']<=3241) or (3250<=row['sic']<=3259)\\\n",
    "    or (row['sic']==3261) or (row['sic']==3264) or (3270<=row['sic']<=3275) or (3280<=row['sic']<=3281) or (3290<=row['sic']<=3293)\\\n",
    "    or (3295<=row['sic']<=3299) or (3420<=row['sic']<=3433) or (3440<=row['sic']<=3442) or (row['sic']==3446) or (3448<=row['sic']<=3452)\\\n",
    "    or (3490<=row['sic']<=3499) or (row['sic']==3996):\n",
    "        ffi48=17\n",
    "        ffi48_desc='BldMt'\n",
    "    elif (1500<=row['sic']<=1511) or (1520<=row['sic']<=1549) or (1600<=row['sic']<=1799):\n",
    "        ffi48=18\n",
    "        ffi48_desc='Cnstr'\n",
    "    elif (row['sic']==3300) or (3310<=row['sic']<=3317) or (3320<=row['sic']<=3325) or (3330<=row['sic']<=3341) or(3350<=row['sic']<=3357)\\\n",
    "    or (3360<=row['sic']<=3379) or (3390<=row['sic']<=3399):\n",
    "        ffi48=19\n",
    "        ffi48_desc='Steel'\n",
    "    elif (row['sic']==3400) or (3443<=row['sic']<=3444) or (3460<=row['sic']<=3479):\n",
    "        ffi48=20\n",
    "        ffi48_desc='FabPr'\n",
    "    elif (3510<=row['sic']<=3536) or (row['sic']==3538) or (3540<=row['sic']<=3569)\\\n",
    "    or (3580<=row['sic']<=3582) or (3585<=row['sic']<=3586) or (3589<=row['sic']<=3599):\n",
    "        ffi48=21\n",
    "        ffi48_desc='Mach'\n",
    "    elif (row['sic']==3600) or (3610<=row['sic']<=3613) or (3620<=row['sic']<=3621) or (3623<=row['sic']<=3629) or (3640<=row['sic']<=3646)\\\n",
    "    or (3648<=row['sic']<=3649) or (row['sic']==3660) or (3690<=row['sic']<=3692) or (row['sic']==3699):\n",
    "            ffi48=22\n",
    "            ffi48_desc='ElcEq'\n",
    "    elif (row['sic']==2296) or (row['sic']==2396) or (3010<=row['sic']<=3011) or (row['sic']==3537) or (row['sic']==3647) or (row['sic']==3694)\\\n",
    "    or (row['sic']==3700) or (3710<=row['sic']<=3711) or (3713<=row['sic']<=3716) or (3790<=row['sic']<=3792) or (row['sic']==3799):\n",
    "        ffi48=23\n",
    "        ffi48_desc='Autos'\n",
    "    elif (3720<=row['sic']<=3721) or (3723<=row['sic']<=3725) or (3728<=row['sic']<=3729):\n",
    "        ffi48=24\n",
    "        ffi48_desc='Aero'\n",
    "    elif (3730<=row['sic']<=3731) or (3740<=row['sic']<=3743):\n",
    "        ffi48=25\n",
    "        ffi48_desc='Ships'\n",
    "    elif (3760<=row['sic']<=3769) or (row['sic']==3795) or (3480<=row['sic']<=3489):\n",
    "        ffi48=26\n",
    "        ffi48_desc='Guns'\n",
    "    elif (1040<=row['sic']<=1049):\n",
    "        ffi48=27\n",
    "        ffi48_desc='Gold'\n",
    "    elif (1000<=row['sic']<=1039) or (1050<=row['sic']<=1119) or (1400<=row['sic']<=1499):\n",
    "        ffi48=28\n",
    "        ffi48_desc='Mines'\n",
    "    elif (1200<=row['sic']<=1299):\n",
    "        ffi48=29\n",
    "        ffi48_desc='Coal'\n",
    "    elif (row['sic']==1300) or (1310<=row['sic']<=1339) or (1370<=row['sic']<=1382) or (row['sic']==1389) or (2900<=row['sic']<=2912) or (2990<=row['sic']<=2999):\n",
    "        ffi48=30\n",
    "        ffi48_desc='Oil'\n",
    "    elif (row['sic']==4900) or (4910<=row['sic']<=4911) or (4920<=row['sic']<=4925) or (4930<=row['sic']<=4932) or (4939<=row['sic']<=4942):\n",
    "        ffi48=31\n",
    "        ffi48_desc='Util'\n",
    "    elif (row['sic']==4800) or (4810<=row['sic']<=4813) or (4820<=row['sic']<=4822) or (4830<=row['sic']<=4841) or (4880<=row['sic']<=4892) or (row['sic']==4899):\n",
    "        ffi48=32\n",
    "        ffi48_desc='Telcm'\n",
    "    elif (7020<=row['sic']<=7021) or (7030<=row['sic']<=7033) or (row['sic']==7200) or (7210<=row['sic']<=7212) or (7214<=row['sic']<=7217)\\\n",
    "    or (7219<=row['sic']<=7221) or (7230<=row['sic']<=7231) or (7240<=row['sic']<=7241) or (7250<=row['sic']<=7251) or (7260<=row['sic']<=7299)\\\n",
    "    or (row['sic']==7395) or (row['sic']==7500) or (7520<=row['sic']<=7549) or (row['sic']==7600) or (row['sic']==7620)\\\n",
    "    or (7622<=row['sic']<=7623) or (7629<=row['sic']<=7631) or (7640<=row['sic']<=7641) or (7690<=row['sic']<=7699) or (8100<=row['sic']<=8499)\\\n",
    "    or (8600<=row['sic']<=8699) or (8800<=row['sic']<=8899) or (7510<=row['sic']<=7515):\n",
    "        ffi48=33\n",
    "        ffi48_desc='PerSv'\n",
    "    elif (2750<=row['sic']<=2759) or (row['sic']==3993) or (row['sic']==7218) or (row['sic']==7300) or (7310<=row['sic']<=7342)\\\n",
    "    or (7349<=row['sic']<=7353) or (7359<=row['sic']<=7372) or (7374<=row['sic']<=7385) or (7389<=row['sic']<=7394) or (7396<=row['sic']<=7397)\\\n",
    "    or (row['sic']==7399) or (row['sic']==7519) or (row['sic']==8700) or (8710<=row['sic']<=8713) or (8720<=row['sic']<=8721) \\\n",
    "    or (8730<=row['sic']<=8734) or (8740<=row['sic']<=8748) or (8900<=row['sic']<=8911) or (8920<=row['sic']<=8999) or (4220<=row['sic']<=4229):\n",
    "        ffi48=34\n",
    "        ffi48_desc='BusSv'\n",
    "    elif (3570<=row['sic']<=3579) or (3680<=row['sic']<=3689) or (row['sic']==3695) or (row['sic']==7373):\n",
    "        ffi48=35\n",
    "        ffi48_desc='Comps'\n",
    "    elif (row['sic']==3622) or (3661<=row['sic']<=3666) or (3669<=row['sic']<=3679) or (row['sic']==3810) or (row['sic']==3812):\n",
    "        ffi48=36\n",
    "        ffi48_desc='Chips'\n",
    "    elif (row['sic']==3811) or (3820<=row['sic']<=3827) or (3829<=row['sic']<=3839):\n",
    "        ffi48=37\n",
    "        ffi48_desc='LabEq'\n",
    "    elif (2520<=row['sic']<=2549) or (2600<=row['sic']<=2639) or (2670<=row['sic']<=2699) or (2760<=row['sic']<=2761) or (3950<=row['sic']<=3955):\n",
    "        ffi48=38\n",
    "        ffi48_desc='Paper'\n",
    "    elif (2440<=row['sic']<=2449) or (2640<=row['sic']<=2659) or (3220<=row['sic']<=3221) or (3410<=row['sic']<=3412):\n",
    "        ffi48=39\n",
    "        ffi48_desc='Boxes'\n",
    "    elif (4000<=row['sic']<=4013) or (4040<=row['sic']<=4049) or (row['sic']==4100)  or (4110<=row['sic']<=4121) or (4130<=row['sic']<=4131)\\\n",
    "    or (4140<=row['sic']<=4142) or (4150<=row['sic']<=4151) or (4170<=row['sic']<=4173) or (4190<=row['sic']<=4200)\\\n",
    "    or (4210<=row['sic']<=4219) or (4230<=row['sic']<=4231) or (4240<=row['sic']<=4249) or (4400<=row['sic']<=4700) or (4710<=row['sic']<=4712)\\\n",
    "    or (4720<=row['sic']<=4749) or (row['sic']==4780) or (4782<=row['sic']<=4785) or (row['sic']==4789):\n",
    "        ffi48=40\n",
    "        ffi48_desc='Trans'\n",
    "    elif (row['sic']==5000) or (5010<=row['sic']<=5015) or (5020<=row['sic']<=5023) or (5030<=row['sic']<=5060) or (5063<=row['sic']<=5065)\\\n",
    "    or (5070<=row['sic']<=5078) or (5080<=row['sic']<=5088) or (5090<=row['sic']<=5094) or (5099<=row['sic']<=5100)\\\n",
    "    or (5110<=row['sic']<=5113) or (5120<=row['sic']<=5122) or (5130<=row['sic']<=5172) or (5180<=row['sic']<=5182) or (5190<=row['sic']<=5199):\n",
    "        ffi48=41\n",
    "        ffi48_desc='Whlsl'\n",
    "    elif (row['sic']==5200) or (5210<=row['sic']<=5231) or (5250<=row['sic']<=5251) or (5260<=row['sic']<=5261) or (5270<=row['sic']<=5271)\\\n",
    "    or (row['sic']==5300) or (5310<=row['sic']<=5311) or (row['sic']==5320) or (5330<=row['sic']<=5331) or (row['sic']==5334)\\\n",
    "    or (5340<=row['sic']<=5349) or (5390<=row['sic']<=5400) or (5410<=row['sic']<=5412) or (5420<=row['sic']<=5469) or (5490<=row['sic']<=5500)\\\n",
    "    or (5510<=row['sic']<=5579) or (5590<=row['sic']<=5700) or (5710<=row['sic']<=5722) or (5730<=row['sic']<=5736) or (5750<=row['sic']<=5799)\\\n",
    "    or (row['sic']==5900) or (5910<=row['sic']<=5912) or (5920<=row['sic']<=5932) or (5940<=row['sic']<=5990) or (5992<=row['sic']<=5995) or (row['sic']==5999):\n",
    "        ffi48=42\n",
    "        ffi48_desc='Rtail'\n",
    "    elif (5800<=row['sic']<=5829) or (5890<=row['sic']<=5899) or (row['sic']==7000) or (7010<=row['sic']<=7019) or (7040<=row['sic']<=7049) or (row['sic']==7213):\n",
    "        ffi48=43\n",
    "        ffi48_desc='Meals'\n",
    "    elif (row['sic']==6000) or (6010<=row['sic']<=6036) or (6040<=row['sic']<=6062) or (6080<=row['sic']<=6082) or (6090<=row['sic']<=6100)\\\n",
    "    or (6110<=row['sic']<=6113) or (6120<=row['sic']<=6179) or (6190<=row['sic']<=6199):\n",
    "        ffi48=44\n",
    "        ffi48_desc='Banks'\n",
    "    elif (row['sic']==6300) or (6310<=row['sic']<=6331) or (6350<=row['sic']<=6351) or (6360<=row['sic']<=6361) or (6370<=row['sic']<=6379) or (6390<=row['sic']<=6411):\n",
    "        ffi48=45\n",
    "        ffi48_desc='Insur'\n",
    "    elif (row['sic']==6500) or (row['sic']==6510) or (6512<=row['sic']<=6515) or (6517<=row['sic']<=6532) or (6540<=row['sic']<=6541)\\\n",
    "    or (6550<=row['sic']<=6553) or (6590<=row['sic']<=6599) or (6610<=row['sic']<=6611):\n",
    "        ffi48=46\n",
    "        ffi48_desc='RlEst'\n",
    "    elif (6200<=row['sic']<=6299) or (row['sic']==6700) or (6710<=row['sic']<=6726) or (6730<=row['sic']<=6733) or (6740<=row['sic']<=6779)\\\n",
    "    or (6790<=row['sic']<=6795) or (6798<=row['sic']<=6799):\n",
    "        ffi48=47\n",
    "        ffi48_desc='Fin'\n",
    "    elif (4950<=row['sic']<=4961) or (4970<=row['sic']<=4971) or (4990<=row['sic']<=4991) or (row['sic']==9999):\n",
    "        ffi48=48\n",
    "        ffi48_desc='Other'\n",
    "    else:\n",
    "        ffi48=np.nan\n",
    "        ffi48_desc=''\n",
    "    return pd.Series({'sic': row['sic'], 'ffi48': ffi48, 'ffi48_desc': ffi48_desc})\n",
    "\n",
    "# assign SIC code\n",
    "names2 = names.copy()\n",
    "\n",
    "# and adjust some SIC code to fit F&F 48 ind delineation\n",
    "names2['sic']=np.where(names2['sic'].isin([3990,3999]), 3991, names2['sic'])\n",
    "names2['sic']=names2.sic.astype(int)\n",
    "\n",
    "# assign the ffi48 function to comp4\n",
    "_sic = names2['sic'].unique()\n",
    "_sicff = pd.DataFrame(_sic).rename(columns={0:'sic'})\n",
    "_sicff = _sicff.apply(ffi48, axis=1)\n",
    "names2 = pd.merge(names2, _sicff, how='left', on=['sic'])\n",
    "\n",
    "# keep only records with non-missing bm and ffi48 classification\n",
    "# names2 = names2[(names2['ffi48_desc'] !='')] \n",
    "names2 = names2.sort_values(['gvkey'])"
   ]
  },
  {
   "cell_type": "code",
   "execution_count": 142,
   "metadata": {},
   "outputs": [],
   "source": [
    "names2.drop(columns=['conm', 'tic', 'cusip', 'cik', 'naics', 'gsubind', 'gind', 'year1', 'year2'], inplace=True)"
   ]
  },
  {
   "cell_type": "code",
   "execution_count": 143,
   "metadata": {},
   "outputs": [],
   "source": [
    "df = pd.merge(df, names2, on='gvkey')"
   ]
  },
  {
   "cell_type": "code",
   "execution_count": 144,
   "metadata": {},
   "outputs": [
    {
     "data": {
      "text/plain": [
       "384"
      ]
     },
     "execution_count": 144,
     "metadata": {},
     "output_type": "execute_result"
    }
   ],
   "source": [
    "(df.ffi48_desc=='').sum()"
   ]
  },
  {
   "cell_type": "code",
   "execution_count": 145,
   "metadata": {},
   "outputs": [
    {
     "data": {
      "text/plain": [
       "(43331, 99)"
      ]
     },
     "execution_count": 145,
     "metadata": {},
     "output_type": "execute_result"
    }
   ],
   "source": [
    "df.shape"
   ]
  },
  {
   "cell_type": "code",
   "execution_count": 146,
   "metadata": {},
   "outputs": [],
   "source": [
    "df.rename(columns={'KLD Index':'KLDIndex', \n",
    "                   'KLD Index Norm':'KLDIndexNorm',\n",
    "                   'Controv Index':'ControvIndex',\n",
    "                   'ESG Pos-Neg Ex-CG Index':'ESGxGIndex', \n",
    "                   'ESG Pos-Neg A Index':'ESGIndex'}, \n",
    "          inplace=True)"
   ]
  },
  {
   "cell_type": "code",
   "execution_count": 147,
   "metadata": {},
   "outputs": [],
   "source": [
    "df.to_csv('data/KLD_Compustat_keep.csv', index=False)"
   ]
  }
 ],
 "metadata": {
  "kernelspec": {
   "display_name": "Python 3",
   "language": "python",
   "name": "python3"
  },
  "language_info": {
   "codemirror_mode": {
    "name": "ipython",
    "version": 3
   },
   "file_extension": ".py",
   "mimetype": "text/x-python",
   "name": "python",
   "nbconvert_exporter": "python",
   "pygments_lexer": "ipython3",
   "version": "3.6.10"
  }
 },
 "nbformat": 4,
 "nbformat_minor": 2
}
