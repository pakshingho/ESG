{
 "cells": [
  {
   "cell_type": "markdown",
   "metadata": {},
   "source": [
    "This notebook clean and transform KLD Compustat."
   ]
  },
  {
   "cell_type": "code",
   "execution_count": 1,
   "metadata": {},
   "outputs": [],
   "source": [
    "import pandas as pd\n",
    "import numpy as np\n",
    "import matplotlib.pyplot as plt"
   ]
  },
  {
   "cell_type": "code",
   "execution_count": 2,
   "metadata": {},
   "outputs": [
    {
     "name": "stderr",
     "output_type": "stream",
     "text": [
      "/Users/shinggg/anaconda3/lib/python3.6/site-packages/IPython/core/interactiveshell.py:3051: DtypeWarning: Columns (184,200,204) have mixed types. Specify dtype option on import or set low_memory=False.\n",
      "  interactivity=interactivity, compiler=compiler, result=result)\n"
     ]
    },
    {
     "data": {
      "text/plain": [
       "(43331, 1122)"
      ]
     },
     "execution_count": 2,
     "metadata": {},
     "output_type": "execute_result"
    }
   ],
   "source": [
    "data = pd.read_csv('KLD_Compustat.csv')\n",
    "data.shape"
   ]
  },
  {
   "cell_type": "code",
   "execution_count": 3,
   "metadata": {},
   "outputs": [
    {
     "name": "stdout",
     "output_type": "stream",
     "text": [
      "['ticker_KLD', 'cusip_KLD', 'companyname', 'year', 'date', 'permno', 'gvkey', 'datadate_x', 'fyear', 'cusip_x', 'ticker', 'companyid', 'env_str_a', 'env_str_b', 'env_str_c', 'env_str_d', 'env_str_f', 'env_str_x', 'env_str_num', 'env_con_a', 'env_con_b', 'env_con_c', 'env_con_d', 'env_con_e', 'env_con_x', 'env_con_num', 'com_str_a', 'com_str_b', 'com_str_c', 'com_str_x', 'com_str_num', 'com_con_a', 'com_con_b', 'com_con_d', 'com_con_x', 'com_con_num', 'hum_con_a', 'hum_con_b', 'hum_con_num', 'emp_str_a', 'emp_str_b', 'emp_str_c', 'emp_str_d', 'emp_str_f', 'emp_str_x', 'emp_str_num', 'emp_con_a', 'emp_con_b', 'emp_con_c', 'emp_con_x', 'emp_con_num', 'div_str_a', 'div_str_b', 'div_str_c', 'div_str_d', 'div_str_e', 'div_str_f', 'div_str_x', 'div_str_num', 'div_con_a', 'div_con_x', 'div_con_num', 'pro_str_a', 'pro_str_b', 'pro_str_c', 'pro_str_x', 'pro_str_num', 'pro_con_a', 'pro_con_d', 'pro_con_e', 'pro_con_x', 'pro_con_num', 'cgov_str_a', 'cgov_str_c', 'cgov_str_x', 'cgov_str_num', 'cgov_con_b', 'cgov_con_f', 'cgov_con_num', 'alc_con_a', 'gam_con_a', 'mil_con_a', 'mil_con_b', 'mil_con_c', 'mil_con_x', 'mil_con_num', 'nuc_con_a', 'nuc_con_c', 'nuc_con_d', 'nuc_con_x', 'nuc_con_num', 'tob_con_a', 'emp_con_d', 'cgov_con_x', 'div_con_b', 'com_str_d', 'com_str_f', 'hum_str_a', 'hum_str_x', 'hum_str_num', 'hum_con_c', 'hum_con_d', 'hum_con_x', 'div_str_g', 'cgov_str_d', 'alc_con_x', 'gam_con_x', 'alc_con_num', 'gam_con_num', 'tob_con_num', 'hum_con_f', 'fir_con_a', 'tob_con_x', 'env_con_f', 'hum_str_d', 'hum_con_g', 'hum_str_g', 'emp_str_g', 'com_str_g', 'cgov_str_e', 'cgov_con_g', 'cgov_con_h', 'cgov_con_i', 'env_str_g', 'cgov_str_f', 'cgov_con_j', 'env_con_g', 'env_con_h', 'env_con_i', 'com_str_h', 'hum_con_h', 'emp_str_h', 'emp_con_f', 'div_str_h', 'div_con_c', 'pro_str_d', 'cgov_con_k', 'env_str_h', 'env_str_i', 'env_str_j', 'env_con_j', 'env_con_k', 'hum_con_j', 'hum_con_k', 'emp_str_i', 'emp_str_j', 'emp_str_k', 'emp_str_l', 'emp_con_g', 'div_con_d', 'pro_con_f', 'cgov_str_g', 'cgov_str_h', 'gov_str_num', 'cgov_con_l', 'cgov_con_m', 'env_str_k', 'env_str_l', 'env_str_m', 'env_str_n', 'env_str_o', 'env_str_p', 'env_str_q', 'emp_str_m', 'emp_str_n', 'emp_con_h', 'pro_str_e', 'pro_str_f', 'pro_str_g', 'pro_str_h', 'pro_str_i', 'pro_str_j', 'pro_str_k', 'pro_con_g', 'domicile', 'cusip_orig', 'datadate_y', 'indfmt', 'consol', 'popsrc', 'datafmt', 'tic', 'cusip_y', 'conm', 'acctchg', 'acctstd', 'acqmeth', 'adrr', 'ajex', 'ajp', 'bspr', 'compst', 'curcd', 'curncd', 'currtr', 'curuscn', 'final', 'fyr', 'ismod', 'ltcm', 'ogm', 'pddur', 'scf', 'src', 'stalt', 'udpl', 'upd', 'apdedate', 'fdate', 'pdate', 'acchg', 'acco', 'accrt', 'acdo', 'aco', 'acodo', 'acominc', 'acox', 'acoxar', 'acqao', 'acqcshi', 'acqgdwl', 'acqic', 'acqintan', 'acqinvt', 'acqlntal', 'acqniintc', 'acqppe', 'acqsc', 'act', 'adpac', 'aedi', 'afudcc', 'afudci', 'aldo', 'am', 'amc', 'amdc', 'amgw', 'ano', 'ao', 'aocidergl', 'aociother', 'aocipen', 'aocisecgl', 'aodo', 'aol2', 'aoloch', 'aox', 'ap', 'apalch', 'apb', 'apc', 'apofs', 'aqa', 'aqc', 'aqd', 'aqeps', 'aqi', 'aqp', 'aqpl1', 'aqs', 'arb', 'arc', 'arce', 'arced', 'arceeps', 'artfs', 'at', 'aul3', 'autxr', 'balr', 'banlr', 'bast', 'bastr', 'batr', 'bcef', 'bclr', 'bcltbl', 'bcnlr', 'bcrbl', 'bct', 'bctbl', 'bctr', 'billexce', 'bkvlps', 'bltbl', 'ca', 'capr1', 'capr2', 'capr3', 'caps', 'capsft', 'capx', 'capxv', 'cb', 'cbi', 'cdpac', 'cdvc', 'ceiexbill', 'ceq', 'ceql', 'ceqt', 'cfbd', 'cfere', 'cfo', 'cfpdo', 'cga', 'cgri', 'cgti', 'cgui', 'ch', 'che', 'chech', 'chs', 'ci', 'cibegni', 'cicurr', 'cidergl', 'cimii', 'ciother', 'cipen', 'cisecgl', 'citotal', 'cld2', 'cld3', 'cld4', 'cld5', 'clfc', 'clfx', 'clg', 'clis', 'cll', 'cllc', 'clo', 'clrll', 'clt', 'cmp', 'cnltbl', 'cogs', 'cpcbl', 'cpdoi', 'cpnli', 'cppbl', 'cprei', 'crv', 'crvnli', 'cshfd', 'cshi', 'csho', 'cshpri', 'cshr', 'cshrc', 'cshrp', 'cshrso', 'cshrt', 'cshrw', 'cstk', 'cstkcv', 'cstke', 'dbi', 'dc', 'dclo', 'dcom', 'dcpstk', 'dcs', 'dcvsr', 'dcvsub', 'dcvt', 'dd', 'dd1', 'dd2', 'dd3', 'dd4', 'dd5', 'depc', 'derac', 'deralt', 'derhedgl', 'derlc', 'derllt', 'dfpac', 'dfs', 'dfxa', 'diladj', 'dilavx', 'dlc', 'dlcch', 'dltis', 'dlto', 'dltp', 'dltr', 'dltsub', 'dltt', 'dm', 'dn', 'do', 'donr', 'dp', 'dpacb', 'dpacc', 'dpacli', 'dpacls', 'dpacme', 'dpacnr', 'dpaco', 'dpacre', 'dpact', 'dpc', 'dpdc', 'dpltb', 'dpret', 'dpsc', 'dpstb', 'dptb', 'dptc', 'dptic', 'dpvieb', 'dpvio', 'dpvir', 'drc', 'drci', 'drlt', 'ds', 'dt', 'dtea', 'dted', 'dteeps', 'dtep', 'dudd', 'dv', 'dvc', 'dvdnp', 'dvintf', 'dvp', 'dvpa', 'dvpd', 'dvpdp', 'dvpibb', 'dvrpiv', 'dvrre', 'dvsco', 'dvt', 'dxd2', 'dxd3', 'dxd4', 'dxd5', 'ea', 'ebit', 'ebitda', 'eiea', 'emol', 'emp', 'epsfi', 'epsfx', 'epspi', 'epspx', 'esopct', 'esopdlt', 'esopnr', 'esopr', 'esopt', 'esub', 'esubc', 'excadj', 'exre', 'fatb', 'fatc', 'fatd', 'fate', 'fatl', 'fatn', 'fato', 'fatp', 'fca', 'fdfr', 'fea', 'fel', 'ffo', 'ffs', 'fiao', 'finaco', 'finao', 'fincf', 'finch', 'findlc', 'findlt', 'finivst', 'finlco', 'finlto', 'finnp', 'finrecc', 'finreclt', 'finrev', 'finxint', 'finxopr', 'fopo', 'fopox', 'fopt', 'fsrco', 'fsrct', 'fuseo', 'fuset', 'gbbl', 'gdwl', 'gdwlam', 'gdwlia', 'gdwlid', 'gdwlieps', 'gdwlip', 'geqrv', 'gla', 'glcea', 'glced', 'glceeps', 'glcep', 'gld', 'gleps', 'gliv', 'glp', 'govgr', 'govtown', 'gp', 'gphbl', 'gplbl', 'gpobl', 'gprbl', 'gptbl', 'gwo', 'hedgegl', 'iaeq', 'iaeqci', 'iaeqmi', 'iafici', 'iafxi', 'iafxmi', 'iali', 'ialoi', 'ialti', 'iamli', 'iaoi', 'iapli', 'iarei', 'iasci', 'iasmi', 'iassi', 'iasti', 'iatci', 'iati', 'iatmi', 'iaui', 'ib', 'ibadj', 'ibbl', 'ibc', 'ibcom', 'ibki', 'ibmii', 'icapt', 'idiis', 'idilb', 'idilc', 'idis', 'idist', 'idit', 'idits', 'iire', 'initb', 'intan', 'intano', 'intc', 'intpn', 'invch', 'invfg', 'invo', 'invofs', 'invreh', 'invrei', 'invres', 'invrm', 'invt', 'invwip', 'iobd', 'ioi', 'iore', 'ip', 'ipabl', 'ipc', 'iphbl', 'iplbl', 'ipobl', 'iptbl', 'ipti', 'ipv', 'irei', 'irent', 'irii', 'irli', 'irnli', 'irsi', 'iseq', 'iseqc', 'iseqm', 'isfi', 'isfxc', 'isfxm', 'isgr', 'isgt', 'isgu', 'islg', 'islgc', 'islgm', 'islt', 'isng', 'isngc', 'isngm', 'isotc', 'isoth', 'isotm', 'issc', 'issm', 'issu', 'ist', 'istc', 'istm', 'isut', 'itcb', 'itcc', 'itci', 'ivaco', 'ivaeq', 'ivao', 'ivch', 'ivgod', 'ivi', 'ivncf', 'ivpt', 'ivst', 'ivstch', 'lcabg', 'lcacl', 'lcacr', 'lcag', 'lcal', 'lcalt', 'lcam', 'lcao', 'lcast', 'lcat', 'lco', 'lcox', 'lcoxar', 'lcoxdr', 'lct', 'lcuacu', 'li', 'lif', 'lifr', 'lifrp', 'lloml', 'lloo', 'llot', 'llrci', 'llrcr', 'llwoci', 'llwocr', 'lno', 'lo', 'lol2', 'loxdr', 'lqpl1', 'lrv', 'ls', 'lse', 'lst', 'lt', 'lul3', 'mib', 'mibn', 'mibt', 'mii', 'mrc1', 'mrc2', 'mrc3', 'mrc4', 'mrc5', 'mrct', 'mrcta', 'msa', 'msvrv', 'mtl', 'nat', 'nco', 'nfsr', 'ni', 'niadj', 'nieci', 'niint', 'niintpfc', 'niintpfp', 'niit', 'nim', 'nio', 'nipfc', 'nipfp', 'nit', 'nits', 'nopi', 'nopio', 'np', 'npanl', 'npaore', 'nparl', 'npat', 'nrtxt', 'nrtxtd', 'nrtxteps', 'oancf', 'ob', 'oiadp', 'oibdp', 'opeps', 'opili', 'opincar', 'opini', 'opioi', 'opiri', 'opiti', 'oprepsx', 'optca', 'optdr', 'optex', 'optexd', 'optfvgr', 'optgr', 'optlife', 'optosby', 'optosey', 'optprcby', 'optprcca', 'optprcex', 'optprcey', 'optprcgr', 'optprcwa', 'optrfr', 'optvol', 'palr', 'panlr', 'patr', 'pcl', 'pclr', 'pcnlr', 'pctr', 'pdvc', 'pi', 'pidom', 'pifo', 'pll', 'pltbl', 'pnca', 'pncad', 'pncaeps', 'pncia', 'pncid', 'pncieps', 'pncip', 'pncwia', 'pncwid', 'pncwieps', 'pncwip', 'pnlbl', 'pnli', 'pnrsho', 'pobl', 'ppcbl', 'ppegt', 'ppenb', 'ppenc', 'ppenli', 'ppenls', 'ppenme', 'ppennr', 'ppeno', 'ppent', 'ppevbb', 'ppeveb', 'ppevo', 'ppevr', 'pppabl', 'ppphbl', 'pppobl', 'ppptbl', 'prc', 'prca', 'prcad', 'prcaeps', 'prebl', 'pri', 'prodv', 'prsho', 'prstkc', 'prstkcc', 'prstkpc', 'prvt', 'pstk', 'pstkc', 'pstkl', 'pstkn', 'pstkr', 'pstkrv', 'ptbl', 'ptran', 'pvcl', 'pvo', 'pvon', 'pvpl', 'pvt', 'pwoi', 'radp', 'ragr', 'rari', 'rati', 'rca', 'rcd', 'rceps', 'rcl', 'rcp', 'rdip', 'rdipa', 'rdipd', 'rdipeps', 'rdp', 're', 'rea', 'reajo', 'recch', 'recco', 'recd', 'rect', 'recta', 'rectr', 'recub', 'ret', 'reuna', 'reunr', 'revt', 'ris', 'rll', 'rlo', 'rlp', 'rlri', 'rlt', 'rmum', 'rpag', 'rra', 'rrd', 'rreps', 'rrp', 'rstche', 'rstchelt', 'rvbci', 'rvbpi', 'rvbti', 'rvdo', 'rvdt', 'rveqt', 'rvlrv', 'rvno', 'rvnt', 'rvri', 'rvsi', 'rvti', 'rvtxr', 'rvupi', 'rvutx', 'saa', 'sal', 'sale', 'salepfc', 'salepfp', 'sbdc', 'sc', 'sco', 'scstkc', 'secu', 'seq', 'seqo', 'seta', 'setd', 'seteps', 'setp', 'siv', 'spce', 'spced', 'spceeps', 'spi', 'spid', 'spieps', 'spioa', 'spiop', 'sppe', 'sppiv', 'spstkc', 'sret', 'srt', 'ssnp', 'sstk', 'stbo', 'stio', 'stkco', 'stkcpa', 'tdc', 'tdscd', 'tdsce', 'tdsg', 'tdslg', 'tdsmm', 'tdsng', 'tdso', 'tdss', 'tdst', 'teq', 'tf', 'tfva', 'tfvce', 'tfvl', 'tie', 'tii', 'tlcf', 'transa', 'tsa', 'tsafc', 'tso', 'tstk', 'tstkc', 'tstkme', 'tstkn', 'tstkp', 'txach', 'txbco', 'txbcof', 'txc', 'txdb', 'txdba', 'txdbca', 'txdbcl', 'txdc', 'txdfed', 'txdfo', 'txdi', 'txditc', 'txds', 'txeqa', 'txeqii', 'txfed', 'txfo', 'txndb', 'txndba', 'txndbl', 'txndbr', 'txo', 'txp', 'txpd', 'txr', 'txs', 'txt', 'txtubadjust', 'txtubbegin', 'txtubend', 'txtubmax', 'txtubmin', 'txtubposdec', 'txtubposinc', 'txtubpospdec', 'txtubpospinc', 'txtubsettle', 'txtubsoflimit', 'txtubtxtr', 'txtubxintbs', 'txtubxintis', 'txva', 'txw', 'uaoloch', 'uaox', 'uapt', 'ucaps', 'uccons', 'uceq', 'ucustad', 'udcopres', 'udd', 'udfcc', 'udmb', 'udolt', 'udpco', 'udpfa', 'udvp', 'ufretsd', 'ugi', 'ui', 'uinvt', 'ulcm', 'ulco', 'uniami', 'unl', 'unnp', 'unnpl', 'unopinc', 'unwcc', 'uois', 'uopi', 'uopres', 'updvp', 'upmcstk', 'upmpf', 'upmpfs', 'upmsubp', 'upstk', 'upstkc', 'upstksf', 'urect', 'urectr', 'urevub', 'uspi', 'ustdnc', 'usubdvp', 'usubpstk', 'utfdoc', 'utfosc', 'utme', 'utxfed', 'uwkcapc', 'uxinst', 'uxintd', 'vpac', 'vpo', 'wcap', 'wcapc', 'wcapch', 'wda', 'wdd', 'wdeps', 'wdp', 'xacc', 'xad', 'xago', 'xagt', 'xcom', 'xcomi', 'xdepl', 'xdp', 'xdvre', 'xeqo', 'xi', 'xido', 'xidoc', 'xindb', 'xindc', 'xins', 'xinst', 'xint', 'xintd', 'xintopt', 'xivi', 'xivre', 'xlr', 'xnbi', 'xnf', 'xnins', 'xnitb', 'xobd', 'xoi', 'xopr', 'xoprar', 'xoptd', 'xopteps', 'xore', 'xpp', 'xpr', 'xrd', 'xrdp', 'xrent', 'xs', 'xsga', 'xstf', 'xstfo', 'xstfws', 'xt', 'xuw', 'xuwli', 'xuwnli', 'xuwoi', 'xuwrei', 'xuwti', 'iid', 'exchg', 'cik', 'costat', 'fic', 'naicsh', 'sich', 'cshtr_c', 'dvpsp_c', 'dvpsx_c', 'prcc_c', 'prch_c', 'prcl_c', 'adjex_c', 'cshtr_f', 'dvpsp_f', 'dvpsx_f', 'mkvalt', 'prcc_f', 'prch_f', 'prcl_f', 'adjex_f', 'rank', 'au', 'auop', 'auopic', 'ceoso', 'cfoso']\n"
     ]
    }
   ],
   "source": [
    "print(data.columns.to_list())"
   ]
  },
  {
   "cell_type": "code",
   "execution_count": 4,
   "metadata": {},
   "outputs": [
    {
     "data": {
      "text/html": [
       "<div>\n",
       "<style scoped>\n",
       "    .dataframe tbody tr th:only-of-type {\n",
       "        vertical-align: middle;\n",
       "    }\n",
       "\n",
       "    .dataframe tbody tr th {\n",
       "        vertical-align: top;\n",
       "    }\n",
       "\n",
       "    .dataframe thead th {\n",
       "        text-align: right;\n",
       "    }\n",
       "</style>\n",
       "<table border=\"1\" class=\"dataframe\">\n",
       "  <thead>\n",
       "    <tr style=\"text-align: right;\">\n",
       "      <th></th>\n",
       "      <th>ticker_KLD</th>\n",
       "      <th>cusip_KLD</th>\n",
       "      <th>companyname</th>\n",
       "      <th>year</th>\n",
       "      <th>date</th>\n",
       "      <th>permno</th>\n",
       "      <th>gvkey</th>\n",
       "      <th>datadate_x</th>\n",
       "      <th>fyear</th>\n",
       "      <th>cusip_x</th>\n",
       "      <th>...</th>\n",
       "      <th>prcc_f</th>\n",
       "      <th>prch_f</th>\n",
       "      <th>prcl_f</th>\n",
       "      <th>adjex_f</th>\n",
       "      <th>rank</th>\n",
       "      <th>au</th>\n",
       "      <th>auop</th>\n",
       "      <th>auopic</th>\n",
       "      <th>ceoso</th>\n",
       "      <th>cfoso</th>\n",
       "    </tr>\n",
       "  </thead>\n",
       "  <tbody>\n",
       "    <tr>\n",
       "      <td>0</td>\n",
       "      <td>AIR</td>\n",
       "      <td>00036110</td>\n",
       "      <td>AAR CORPORATION</td>\n",
       "      <td>2003</td>\n",
       "      <td>2003-12-31</td>\n",
       "      <td>54594.0</td>\n",
       "      <td>1004</td>\n",
       "      <td>2004-05-31</td>\n",
       "      <td>2003.0</td>\n",
       "      <td>00036110</td>\n",
       "      <td>...</td>\n",
       "      <td>9.58</td>\n",
       "      <td>16.87</td>\n",
       "      <td>4.59</td>\n",
       "      <td>1.0</td>\n",
       "      <td>1.0</td>\n",
       "      <td>6.0</td>\n",
       "      <td>1.0</td>\n",
       "      <td>NaN</td>\n",
       "      <td>Y</td>\n",
       "      <td>Y</td>\n",
       "    </tr>\n",
       "    <tr>\n",
       "      <td>1</td>\n",
       "      <td>AIR</td>\n",
       "      <td>00036110</td>\n",
       "      <td>AAR CORPORATION</td>\n",
       "      <td>2004</td>\n",
       "      <td>2004-12-31</td>\n",
       "      <td>54594.0</td>\n",
       "      <td>1004</td>\n",
       "      <td>2005-05-31</td>\n",
       "      <td>2004.0</td>\n",
       "      <td>00036110</td>\n",
       "      <td>...</td>\n",
       "      <td>16.04</td>\n",
       "      <td>16.13</td>\n",
       "      <td>8.86</td>\n",
       "      <td>1.0</td>\n",
       "      <td>1.0</td>\n",
       "      <td>6.0</td>\n",
       "      <td>1.0</td>\n",
       "      <td>1.0</td>\n",
       "      <td>Y</td>\n",
       "      <td>Y</td>\n",
       "    </tr>\n",
       "    <tr>\n",
       "      <td>2</td>\n",
       "      <td>AIR</td>\n",
       "      <td>00036110</td>\n",
       "      <td>AAR CORPORATION</td>\n",
       "      <td>2005</td>\n",
       "      <td>2005-12-30</td>\n",
       "      <td>54594.0</td>\n",
       "      <td>1004</td>\n",
       "      <td>2006-05-31</td>\n",
       "      <td>2005.0</td>\n",
       "      <td>00036110</td>\n",
       "      <td>...</td>\n",
       "      <td>24.08</td>\n",
       "      <td>29.32</td>\n",
       "      <td>14.80</td>\n",
       "      <td>1.0</td>\n",
       "      <td>1.0</td>\n",
       "      <td>6.0</td>\n",
       "      <td>1.0</td>\n",
       "      <td>1.0</td>\n",
       "      <td>Y</td>\n",
       "      <td>Y</td>\n",
       "    </tr>\n",
       "    <tr>\n",
       "      <td>3</td>\n",
       "      <td>AIR</td>\n",
       "      <td>00036110</td>\n",
       "      <td>AAR CORPORATION</td>\n",
       "      <td>2006</td>\n",
       "      <td>2006-12-29</td>\n",
       "      <td>54594.0</td>\n",
       "      <td>1004</td>\n",
       "      <td>2007-05-31</td>\n",
       "      <td>2006.0</td>\n",
       "      <td>00036110</td>\n",
       "      <td>...</td>\n",
       "      <td>32.50</td>\n",
       "      <td>33.75</td>\n",
       "      <td>19.40</td>\n",
       "      <td>1.0</td>\n",
       "      <td>1.0</td>\n",
       "      <td>6.0</td>\n",
       "      <td>1.0</td>\n",
       "      <td>1.0</td>\n",
       "      <td>Y</td>\n",
       "      <td>Y</td>\n",
       "    </tr>\n",
       "    <tr>\n",
       "      <td>4</td>\n",
       "      <td>AIR</td>\n",
       "      <td>00036110</td>\n",
       "      <td>AAR CORPORATION</td>\n",
       "      <td>2007</td>\n",
       "      <td>2007-12-31</td>\n",
       "      <td>54594.0</td>\n",
       "      <td>1004</td>\n",
       "      <td>2008-05-31</td>\n",
       "      <td>2007.0</td>\n",
       "      <td>00036110</td>\n",
       "      <td>...</td>\n",
       "      <td>19.28</td>\n",
       "      <td>39.42</td>\n",
       "      <td>18.75</td>\n",
       "      <td>1.0</td>\n",
       "      <td>1.0</td>\n",
       "      <td>6.0</td>\n",
       "      <td>1.0</td>\n",
       "      <td>1.0</td>\n",
       "      <td>Y</td>\n",
       "      <td>Y</td>\n",
       "    </tr>\n",
       "    <tr>\n",
       "      <td>...</td>\n",
       "      <td>...</td>\n",
       "      <td>...</td>\n",
       "      <td>...</td>\n",
       "      <td>...</td>\n",
       "      <td>...</td>\n",
       "      <td>...</td>\n",
       "      <td>...</td>\n",
       "      <td>...</td>\n",
       "      <td>...</td>\n",
       "      <td>...</td>\n",
       "      <td>...</td>\n",
       "      <td>...</td>\n",
       "      <td>...</td>\n",
       "      <td>...</td>\n",
       "      <td>...</td>\n",
       "      <td>...</td>\n",
       "      <td>...</td>\n",
       "      <td>...</td>\n",
       "      <td>...</td>\n",
       "      <td>...</td>\n",
       "      <td>...</td>\n",
       "    </tr>\n",
       "    <tr>\n",
       "      <td>43326</td>\n",
       "      <td>FF</td>\n",
       "      <td>36116M10</td>\n",
       "      <td>FUTUREFUEL CORP.</td>\n",
       "      <td>2015</td>\n",
       "      <td>2015-12-31</td>\n",
       "      <td>12615.0</td>\n",
       "      <td>287462</td>\n",
       "      <td>2015-12-31</td>\n",
       "      <td>2015.0</td>\n",
       "      <td>36116M10</td>\n",
       "      <td>...</td>\n",
       "      <td>13.50</td>\n",
       "      <td>16.08</td>\n",
       "      <td>9.11</td>\n",
       "      <td>1.0</td>\n",
       "      <td>1.0</td>\n",
       "      <td>9.0</td>\n",
       "      <td>1.0</td>\n",
       "      <td>1.0</td>\n",
       "      <td>Y</td>\n",
       "      <td>Y</td>\n",
       "    </tr>\n",
       "    <tr>\n",
       "      <td>43327</td>\n",
       "      <td>FF</td>\n",
       "      <td>36116M10</td>\n",
       "      <td>FUTUREFUEL CORP.</td>\n",
       "      <td>2016</td>\n",
       "      <td>2016-12-30</td>\n",
       "      <td>12615.0</td>\n",
       "      <td>287462</td>\n",
       "      <td>2016-12-31</td>\n",
       "      <td>2016.0</td>\n",
       "      <td>36116M10</td>\n",
       "      <td>...</td>\n",
       "      <td>13.90</td>\n",
       "      <td>16.58</td>\n",
       "      <td>9.77</td>\n",
       "      <td>1.0</td>\n",
       "      <td>1.0</td>\n",
       "      <td>9.0</td>\n",
       "      <td>1.0</td>\n",
       "      <td>1.0</td>\n",
       "      <td>Y</td>\n",
       "      <td>Y</td>\n",
       "    </tr>\n",
       "    <tr>\n",
       "      <td>43328</td>\n",
       "      <td>PAH</td>\n",
       "      <td>72766Q10</td>\n",
       "      <td>PLATFORM SPECIALTY PRODUCTS CORPORATION</td>\n",
       "      <td>2014</td>\n",
       "      <td>2014-12-31</td>\n",
       "      <td>14406.0</td>\n",
       "      <td>315318</td>\n",
       "      <td>2014-12-31</td>\n",
       "      <td>2014.0</td>\n",
       "      <td>72766Q10</td>\n",
       "      <td>...</td>\n",
       "      <td>23.22</td>\n",
       "      <td>28.95</td>\n",
       "      <td>13.75</td>\n",
       "      <td>1.0</td>\n",
       "      <td>1.0</td>\n",
       "      <td>6.0</td>\n",
       "      <td>1.0</td>\n",
       "      <td>0.0</td>\n",
       "      <td>Y</td>\n",
       "      <td>Y</td>\n",
       "    </tr>\n",
       "    <tr>\n",
       "      <td>43329</td>\n",
       "      <td>PAH</td>\n",
       "      <td>72766Q10</td>\n",
       "      <td>PLATFORM SPECIALTY PRODUCTS CORPORATION</td>\n",
       "      <td>2015</td>\n",
       "      <td>2015-12-31</td>\n",
       "      <td>14406.0</td>\n",
       "      <td>315318</td>\n",
       "      <td>2015-12-31</td>\n",
       "      <td>2015.0</td>\n",
       "      <td>72766Q10</td>\n",
       "      <td>...</td>\n",
       "      <td>12.83</td>\n",
       "      <td>28.44</td>\n",
       "      <td>9.25</td>\n",
       "      <td>1.0</td>\n",
       "      <td>1.0</td>\n",
       "      <td>7.0</td>\n",
       "      <td>4.0</td>\n",
       "      <td>2.0</td>\n",
       "      <td>Y</td>\n",
       "      <td>Y</td>\n",
       "    </tr>\n",
       "    <tr>\n",
       "      <td>43330</td>\n",
       "      <td>PAH</td>\n",
       "      <td>72766Q10</td>\n",
       "      <td>PLATFORM SPECIALTY PRODUCTS CORPORATION</td>\n",
       "      <td>2016</td>\n",
       "      <td>2016-12-30</td>\n",
       "      <td>14406.0</td>\n",
       "      <td>315318</td>\n",
       "      <td>2016-12-31</td>\n",
       "      <td>2016.0</td>\n",
       "      <td>72766Q10</td>\n",
       "      <td>...</td>\n",
       "      <td>9.81</td>\n",
       "      <td>12.36</td>\n",
       "      <td>5.25</td>\n",
       "      <td>1.0</td>\n",
       "      <td>1.0</td>\n",
       "      <td>7.0</td>\n",
       "      <td>1.0</td>\n",
       "      <td>2.0</td>\n",
       "      <td>Y</td>\n",
       "      <td>Y</td>\n",
       "    </tr>\n",
       "  </tbody>\n",
       "</table>\n",
       "<p>43331 rows × 1122 columns</p>\n",
       "</div>"
      ],
      "text/plain": [
       "      ticker_KLD cusip_KLD                              companyname  year  \\\n",
       "0            AIR  00036110                          AAR CORPORATION  2003   \n",
       "1            AIR  00036110                          AAR CORPORATION  2004   \n",
       "2            AIR  00036110                          AAR CORPORATION  2005   \n",
       "3            AIR  00036110                          AAR CORPORATION  2006   \n",
       "4            AIR  00036110                          AAR CORPORATION  2007   \n",
       "...          ...       ...                                      ...   ...   \n",
       "43326         FF  36116M10                         FUTUREFUEL CORP.  2015   \n",
       "43327         FF  36116M10                         FUTUREFUEL CORP.  2016   \n",
       "43328        PAH  72766Q10  PLATFORM SPECIALTY PRODUCTS CORPORATION  2014   \n",
       "43329        PAH  72766Q10  PLATFORM SPECIALTY PRODUCTS CORPORATION  2015   \n",
       "43330        PAH  72766Q10  PLATFORM SPECIALTY PRODUCTS CORPORATION  2016   \n",
       "\n",
       "             date   permno   gvkey  datadate_x   fyear   cusip_x  ... prcc_f  \\\n",
       "0      2003-12-31  54594.0    1004  2004-05-31  2003.0  00036110  ...   9.58   \n",
       "1      2004-12-31  54594.0    1004  2005-05-31  2004.0  00036110  ...  16.04   \n",
       "2      2005-12-30  54594.0    1004  2006-05-31  2005.0  00036110  ...  24.08   \n",
       "3      2006-12-29  54594.0    1004  2007-05-31  2006.0  00036110  ...  32.50   \n",
       "4      2007-12-31  54594.0    1004  2008-05-31  2007.0  00036110  ...  19.28   \n",
       "...           ...      ...     ...         ...     ...       ...  ...    ...   \n",
       "43326  2015-12-31  12615.0  287462  2015-12-31  2015.0  36116M10  ...  13.50   \n",
       "43327  2016-12-30  12615.0  287462  2016-12-31  2016.0  36116M10  ...  13.90   \n",
       "43328  2014-12-31  14406.0  315318  2014-12-31  2014.0  72766Q10  ...  23.22   \n",
       "43329  2015-12-31  14406.0  315318  2015-12-31  2015.0  72766Q10  ...  12.83   \n",
       "43330  2016-12-30  14406.0  315318  2016-12-31  2016.0  72766Q10  ...   9.81   \n",
       "\n",
       "       prch_f  prcl_f  adjex_f  rank   au  auop  auopic  ceoso  cfoso  \n",
       "0       16.87    4.59      1.0   1.0  6.0   1.0     NaN      Y      Y  \n",
       "1       16.13    8.86      1.0   1.0  6.0   1.0     1.0      Y      Y  \n",
       "2       29.32   14.80      1.0   1.0  6.0   1.0     1.0      Y      Y  \n",
       "3       33.75   19.40      1.0   1.0  6.0   1.0     1.0      Y      Y  \n",
       "4       39.42   18.75      1.0   1.0  6.0   1.0     1.0      Y      Y  \n",
       "...       ...     ...      ...   ...  ...   ...     ...    ...    ...  \n",
       "43326   16.08    9.11      1.0   1.0  9.0   1.0     1.0      Y      Y  \n",
       "43327   16.58    9.77      1.0   1.0  9.0   1.0     1.0      Y      Y  \n",
       "43328   28.95   13.75      1.0   1.0  6.0   1.0     0.0      Y      Y  \n",
       "43329   28.44    9.25      1.0   1.0  7.0   4.0     2.0      Y      Y  \n",
       "43330   12.36    5.25      1.0   1.0  7.0   1.0     2.0      Y      Y  \n",
       "\n",
       "[43331 rows x 1122 columns]"
      ]
     },
     "execution_count": 4,
     "metadata": {},
     "output_type": "execute_result"
    }
   ],
   "source": [
    "data.sort_values(by=['gvkey', 'fyear'])"
   ]
  },
  {
   "cell_type": "markdown",
   "metadata": {},
   "source": [
    "Number of unique company based on _gvkey_ column:"
   ]
  },
  {
   "cell_type": "code",
   "execution_count": 5,
   "metadata": {},
   "outputs": [
    {
     "data": {
      "text/plain": [
       "5222"
      ]
     },
     "execution_count": 5,
     "metadata": {},
     "output_type": "execute_result"
    }
   ],
   "source": [
    "data.gvkey.nunique()"
   ]
  },
  {
   "cell_type": "markdown",
   "metadata": {},
   "source": [
    "## 4. Construct Overal KLD Indices\n",
    "### 4.1 Collect positive and negative performance indicator list\n",
    "Column names contains \"str\" (\"con\") corresponding to positive (negative) performance indicators, respectively."
   ]
  },
  {
   "cell_type": "code",
   "execution_count": 6,
   "metadata": {},
   "outputs": [
    {
     "data": {
      "text/plain": [
       "Index(['env_str_a', 'env_str_b', 'env_str_c', 'env_str_d', 'env_str_f',\n",
       "       'env_str_x', 'env_str_num', 'com_str_a', 'com_str_b', 'com_str_c',\n",
       "       'com_str_x', 'com_str_num', 'emp_str_a', 'emp_str_b', 'emp_str_c',\n",
       "       'emp_str_d', 'emp_str_f', 'emp_str_x', 'emp_str_num', 'div_str_a',\n",
       "       'div_str_b', 'div_str_c', 'div_str_d', 'div_str_e', 'div_str_f',\n",
       "       'div_str_x', 'div_str_num', 'pro_str_a', 'pro_str_b', 'pro_str_c',\n",
       "       'pro_str_x', 'pro_str_num', 'cgov_str_a', 'cgov_str_c', 'cgov_str_x',\n",
       "       'cgov_str_num', 'com_str_d', 'com_str_f', 'hum_str_a', 'hum_str_x',\n",
       "       'hum_str_num', 'div_str_g', 'cgov_str_d', 'hum_str_d', 'hum_str_g',\n",
       "       'emp_str_g', 'com_str_g', 'cgov_str_e', 'env_str_g', 'cgov_str_f',\n",
       "       'com_str_h', 'emp_str_h', 'div_str_h', 'pro_str_d', 'env_str_h',\n",
       "       'env_str_i', 'env_str_j', 'emp_str_i', 'emp_str_j', 'emp_str_k',\n",
       "       'emp_str_l', 'cgov_str_g', 'cgov_str_h', 'gov_str_num', 'env_str_k',\n",
       "       'env_str_l', 'env_str_m', 'env_str_n', 'env_str_o', 'env_str_p',\n",
       "       'env_str_q', 'emp_str_m', 'emp_str_n', 'pro_str_e', 'pro_str_f',\n",
       "       'pro_str_g', 'pro_str_h', 'pro_str_i', 'pro_str_j', 'pro_str_k'],\n",
       "      dtype='object')"
      ]
     },
     "execution_count": 6,
     "metadata": {},
     "output_type": "execute_result"
    }
   ],
   "source": [
    "data.columns[data.columns.str.contains(\"_str_\")]"
   ]
  },
  {
   "cell_type": "code",
   "execution_count": 7,
   "metadata": {},
   "outputs": [
    {
     "data": {
      "text/plain": [
       "80"
      ]
     },
     "execution_count": 7,
     "metadata": {},
     "output_type": "execute_result"
    }
   ],
   "source": [
    "sum(data.columns.str.contains(\"_str_\"))"
   ]
  },
  {
   "cell_type": "markdown",
   "metadata": {},
   "source": [
    "Column names contains \"_num\" represent total number of particular category indicators."
   ]
  },
  {
   "cell_type": "code",
   "execution_count": 8,
   "metadata": {},
   "outputs": [
    {
     "data": {
      "text/plain": [
       "Index(['env_str_num', 'com_str_num', 'emp_str_num', 'div_str_num',\n",
       "       'pro_str_num', 'cgov_str_num', 'hum_str_num', 'gov_str_num'],\n",
       "      dtype='object')"
      ]
     },
     "execution_count": 8,
     "metadata": {},
     "output_type": "execute_result"
    }
   ],
   "source": [
    "data.columns[data.columns.str.contains(\"str_num\")]"
   ]
  },
  {
   "cell_type": "code",
   "execution_count": 9,
   "metadata": {},
   "outputs": [
    {
     "data": {
      "text/plain": [
       "8"
      ]
     },
     "execution_count": 9,
     "metadata": {},
     "output_type": "execute_result"
    }
   ],
   "source": [
    "sum(data.columns.str.contains(\"str_num\"))"
   ]
  },
  {
   "cell_type": "code",
   "execution_count": 10,
   "metadata": {},
   "outputs": [
    {
     "data": {
      "text/plain": [
       "Index(['env_con_a', 'env_con_b', 'env_con_c', 'env_con_d', 'env_con_e',\n",
       "       'env_con_x', 'env_con_num', 'com_con_a', 'com_con_b', 'com_con_d',\n",
       "       'com_con_x', 'com_con_num', 'hum_con_a', 'hum_con_b', 'hum_con_num',\n",
       "       'emp_con_a', 'emp_con_b', 'emp_con_c', 'emp_con_x', 'emp_con_num',\n",
       "       'div_con_a', 'div_con_x', 'div_con_num', 'pro_con_a', 'pro_con_d',\n",
       "       'pro_con_e', 'pro_con_x', 'pro_con_num', 'cgov_con_b', 'cgov_con_f',\n",
       "       'cgov_con_num', 'alc_con_a', 'gam_con_a', 'mil_con_a', 'mil_con_b',\n",
       "       'mil_con_c', 'mil_con_x', 'mil_con_num', 'nuc_con_a', 'nuc_con_c',\n",
       "       'nuc_con_d', 'nuc_con_x', 'nuc_con_num', 'tob_con_a', 'emp_con_d',\n",
       "       'cgov_con_x', 'div_con_b', 'hum_con_c', 'hum_con_d', 'hum_con_x',\n",
       "       'alc_con_x', 'gam_con_x', 'alc_con_num', 'gam_con_num', 'tob_con_num',\n",
       "       'hum_con_f', 'fir_con_a', 'tob_con_x', 'env_con_f', 'hum_con_g',\n",
       "       'cgov_con_g', 'cgov_con_h', 'cgov_con_i', 'cgov_con_j', 'env_con_g',\n",
       "       'env_con_h', 'env_con_i', 'hum_con_h', 'emp_con_f', 'div_con_c',\n",
       "       'cgov_con_k', 'env_con_j', 'env_con_k', 'hum_con_j', 'hum_con_k',\n",
       "       'emp_con_g', 'div_con_d', 'pro_con_f', 'cgov_con_l', 'cgov_con_m',\n",
       "       'emp_con_h', 'pro_con_g'],\n",
       "      dtype='object')"
      ]
     },
     "execution_count": 10,
     "metadata": {},
     "output_type": "execute_result"
    }
   ],
   "source": [
    "data.columns[data.columns.str.contains(\"_con_\")]"
   ]
  },
  {
   "cell_type": "code",
   "execution_count": 11,
   "metadata": {},
   "outputs": [
    {
     "data": {
      "text/plain": [
       "82"
      ]
     },
     "execution_count": 11,
     "metadata": {},
     "output_type": "execute_result"
    }
   ],
   "source": [
    "sum(data.columns.str.contains(\"_con_\"))"
   ]
  },
  {
   "cell_type": "code",
   "execution_count": 12,
   "metadata": {},
   "outputs": [
    {
     "data": {
      "text/plain": [
       "Index(['env_con_num', 'com_con_num', 'hum_con_num', 'emp_con_num',\n",
       "       'div_con_num', 'pro_con_num', 'cgov_con_num', 'mil_con_num',\n",
       "       'nuc_con_num', 'alc_con_num', 'gam_con_num', 'tob_con_num'],\n",
       "      dtype='object')"
      ]
     },
     "execution_count": 12,
     "metadata": {},
     "output_type": "execute_result"
    }
   ],
   "source": [
    "data.columns[data.columns.str.contains(\"con_num\")]"
   ]
  },
  {
   "cell_type": "code",
   "execution_count": 13,
   "metadata": {},
   "outputs": [
    {
     "data": {
      "text/plain": [
       "12"
      ]
     },
     "execution_count": 13,
     "metadata": {},
     "output_type": "execute_result"
    }
   ],
   "source": [
    "sum(data.columns.str.contains(\"con_num\"))"
   ]
  },
  {
   "cell_type": "markdown",
   "metadata": {},
   "source": [
    "Collecting positive indicators using individual indicator method:"
   ]
  },
  {
   "cell_type": "code",
   "execution_count": 14,
   "metadata": {},
   "outputs": [
    {
     "data": {
      "text/plain": [
       "72"
      ]
     },
     "execution_count": 14,
     "metadata": {},
     "output_type": "execute_result"
    }
   ],
   "source": [
    "positive = data.columns[data.columns.str.contains(\"_str_\") & ~data.columns.str.contains(\"str_num\")]\n",
    "len(positive)"
   ]
  },
  {
   "cell_type": "code",
   "execution_count": 15,
   "metadata": {},
   "outputs": [
    {
     "data": {
      "text/plain": [
       "70"
      ]
     },
     "execution_count": 15,
     "metadata": {},
     "output_type": "execute_result"
    }
   ],
   "source": [
    "negative = data.columns[data.columns.str.contains(\"_con_\") & ~data.columns.str.contains(\"con_num\")]\n",
    "len(negative)"
   ]
  },
  {
   "cell_type": "markdown",
   "metadata": {},
   "source": [
    "### 4.2 Construct Overall KLD Indices"
   ]
  },
  {
   "cell_type": "markdown",
   "metadata": {},
   "source": [
    "Index by sum:"
   ]
  },
  {
   "cell_type": "code",
   "execution_count": 16,
   "metadata": {},
   "outputs": [],
   "source": [
    "data['positive'] = data[positive].sum(axis=1)\n",
    "data['negative'] = data[negative].sum(axis=1)"
   ]
  },
  {
   "cell_type": "markdown",
   "metadata": {},
   "source": [
    "Index by average:"
   ]
  },
  {
   "cell_type": "code",
   "execution_count": 17,
   "metadata": {},
   "outputs": [],
   "source": [
    "data['positive_avg'] = data[positive].mean(axis=1)\n",
    "data['negative_avg'] = data[negative].mean(axis=1)"
   ]
  },
  {
   "cell_type": "code",
   "execution_count": 18,
   "metadata": {},
   "outputs": [
    {
     "data": {
      "text/html": [
       "<div>\n",
       "<style scoped>\n",
       "    .dataframe tbody tr th:only-of-type {\n",
       "        vertical-align: middle;\n",
       "    }\n",
       "\n",
       "    .dataframe tbody tr th {\n",
       "        vertical-align: top;\n",
       "    }\n",
       "\n",
       "    .dataframe thead th {\n",
       "        text-align: right;\n",
       "    }\n",
       "</style>\n",
       "<table border=\"1\" class=\"dataframe\">\n",
       "  <thead>\n",
       "    <tr style=\"text-align: right;\">\n",
       "      <th></th>\n",
       "      <th>positive</th>\n",
       "      <th>negative</th>\n",
       "      <th>positive_avg</th>\n",
       "      <th>negative_avg</th>\n",
       "    </tr>\n",
       "  </thead>\n",
       "  <tbody>\n",
       "    <tr>\n",
       "      <td>0</td>\n",
       "      <td>0.0</td>\n",
       "      <td>1.0</td>\n",
       "      <td>0.000000</td>\n",
       "      <td>0.027778</td>\n",
       "    </tr>\n",
       "    <tr>\n",
       "      <td>1</td>\n",
       "      <td>0.0</td>\n",
       "      <td>3.0</td>\n",
       "      <td>0.000000</td>\n",
       "      <td>0.083333</td>\n",
       "    </tr>\n",
       "    <tr>\n",
       "      <td>2</td>\n",
       "      <td>0.0</td>\n",
       "      <td>4.0</td>\n",
       "      <td>0.000000</td>\n",
       "      <td>0.102564</td>\n",
       "    </tr>\n",
       "    <tr>\n",
       "      <td>3</td>\n",
       "      <td>0.0</td>\n",
       "      <td>4.0</td>\n",
       "      <td>0.000000</td>\n",
       "      <td>0.102564</td>\n",
       "    </tr>\n",
       "    <tr>\n",
       "      <td>4</td>\n",
       "      <td>0.0</td>\n",
       "      <td>4.0</td>\n",
       "      <td>0.000000</td>\n",
       "      <td>0.100000</td>\n",
       "    </tr>\n",
       "    <tr>\n",
       "      <td>...</td>\n",
       "      <td>...</td>\n",
       "      <td>...</td>\n",
       "      <td>...</td>\n",
       "      <td>...</td>\n",
       "    </tr>\n",
       "    <tr>\n",
       "      <td>43326</td>\n",
       "      <td>1.0</td>\n",
       "      <td>1.0</td>\n",
       "      <td>0.090909</td>\n",
       "      <td>0.028571</td>\n",
       "    </tr>\n",
       "    <tr>\n",
       "      <td>43327</td>\n",
       "      <td>1.0</td>\n",
       "      <td>1.0</td>\n",
       "      <td>0.125000</td>\n",
       "      <td>0.028571</td>\n",
       "    </tr>\n",
       "    <tr>\n",
       "      <td>43328</td>\n",
       "      <td>0.0</td>\n",
       "      <td>0.0</td>\n",
       "      <td>0.000000</td>\n",
       "      <td>0.000000</td>\n",
       "    </tr>\n",
       "    <tr>\n",
       "      <td>43329</td>\n",
       "      <td>0.0</td>\n",
       "      <td>1.0</td>\n",
       "      <td>0.000000</td>\n",
       "      <td>0.028571</td>\n",
       "    </tr>\n",
       "    <tr>\n",
       "      <td>43330</td>\n",
       "      <td>1.0</td>\n",
       "      <td>1.0</td>\n",
       "      <td>0.142857</td>\n",
       "      <td>0.028571</td>\n",
       "    </tr>\n",
       "  </tbody>\n",
       "</table>\n",
       "<p>43331 rows × 4 columns</p>\n",
       "</div>"
      ],
      "text/plain": [
       "       positive  negative  positive_avg  negative_avg\n",
       "0           0.0       1.0      0.000000      0.027778\n",
       "1           0.0       3.0      0.000000      0.083333\n",
       "2           0.0       4.0      0.000000      0.102564\n",
       "3           0.0       4.0      0.000000      0.102564\n",
       "4           0.0       4.0      0.000000      0.100000\n",
       "...         ...       ...           ...           ...\n",
       "43326       1.0       1.0      0.090909      0.028571\n",
       "43327       1.0       1.0      0.125000      0.028571\n",
       "43328       0.0       0.0      0.000000      0.000000\n",
       "43329       0.0       1.0      0.000000      0.028571\n",
       "43330       1.0       1.0      0.142857      0.028571\n",
       "\n",
       "[43331 rows x 4 columns]"
      ]
     },
     "execution_count": 18,
     "metadata": {},
     "output_type": "execute_result"
    }
   ],
   "source": [
    "data[['positive', 'negative', 'positive_avg', 'negative_avg']]"
   ]
  },
  {
   "cell_type": "code",
   "execution_count": 63,
   "metadata": {},
   "outputs": [],
   "source": [
    "data['KLD Index'] = data['positive'] - data['negative']\n",
    "data['KLD Index Norm'] = (data['positive'] - data['negative'])/(data['positive'] + data['negative'])"
   ]
  },
  {
   "cell_type": "code",
   "execution_count": 82,
   "metadata": {
    "scrolled": true
   },
   "outputs": [
    {
     "data": {
      "text/plain": [
       "<matplotlib.axes._subplots.AxesSubplot at 0x11ac632b0>"
      ]
     },
     "execution_count": 82,
     "metadata": {},
     "output_type": "execute_result"
    },
    {
     "data": {
      "image/png": "[encoded data removed]",
      "text/plain": [
       "<Figure size 432x288 with 1 Axes>"
      ]
     },
     "metadata": {
      "needs_background": "light"
     },
     "output_type": "display_data"
    }
   ],
   "source": [
    "data['KLD Index'].hist(bins=31, align='left')"
   ]
  },
  {
   "cell_type": "markdown",
   "metadata": {},
   "source": [
    "Check and fix division by zero in normalized index:"
   ]
  },
  {
   "cell_type": "code",
   "execution_count": 144,
   "metadata": {},
   "outputs": [
    {
     "data": {
      "text/plain": [
       "5327"
      ]
     },
     "execution_count": 144,
     "metadata": {},
     "output_type": "execute_result"
    }
   ],
   "source": [
    "((data['positive']==0) & (data['negative']==0)).sum()"
   ]
  },
  {
   "cell_type": "code",
   "execution_count": 128,
   "metadata": {},
   "outputs": [
    {
     "data": {
      "text/plain": [
       "5327"
      ]
     },
     "execution_count": 128,
     "metadata": {},
     "output_type": "execute_result"
    }
   ],
   "source": [
    "((data['positive'] + data['negative']) ==0).sum()"
   ]
  },
  {
   "cell_type": "code",
   "execution_count": 129,
   "metadata": {},
   "outputs": [
    {
     "data": {
      "text/plain": [
       "10462"
      ]
     },
     "execution_count": 129,
     "metadata": {},
     "output_type": "execute_result"
    }
   ],
   "source": [
    "((data['positive'] - data['negative'])==0).sum()"
   ]
  },
  {
   "cell_type": "code",
   "execution_count": 130,
   "metadata": {},
   "outputs": [
    {
     "data": {
      "text/plain": [
       "0"
      ]
     },
     "execution_count": 130,
     "metadata": {},
     "output_type": "execute_result"
    }
   ],
   "source": [
    "data['KLD Index Norm'].isna().sum()"
   ]
  },
  {
   "cell_type": "code",
   "execution_count": 132,
   "metadata": {},
   "outputs": [],
   "source": [
    "data['KLD Index Norm'].fillna(0, inplace=True) # set division by 0 result NaN to zero"
   ]
  },
  {
   "cell_type": "code",
   "execution_count": 155,
   "metadata": {
    "scrolled": false
   },
   "outputs": [
    {
     "data": {
      "text/plain": [
       "<matplotlib.axes._subplots.AxesSubplot at 0x11fd559b0>"
      ]
     },
     "execution_count": 155,
     "metadata": {},
     "output_type": "execute_result"
    },
    {
     "data": {
      "image/png": "[encoded data removed]",
      "text/plain": [
       "<Figure size 432x288 with 1 Axes>"
      ]
     },
     "metadata": {
      "needs_background": "light"
     },
     "output_type": "display_data"
    }
   ],
   "source": [
    "data['KLD Index Norm'].hist(bins=30, align='mid')"
   ]
  },
  {
   "cell_type": "code",
   "execution_count": 131,
   "metadata": {},
   "outputs": [
    {
     "data": {
      "text/plain": [
       "10462"
      ]
     },
     "execution_count": 131,
     "metadata": {},
     "output_type": "execute_result"
    }
   ],
   "source": [
    "(data['KLD Index Norm']==0).sum()"
   ]
  },
  {
   "cell_type": "markdown",
   "metadata": {},
   "source": [
    "It can be skewed by the controversial issues. It does not preserve order of KLD Index. Say within +1, there are firms having zero negative with any positive values. This means they cannot be compared across within the same number."
   ]
  },
  {
   "cell_type": "code",
   "execution_count": 138,
   "metadata": {},
   "outputs": [
    {
     "data": {
      "text/plain": [
       "12275"
      ]
     },
     "execution_count": 138,
     "metadata": {},
     "output_type": "execute_result"
    }
   ],
   "source": [
    "(data['negative']==0).sum()"
   ]
  },
  {
   "cell_type": "code",
   "execution_count": 145,
   "metadata": {},
   "outputs": [
    {
     "data": {
      "text/plain": [
       "6948"
      ]
     },
     "execution_count": 145,
     "metadata": {},
     "output_type": "execute_result"
    }
   ],
   "source": [
    "((data['positive']!=0) & (data['negative']==0)).sum()"
   ]
  },
  {
   "cell_type": "code",
   "execution_count": 140,
   "metadata": {},
   "outputs": [
    {
     "data": {
      "text/plain": [
       "6948"
      ]
     },
     "execution_count": 140,
     "metadata": {},
     "output_type": "execute_result"
    }
   ],
   "source": [
    "12275 - 5327"
   ]
  },
  {
   "cell_type": "code",
   "execution_count": 141,
   "metadata": {},
   "outputs": [
    {
     "data": {
      "text/plain": [
       "5135"
      ]
     },
     "execution_count": 141,
     "metadata": {},
     "output_type": "execute_result"
    }
   ],
   "source": [
    "10462 - 5327"
   ]
  },
  {
   "cell_type": "code",
   "execution_count": 22,
   "metadata": {},
   "outputs": [
    {
     "data": {
      "text/plain": [
       "<matplotlib.axes._subplots.AxesSubplot at 0x119d0cd68>"
      ]
     },
     "execution_count": 22,
     "metadata": {},
     "output_type": "execute_result"
    },
    {
     "data": {
      "image/png": "[encoded data removed]",
      "text/plain": [
       "<Figure size 432x288 with 1 Axes>"
      ]
     },
     "metadata": {
      "needs_background": "light"
     },
     "output_type": "display_data"
    }
   ],
   "source": [
    "data['positive'].hist(bins=30)"
   ]
  },
  {
   "cell_type": "code",
   "execution_count": 25,
   "metadata": {},
   "outputs": [
    {
     "data": {
      "text/plain": [
       "<matplotlib.axes._subplots.AxesSubplot at 0x11a1ab208>"
      ]
     },
     "execution_count": 25,
     "metadata": {},
     "output_type": "execute_result"
    },
    {
     "data": {
      "image/png": "[encoded data removed]",
      "text/plain": [
       "<Figure size 432x288 with 1 Axes>"
      ]
     },
     "metadata": {
      "needs_background": "light"
     },
     "output_type": "display_data"
    }
   ],
   "source": [
    "data['negative'].hist(bins=30)"
   ]
  },
  {
   "cell_type": "code",
   "execution_count": 26,
   "metadata": {},
   "outputs": [
    {
     "data": {
      "text/plain": [
       "count     43331.000000\n",
       "mean         -0.183471\n",
       "std           2.427169\n",
       "min         -12.000000\n",
       "25%          -2.000000\n",
       "50%           0.000000\n",
       "75%           1.000000\n",
       "max          19.000000\n",
       "median        0.000000\n",
       "Name: KLD Index, dtype: float64"
      ]
     },
     "execution_count": 26,
     "metadata": {},
     "output_type": "execute_result"
    }
   ],
   "source": [
    "KLD_summary = data['KLD Index'].describe()\n",
    "KLD_summary['median'] = data['KLD Index'].median()\n",
    "KLD_summary"
   ]
  },
  {
   "cell_type": "markdown",
   "metadata": {},
   "source": [
    "### 4.3 Collect ESG level positive and negative performance indicator list\n",
    "Column names contains \"str\" (\"con\") corresponding to positive (negative) performance indicators, respectively."
   ]
  },
  {
   "cell_type": "markdown",
   "metadata": {},
   "source": [
    "#### 4.3.1 Environment Performance Indicators:"
   ]
  },
  {
   "cell_type": "code",
   "execution_count": 27,
   "metadata": {},
   "outputs": [],
   "source": [
    "E_pos = data.columns[data.columns.str.contains(\"env_str\") & ~data.columns.str.contains(\"env_str_num\")]\n",
    "data['E_pos'] = data[E_pos].sum(axis=1)\n",
    "data['E_pos_avg'] = data[E_pos].mean(axis=1)"
   ]
  },
  {
   "cell_type": "code",
   "execution_count": 38,
   "metadata": {},
   "outputs": [],
   "source": [
    "E_neg = data.columns[data.columns.str.contains(\"env_con\") & ~data.columns.str.contains(\"env_con_num\")]\n",
    "data['E_neg'] = data[E_neg].sum(axis=1)\n",
    "data['E_neg_avg'] = data[E_neg].mean(axis=1)"
   ]
  },
  {
   "cell_type": "code",
   "execution_count": 51,
   "metadata": {},
   "outputs": [],
   "source": [
    "data['E Index'] = data['E_pos'] - data['E_neg']"
   ]
  },
  {
   "cell_type": "code",
   "execution_count": 159,
   "metadata": {},
   "outputs": [
    {
     "data": {
      "text/plain": [
       "<matplotlib.axes._subplots.AxesSubplot at 0x120045f60>"
      ]
     },
     "execution_count": 159,
     "metadata": {},
     "output_type": "execute_result"
    },
    {
     "data": {
      "image/png": "[encoded data removed]",
      "text/plain": [
       "<Figure size 432x288 with 1 Axes>"
      ]
     },
     "metadata": {
      "needs_background": "light"
     },
     "output_type": "display_data"
    }
   ],
   "source": [
    "data['E Index'].hist(bins=11, align='left')"
   ]
  },
  {
   "cell_type": "code",
   "execution_count": 160,
   "metadata": {},
   "outputs": [
    {
     "data": {
      "text/plain": [
       "count     43331.000000\n",
       "mean          0.042764\n",
       "std           0.800844\n",
       "min          -5.000000\n",
       "25%           0.000000\n",
       "50%           0.000000\n",
       "75%           0.000000\n",
       "max           6.000000\n",
       "median        0.000000\n",
       "Name: E Index, dtype: float64"
      ]
     },
     "execution_count": 160,
     "metadata": {},
     "output_type": "execute_result"
    }
   ],
   "source": [
    "E_summary = data['E Index'].describe()\n",
    "E_summary['median'] = data['E Index'].median()\n",
    "E_summary"
   ]
  },
  {
   "cell_type": "markdown",
   "metadata": {},
   "source": [
    "#### 4.3.2 Social Performance Indicators:"
   ]
  },
  {
   "cell_type": "code",
   "execution_count": 165,
   "metadata": {},
   "outputs": [],
   "source": [
    "S_pos = data.columns[data.columns.str.contains(\"com_str\") & ~data.columns.str.contains(\"com_str_num\") |\n",
    "                     data.columns.str.contains(\"hum_str\") & ~data.columns.str.contains(\"hum_str_num\") |\n",
    "                     data.columns.str.contains(\"emp_str\") & ~data.columns.str.contains(\"emp_str_num\") |\n",
    "                     data.columns.str.contains(\"div_str\") & ~data.columns.str.contains(\"div_str_num\") |\n",
    "                     data.columns.str.contains(\"pro_str\") & ~data.columns.str.contains(\"pro_str_num\")]\n",
    "data['S_pos'] = data[S_pos].sum(axis=1)\n",
    "\n",
    "S_neg = data.columns[data.columns.str.contains(\"com_con\") & ~data.columns.str.contains(\"com_con_num\") |\n",
    "                     data.columns.str.contains(\"hum_con\") & ~data.columns.str.contains(\"hum_con_num\") |\n",
    "                     data.columns.str.contains(\"emp_con\") & ~data.columns.str.contains(\"emp_con_num\") |\n",
    "                     data.columns.str.contains(\"div_con\") & ~data.columns.str.contains(\"div_con_num\") |\n",
    "                     data.columns.str.contains(\"pro_con\") & ~data.columns.str.contains(\"pro_con_num\")]\n",
    "data['S_neg'] = data[S_neg].sum(axis=1)\n",
    "\n",
    "data['S Index'] = data['S_pos'] - data['S_neg']"
   ]
  },
  {
   "cell_type": "code",
   "execution_count": 201,
   "metadata": {},
   "outputs": [
    {
     "data": {
      "text/plain": [
       "<matplotlib.axes._subplots.AxesSubplot at 0x12c3ec278>"
      ]
     },
     "execution_count": 201,
     "metadata": {},
     "output_type": "execute_result"
    },
    {
     "data": {
      "image/png": "[encoded data removed]",
      "text/plain": [
       "<Figure size 432x288 with 1 Axes>"
      ]
     },
     "metadata": {
      "needs_background": "light"
     },
     "output_type": "display_data"
    }
   ],
   "source": [
    "data['S Index'].hist(bins=24, align='left')"
   ]
  },
  {
   "cell_type": "code",
   "execution_count": 202,
   "metadata": {},
   "outputs": [
    {
     "data": {
      "text/plain": [
       "count     43331.000000\n",
       "mean          0.062842\n",
       "std           1.918233\n",
       "min         -10.000000\n",
       "25%          -1.000000\n",
       "50%           0.000000\n",
       "75%           1.000000\n",
       "max          14.000000\n",
       "median        0.000000\n",
       "Name: S Index, dtype: float64"
      ]
     },
     "execution_count": 202,
     "metadata": {},
     "output_type": "execute_result"
    }
   ],
   "source": [
    "S_summary = data['S Index'].describe()\n",
    "S_summary['median'] = data['S Index'].median()\n",
    "S_summary"
   ]
  },
  {
   "cell_type": "markdown",
   "metadata": {},
   "source": [
    "#### 4.3.3 Governance Performance Indicators:"
   ]
  },
  {
   "cell_type": "code",
   "execution_count": 203,
   "metadata": {},
   "outputs": [],
   "source": [
    "G_pos = data.columns[data.columns.str.contains(\"cgov_str\") & ~data.columns.str.contains(\"cgov_str_num\")]\n",
    "data['G_pos'] = data[G_pos].sum(axis=1)\n",
    "\n",
    "G_neg = data.columns[data.columns.str.contains(\"cgov_con\") & ~data.columns.str.contains(\"cgov_con_num\")]\n",
    "data['G_neg'] = data[G_neg].sum(axis=1)\n",
    "\n",
    "data['G Index'] = data['G_pos'] - data['G_neg']"
   ]
  },
  {
   "cell_type": "code",
   "execution_count": 207,
   "metadata": {},
   "outputs": [
    {
     "data": {
      "text/plain": [
       "<matplotlib.axes._subplots.AxesSubplot at 0x12cfac9b0>"
      ]
     },
     "execution_count": 207,
     "metadata": {},
     "output_type": "execute_result"
    },
    {
     "data": {
      "image/png": "[encoded data removed]",
      "text/plain": [
       "<Figure size 432x288 with 1 Axes>"
      ]
     },
     "metadata": {
      "needs_background": "light"
     },
     "output_type": "display_data"
    }
   ],
   "source": [
    "data['G Index'].hist(bins=7, align='left')"
   ]
  },
  {
   "cell_type": "code",
   "execution_count": 205,
   "metadata": {},
   "outputs": [
    {
     "data": {
      "text/plain": [
       "count     43331.000000\n",
       "mean         -0.178394\n",
       "std           0.662138\n",
       "min          -4.000000\n",
       "25%          -1.000000\n",
       "50%           0.000000\n",
       "75%           0.000000\n",
       "max           3.000000\n",
       "median        0.000000\n",
       "Name: G Index, dtype: float64"
      ]
     },
     "execution_count": 205,
     "metadata": {},
     "output_type": "execute_result"
    }
   ],
   "source": [
    "G_summary = data['G Index'].describe()\n",
    "G_summary['median'] = data['G Index'].median()\n",
    "G_summary"
   ]
  },
  {
   "cell_type": "markdown",
   "metadata": {},
   "source": [
    "#### 4.3.4 Controversial Business Involvement Indicators:\n",
    "<div class=\"alert alert-block alert-warning\">\n",
    "<b>Warning:</b> \"fir\" has no \"fir_con_num\" so do NOT use \"_num\" columns to calculate aggregates.\n",
    "</div>"
   ]
  },
  {
   "cell_type": "code",
   "execution_count": 210,
   "metadata": {},
   "outputs": [],
   "source": [
    "Controv = data.columns[data.columns.str.contains(\"alc_\") & ~data.columns.str.contains(\"alc_con_num\") |\n",
    "                       data.columns.str.contains(\"fir_\") & ~data.columns.str.contains(\"fir_con_num\") |\n",
    "                       data.columns.str.contains(\"gam_\") & ~data.columns.str.contains(\"gam_con_num\") |\n",
    "                       data.columns.str.contains(\"mil_\") & ~data.columns.str.contains(\"mil_con_num\") |\n",
    "                       data.columns.str.contains(\"nuc_\") & ~data.columns.str.contains(\"nuc_con_num\") |\n",
    "                       data.columns.str.contains(\"tob_\") & ~data.columns.str.contains(\"tob_con_num\")]\n",
    "data['Controv'] = data[Controv].sum(axis=1)\n",
    "data['Controv Index'] = - data['Controv']"
   ]
  },
  {
   "cell_type": "code",
   "execution_count": 247,
   "metadata": {},
   "outputs": [
    {
     "data": {
      "text/plain": [
       "<matplotlib.axes._subplots.AxesSubplot at 0x12fc01ac8>"
      ]
     },
     "execution_count": 247,
     "metadata": {},
     "output_type": "execute_result"
    },
    {
     "data": {
      "image/png": "[encoded data removed]",
      "text/plain": [
       "<Figure size 432x288 with 1 Axes>"
      ]
     },
     "metadata": {
      "needs_background": "light"
     },
     "output_type": "display_data"
    }
   ],
   "source": [
    "data['Controv Index'].hist(bins=4)"
   ]
  },
  {
   "cell_type": "code",
   "execution_count": 213,
   "metadata": {},
   "outputs": [
    {
     "data": {
      "text/plain": [
       "count     43331.000000\n",
       "mean         -0.110683\n",
       "std           0.354626\n",
       "min          -3.000000\n",
       "25%          -0.000000\n",
       "50%          -0.000000\n",
       "75%          -0.000000\n",
       "max          -0.000000\n",
       "median        0.000000\n",
       "Name: Controv Index, dtype: float64"
      ]
     },
     "execution_count": 213,
     "metadata": {},
     "output_type": "execute_result"
    }
   ],
   "source": [
    "Controv_summary = data['Controv Index'].describe()\n",
    "Controv_summary['median'] = data['Controv Index'].median()\n",
    "Controv_summary"
   ]
  },
  {
   "cell_type": "markdown",
   "metadata": {},
   "source": [
    "### 4.4 Construct Aggregate KLD Index from ESG & Controversial granular level"
   ]
  },
  {
   "cell_type": "code",
   "execution_count": 249,
   "metadata": {},
   "outputs": [],
   "source": [
    "data['ESG_pos'] = data['E_pos'] + data['S_pos'] + data['G_pos']\n",
    "data['ESG_neg'] = data['E_neg'] + data['S_neg'] + data['G_neg'] + data['Controv']\n",
    "data['ESG Pos-Neg Index'] = data['ESG_pos'] - data['ESG_neg']\n",
    "data['ESG Agg Index'] = data['E Index'] + data['S Index'] + data['G Index'] + data['Controv Index']"
   ]
  },
  {
   "cell_type": "code",
   "execution_count": 250,
   "metadata": {},
   "outputs": [
    {
     "data": {
      "text/plain": [
       "count    43331.000000\n",
       "mean        -0.183471\n",
       "std          2.427169\n",
       "min        -12.000000\n",
       "25%         -2.000000\n",
       "50%          0.000000\n",
       "75%          1.000000\n",
       "max         19.000000\n",
       "Name: ESG Pos-Neg Index, dtype: float64"
      ]
     },
     "execution_count": 250,
     "metadata": {},
     "output_type": "execute_result"
    }
   ],
   "source": [
    "data['ESG Pos-Neg Index'].describe()"
   ]
  },
  {
   "cell_type": "code",
   "execution_count": 251,
   "metadata": {},
   "outputs": [
    {
     "data": {
      "text/plain": [
       "count    43331.000000\n",
       "mean        -0.183471\n",
       "std          2.427169\n",
       "min        -12.000000\n",
       "25%         -2.000000\n",
       "50%          0.000000\n",
       "75%          1.000000\n",
       "max         19.000000\n",
       "Name: ESG Agg Index, dtype: float64"
      ]
     },
     "execution_count": 251,
     "metadata": {},
     "output_type": "execute_result"
    }
   ],
   "source": [
    "data['ESG Agg Index'].describe()"
   ]
  },
  {
   "cell_type": "code",
   "execution_count": 252,
   "metadata": {},
   "outputs": [
    {
     "data": {
      "text/plain": [
       "count    43331.000000\n",
       "mean        -0.183471\n",
       "std          2.427169\n",
       "min        -12.000000\n",
       "25%         -2.000000\n",
       "50%          0.000000\n",
       "75%          1.000000\n",
       "max         19.000000\n",
       "Name: KLD Index, dtype: float64"
      ]
     },
     "execution_count": 252,
     "metadata": {},
     "output_type": "execute_result"
    }
   ],
   "source": [
    "data['KLD Index'].describe()"
   ]
  },
  {
   "cell_type": "markdown",
   "metadata": {},
   "source": [
    "#### 4.4.1 Check that the aggregate results are the same using different methods above:"
   ]
  },
  {
   "cell_type": "code",
   "execution_count": 260,
   "metadata": {},
   "outputs": [
    {
     "data": {
      "text/plain": [
       "True"
      ]
     },
     "execution_count": 260,
     "metadata": {},
     "output_type": "execute_result"
    }
   ],
   "source": [
    "data['ESG Pos-Neg Index'].equals(data['ESG Agg Index'])"
   ]
  },
  {
   "cell_type": "code",
   "execution_count": 261,
   "metadata": {},
   "outputs": [
    {
     "data": {
      "text/plain": [
       "True"
      ]
     },
     "execution_count": 261,
     "metadata": {},
     "output_type": "execute_result"
    }
   ],
   "source": [
    "data['KLD Index'].equals(data['ESG Agg Index'])"
   ]
  },
  {
   "cell_type": "code",
   "execution_count": 263,
   "metadata": {},
   "outputs": [
    {
     "data": {
      "text/plain": [
       "True"
      ]
     },
     "execution_count": 263,
     "metadata": {},
     "output_type": "execute_result"
    }
   ],
   "source": [
    "data['ESG Pos-Neg Index'].describe().equals(data['ESG Agg Index'].describe())"
   ]
  },
  {
   "cell_type": "code",
   "execution_count": 264,
   "metadata": {},
   "outputs": [
    {
     "data": {
      "text/plain": [
       "True"
      ]
     },
     "execution_count": 264,
     "metadata": {},
     "output_type": "execute_result"
    }
   ],
   "source": [
    "data['KLD Index'].describe().equals(data['ESG Agg Index'].describe())"
   ]
  },
  {
   "cell_type": "markdown",
   "metadata": {},
   "source": [
    "#### 4.4.2 Check that the positive and negative indicator lists are the same using different methods above:"
   ]
  },
  {
   "cell_type": "code",
   "execution_count": 265,
   "metadata": {},
   "outputs": [
    {
     "data": {
      "text/plain": [
       "True"
      ]
     },
     "execution_count": 265,
     "metadata": {},
     "output_type": "execute_result"
    }
   ],
   "source": [
    "set(positive) == set(E_pos.append(S_pos).append(G_pos))"
   ]
  },
  {
   "cell_type": "code",
   "execution_count": 266,
   "metadata": {},
   "outputs": [
    {
     "data": {
      "text/plain": [
       "True"
      ]
     },
     "execution_count": 266,
     "metadata": {},
     "output_type": "execute_result"
    }
   ],
   "source": [
    "set(negative) == set(E_neg.append(S_neg).append(G_neg).append(Controv))"
   ]
  },
  {
   "cell_type": "code",
   "execution_count": null,
   "metadata": {},
   "outputs": [],
   "source": []
  }
 ],
 "metadata": {
  "kernelspec": {
   "display_name": "Python 3",
   "language": "python",
   "name": "python3"
  },
  "language_info": {
   "codemirror_mode": {
    "name": "ipython",
    "version": 3
   },
   "file_extension": ".py",
   "mimetype": "text/x-python",
   "name": "python",
   "nbconvert_exporter": "python",
   "pygments_lexer": "ipython3",
   "version": "3.6.10"
  }
 },
 "nbformat": 4,
 "nbformat_minor": 2
}
